{
  "nbformat": 4,
  "nbformat_minor": 0,
  "metadata": {
    "colab": {
      "provenance": [],
      "include_colab_link": true
    },
    "kernelspec": {
      "name": "python3",
      "display_name": "Python 3"
    }
  },
  "cells": [
    {
      "cell_type": "markdown",
      "metadata": {
        "id": "view-in-github",
        "colab_type": "text"
      },
      "source": [
        "<a href=\"https://colab.research.google.com/github/Viny2030/UNED/blob/main/practica03Wikipedia_API_for_Python.ipynb\" target=\"_parent\"><img src=\"https://colab.research.google.com/assets/colab-badge.svg\" alt=\"Open In Colab\"/></a>"
      ]
    },
    {
      "cell_type": "markdown",
      "metadata": {
        "id": "Ko5a1q2y1cOl"
      },
      "source": [
        "# Wikipedia API for Python\n"
      ]
    },
    {
      "cell_type": "markdown",
      "metadata": {
        "id": "rCQjrE2n1drg"
      },
      "source": [
        "## In this tutorial let us understand the usage of Wikipedia API.\n"
      ]
    },
    {
      "cell_type": "markdown",
      "metadata": {
        "id": "qib3T9UX1fTy"
      },
      "source": [
        "![alt text](https://miro.medium.com/max/1400/1*1FHnsWYdcfxoygKxkTdJew.png)"
      ]
    },
    {
      "cell_type": "markdown",
      "metadata": {
        "id": "Krw-FZ7F10j7"
      },
      "source": [
        "# Introduction\n",
        "\n",
        "Wikipedia, the world’s largest and free encyclopedia. It is the land full of information. I mean who would have used Wikipedia in their entire life (If you haven’t used it then most probably you are lying). The python library called `Wikipedia` allows us to easily access and parse the data from Wikipedia. In other words, you can also use this library as a little scraper where you can scrape only limited information from Wikipedia. We will see how can we do that today in this tutorial.\n",
        "\n",
        "\n",
        "\n",
        "\n",
        "---\n",
        "\n",
        "\n"
      ]
    },
    {
      "cell_type": "markdown",
      "metadata": {
        "id": "HDAg8LhB1-Xh"
      },
      "source": [
        "# Installation\n",
        "\n",
        "The first step of using the API is manually installing it. Because, this is an external API it’s not built-in, so just type the following command to install it.\n",
        "\n",
        "* If you are using a [jupyter notebook](https://colab.research.google.com/notebooks/intro.ipynb) then make sure you use the below command (with the ‘!’ mark — the reason for this is it tell the jupyter notebook environment that a command is being typed (AKA **command mode**).\n"
      ]
    },
    {
      "cell_type": "code",
      "metadata": {
        "id": "GciTaTsc2Kk_",
        "colab": {
          "base_uri": "https://localhost:8080/"
        },
        "outputId": "6135aef3-dfa8-4c32-f1af-b6c0a3ed89e1"
      },
      "source": [
        "!pip install wikipedia"
      ],
      "execution_count": 1,
      "outputs": [
        {
          "output_type": "stream",
          "name": "stdout",
          "text": [
            "Collecting wikipedia\n",
            "  Downloading wikipedia-1.4.0.tar.gz (27 kB)\n",
            "  Preparing metadata (setup.py) ... \u001b[?25l\u001b[?25hdone\n",
            "Requirement already satisfied: beautifulsoup4 in /usr/local/lib/python3.10/dist-packages (from wikipedia) (4.12.3)\n",
            "Requirement already satisfied: requests<3.0.0,>=2.0.0 in /usr/local/lib/python3.10/dist-packages (from wikipedia) (2.32.3)\n",
            "Requirement already satisfied: charset-normalizer<4,>=2 in /usr/local/lib/python3.10/dist-packages (from requests<3.0.0,>=2.0.0->wikipedia) (3.4.0)\n",
            "Requirement already satisfied: idna<4,>=2.5 in /usr/local/lib/python3.10/dist-packages (from requests<3.0.0,>=2.0.0->wikipedia) (3.10)\n",
            "Requirement already satisfied: urllib3<3,>=1.21.1 in /usr/local/lib/python3.10/dist-packages (from requests<3.0.0,>=2.0.0->wikipedia) (2.2.3)\n",
            "Requirement already satisfied: certifi>=2017.4.17 in /usr/local/lib/python3.10/dist-packages (from requests<3.0.0,>=2.0.0->wikipedia) (2024.8.30)\n",
            "Requirement already satisfied: soupsieve>1.2 in /usr/local/lib/python3.10/dist-packages (from beautifulsoup4->wikipedia) (2.6)\n",
            "Building wheels for collected packages: wikipedia\n",
            "  Building wheel for wikipedia (setup.py) ... \u001b[?25l\u001b[?25hdone\n",
            "  Created wheel for wikipedia: filename=wikipedia-1.4.0-py3-none-any.whl size=11679 sha256=a24ca95a1cc0c4a94b5bf95789e7a422059ab79e9f7d3a82b1cfc92734a8c4fc\n",
            "  Stored in directory: /root/.cache/pip/wheels/5e/b6/c5/93f3dec388ae76edc830cb42901bb0232504dfc0df02fc50de\n",
            "Successfully built wikipedia\n",
            "Installing collected packages: wikipedia\n",
            "Successfully installed wikipedia-1.4.0\n"
          ]
        }
      ]
    },
    {
      "cell_type": "markdown",
      "metadata": {
        "id": "A-4eBwuy2MAV"
      },
      "source": [
        "* If you are using any IDE such as [Microsoft Visual Studio Code](https://code.visualstudio.com/), [PyCharm](https://www.jetbrains.com/pycharm/) and even [Sublime Text](https://www.sublimetext.com/3) then make sure in the terminal you enter the below command:\n"
      ]
    },
    {
      "cell_type": "code",
      "metadata": {
        "id": "nx8uaHvZ2Wzb"
      },
      "source": [
        "pip install wikipedia"
      ],
      "execution_count": null,
      "outputs": []
    },
    {
      "cell_type": "markdown",
      "metadata": {
        "id": "vgkki4_c2Zvb"
      },
      "source": [
        "After you enter the above command, in either of the above two cases you will be then prompted by success message like the one shown below. This is an indication that the library is successfully installed.\n"
      ]
    },
    {
      "cell_type": "code",
      "metadata": {
        "id": "Dn1zyNjJ2bQP",
        "colab": {
          "base_uri": "https://localhost:8080/",
          "height": 297
        },
        "outputId": "6c757c2b-d52e-4dce-8f7f-e52a3dc11fac"
      },
      "source": [
        "!pip install wikipedia"
      ],
      "execution_count": null,
      "outputs": [
        {
          "output_type": "stream",
          "text": [
            "Collecting wikipedia\n",
            "  Downloading https://files.pythonhosted.org/packages/67/35/25e68fbc99e672127cc6fbb14b8ec1ba3dfef035bf1e4c90f78f24a80b7d/wikipedia-1.4.0.tar.gz\n",
            "Requirement already satisfied: beautifulsoup4 in /usr/local/lib/python3.6/dist-packages (from wikipedia) (4.6.3)\n",
            "Requirement already satisfied: requests<3.0.0,>=2.0.0 in /usr/local/lib/python3.6/dist-packages (from wikipedia) (2.21.0)\n",
            "Requirement already satisfied: urllib3<1.25,>=1.21.1 in /usr/local/lib/python3.6/dist-packages (from requests<3.0.0,>=2.0.0->wikipedia) (1.24.3)\n",
            "Requirement already satisfied: idna<2.9,>=2.5 in /usr/local/lib/python3.6/dist-packages (from requests<3.0.0,>=2.0.0->wikipedia) (2.8)\n",
            "Requirement already satisfied: certifi>=2017.4.17 in /usr/local/lib/python3.6/dist-packages (from requests<3.0.0,>=2.0.0->wikipedia) (2019.11.28)\n",
            "Requirement already satisfied: chardet<3.1.0,>=3.0.2 in /usr/local/lib/python3.6/dist-packages (from requests<3.0.0,>=2.0.0->wikipedia) (3.0.4)\n",
            "Building wheels for collected packages: wikipedia\n",
            "  Building wheel for wikipedia (setup.py) ... \u001b[?25l\u001b[?25hdone\n",
            "  Created wheel for wikipedia: filename=wikipedia-1.4.0-cp36-none-any.whl size=11686 sha256=d0d5cc5f62e177020a96252ea5991ec3839cb9e4a302f3d217426ce0a2c406d5\n",
            "  Stored in directory: /root/.cache/pip/wheels/87/2a/18/4e471fd96d12114d16fe4a446d00c3b38fb9efcb744bd31f4a\n",
            "Successfully built wikipedia\n",
            "Installing collected packages: wikipedia\n",
            "Successfully installed wikipedia-1.4.0\n"
          ],
          "name": "stdout"
        }
      ]
    },
    {
      "cell_type": "markdown",
      "metadata": {
        "id": "90b60Aep2em7"
      },
      "source": [
        "\n",
        "\n",
        "---\n",
        "\n"
      ]
    },
    {
      "cell_type": "markdown",
      "metadata": {
        "id": "wqIc6wa-2gRi"
      },
      "source": [
        "# Search and Suggestion\n",
        "\n",
        "Now let us see some of the built-in methods provided by the Wikipedia API. The first one is Search and Suggestion. I’m pretty sure you guys might know the usage of these two methods because of its name.\n",
        "\n",
        "## Search\n",
        "\n",
        "The search method returns the search result for a query. Just like other search engines, Wikipedia has its own search engine, you can have a look at it below:\n",
        "\n",
        "[Wikipedia Search](https://en.wikipedia.org/w/index.php?search)\n",
        "\n",
        "Now let us see how to retrieve the search results of a query using python. I will use **“Coronavirus”** as the topic in today’s tutorial because as well all know it’s trending and spreading worldwide. The first thing before starting to use API you need to first import it.\n"
      ]
    },
    {
      "cell_type": "code",
      "metadata": {
        "id": "MEoZNFvo2tM4",
        "colab": {
          "base_uri": "https://localhost:8080/"
        },
        "outputId": "9153aa52-e4fa-4f23-9579-81b57deb8c90"
      },
      "source": [
        "\n",
        "import wikipedia\n",
        "print(wikipedia.search(\"Coronavirus\"))\n",
        "\n"
      ],
      "execution_count": 5,
      "outputs": [
        {
          "output_type": "stream",
          "name": "stdout",
          "text": [
            "['Coronavirus', 'COVID-19 pandemic', 'COVID-19', 'COVID-19 pandemic in the United States', 'Feline coronavirus', 'History of coronavirus', 'COVID-19 pandemic in India', 'Human coronavirus OC43', 'Coronavirus (film)', 'SARS-CoV-2']\n"
          ]
        }
      ]
    },
    {
      "cell_type": "markdown",
      "metadata": {
        "id": "dAxRz5co209d"
      },
      "source": [
        "The above are some of the most searched queries on Wikipedia if you don’t believe me, go to the above link I have given and search for the topic and compare the results. And the search results change every hour probably.\n"
      ]
    },
    {
      "cell_type": "markdown",
      "metadata": {
        "id": "xx9fUJqq220F"
      },
      "source": [
        "There are some of the ways where you can filter the search results by using search parameters such as results and suggestion (I know don’t worry about the spelling). The result returns the maximum number of results and the suggestion if True, return results and suggestion (if any) in a tuple.\n"
      ]
    },
    {
      "cell_type": "code",
      "metadata": {
        "id": "JIFba2k924Dj",
        "colab": {
          "base_uri": "https://localhost:8080/"
        },
        "outputId": "2e561d55-aef1-4d22-aeb0-ac3589cd8732"
      },
      "source": [
        "print(wikipedia.search(\"Coronavirus\", results = 5, suggestion = True))"
      ],
      "execution_count": 6,
      "outputs": [
        {
          "output_type": "stream",
          "name": "stdout",
          "text": [
            "(['Coronavirus', 'COVID-19 pandemic', 'COVID-19', 'COVID-19 pandemic in the United States', 'History of coronavirus'], None)\n"
          ]
        }
      ]
    },
    {
      "cell_type": "markdown",
      "metadata": {
        "id": "UAaUc8Ix26dQ"
      },
      "source": [
        "## Suggestion\n",
        "\n",
        "Now the suggestion as the name suggests returns the suggested Wikipedia title for the query or none if it doesn't get any.\n"
      ]
    },
    {
      "cell_type": "code",
      "metadata": {
        "id": "5UbFt3hL29hh",
        "colab": {
          "base_uri": "https://localhost:8080/"
        },
        "outputId": "df390169-5f46-4a0b-afc0-173d06ec9396"
      },
      "source": [
        "print(wikipedia.suggest('Coronavir'))"
      ],
      "execution_count": 7,
      "outputs": [
        {
          "output_type": "stream",
          "name": "stdout",
          "text": [
            "coronaviru\n"
          ]
        }
      ]
    },
    {
      "cell_type": "markdown",
      "metadata": {
        "id": "Wk_fReEO3Aiu"
      },
      "source": [
        "\n",
        "\n",
        "---\n",
        "\n"
      ]
    },
    {
      "cell_type": "markdown",
      "metadata": {
        "id": "cnOV23eb3BCB"
      },
      "source": [
        "# Summary\n",
        "\n",
        "To get the summary of an article use the **“summary”** method as shown below:\n"
      ]
    },
    {
      "cell_type": "code",
      "metadata": {
        "id": "4-WdvLw53HrO",
        "colab": {
          "base_uri": "https://localhost:8080/"
        },
        "outputId": "010ae897-593a-4285-82df-94f60d27fce8"
      },
      "source": [
        "print(wikipedia.summary(\"Coronavirus\"))"
      ],
      "execution_count": 8,
      "outputs": [
        {
          "output_type": "stream",
          "name": "stdout",
          "text": [
            "Coronaviruses are a group of related RNA viruses that cause diseases in mammals and birds. In humans and birds, they cause respiratory tract infections that can range from mild to lethal. Mild illnesses in humans include some cases of the common cold (which is also caused by other viruses, predominantly rhinoviruses), while more lethal varieties can cause SARS, MERS and COVID-19. In cows and pigs they cause diarrhea, while in mice they cause hepatitis and encephalomyelitis.\n",
            "Coronaviruses constitute the subfamily Orthocoronavirinae, in the family Coronaviridae, order Nidovirales and realm Riboviria. They are enveloped viruses with a positive-sense single-stranded RNA genome and a nucleocapsid of helical symmetry. The genome size of coronaviruses ranges from approximately 26 to 32 kilobases, one of the largest among RNA viruses. They have characteristic club-shaped spikes that project from their surface, which in electron micrographs create an image reminiscent of the stellar corona, from which their name derives.\n"
          ]
        }
      ]
    },
    {
      "cell_type": "markdown",
      "metadata": {
        "id": "2YqJfHWc3GrV"
      },
      "source": [
        "But sometimes be careful, you might run into a `DisambiguationError`. Which means the same words with different meanings. For example, the word **“bass”** can represent a fish or beats or many more. At that time the summary method throws an error as shown below.\n",
        "\n",
        "\n",
        "\n",
        "> **Hint**: Be specific in your approach\n",
        "\n",
        "\n"
      ]
    },
    {
      "cell_type": "code",
      "metadata": {
        "id": "AYi54Xik3YPu",
        "colab": {
          "base_uri": "https://localhost:8080/",
          "height": 1000
        },
        "outputId": "2ca23068-5b3a-445b-e7d9-fffac8f729f7"
      },
      "source": [
        "print(wikipedia.summary(\"bass\"))"
      ],
      "execution_count": 9,
      "outputs": [
        {
          "output_type": "stream",
          "name": "stderr",
          "text": [
            "/usr/local/lib/python3.10/dist-packages/wikipedia/wikipedia.py:389: GuessedAtParserWarning: No parser was explicitly specified, so I'm using the best available HTML parser for this system (\"lxml\"). This usually isn't a problem, but if you run this code on another system, or in a different virtual environment, it may use a different parser and behave differently.\n",
            "\n",
            "The code that caused this warning is on line 389 of the file /usr/local/lib/python3.10/dist-packages/wikipedia/wikipedia.py. To get rid of this warning, pass the additional argument 'features=\"lxml\"' to the BeautifulSoup constructor.\n",
            "\n",
            "  lis = BeautifulSoup(html).find_all('li')\n"
          ]
        },
        {
          "output_type": "error",
          "ename": "DisambiguationError",
          "evalue": "\"base\" may refer to: \nBASE (mobile operator)\nBase CRM\nBase Design\nBase FX\nBudapest Aircraft Services\nBASE (search engine)\nHTML element\nEventual consistency\nGoogle Base\nLibreOffice Base\nOpenOffice.org Base\nBase of computation\nBase of a logarithm\nBase (exponentiation)\nBase (geometry)\nBase (group theory)\nBase (topology)\nBackward Society Education\nBASE (social centre)\nFederal Office for the Safety of Nuclear Waste Management\nBeaverton Academy of Science and Engineering\nBible Archaeology Search and Exploration Institute\nBritish Association for Screen Entertainment\nBrooklyn Academy of Science and the Environment\nBase (chemistry)\nerythromycin base\nBipolar junction transistor\nBASE experiment\nBase pair\nBeta-alumina solid electrolyte\nNucleobase\nBase (blockchain)\nBase (politics)\nBase (social class)\nBase and superstructure (Marxism)\nBase (baseball)\ncheerleading\nBASE jumping\ndarebase\nBase (character)\nBase (EP)\nBase, Maharashtra\nRob Base\nbinder (material)\nfoundation (architecture)\nfoundation (cosmetics)\nBase (heraldry)\npedestal\nCooking base\nMilitary base\nBase camp (disambiguation)\nBases (disambiguation)\nBasis (disambiguation)\nBass (disambiguation)\nBottom (disambiguation)\nRadix (disambiguation)\nThe Base (disambiguation)",
          "traceback": [
            "\u001b[0;31m---------------------------------------------------------------------------\u001b[0m",
            "\u001b[0;31mDisambiguationError\u001b[0m                       Traceback (most recent call last)",
            "\u001b[0;32m<ipython-input-9-1ffcaa003e81>\u001b[0m in \u001b[0;36m<cell line: 1>\u001b[0;34m()\u001b[0m\n\u001b[0;32m----> 1\u001b[0;31m \u001b[0mprint\u001b[0m\u001b[0;34m(\u001b[0m\u001b[0mwikipedia\u001b[0m\u001b[0;34m.\u001b[0m\u001b[0msummary\u001b[0m\u001b[0;34m(\u001b[0m\u001b[0;34m\"bass\"\u001b[0m\u001b[0;34m)\u001b[0m\u001b[0;34m)\u001b[0m\u001b[0;34m\u001b[0m\u001b[0;34m\u001b[0m\u001b[0m\n\u001b[0m",
            "\u001b[0;32m/usr/local/lib/python3.10/dist-packages/wikipedia/util.py\u001b[0m in \u001b[0;36m__call__\u001b[0;34m(self, *args, **kwargs)\u001b[0m\n\u001b[1;32m     26\u001b[0m       \u001b[0mret\u001b[0m \u001b[0;34m=\u001b[0m \u001b[0mself\u001b[0m\u001b[0;34m.\u001b[0m\u001b[0m_cache\u001b[0m\u001b[0;34m[\u001b[0m\u001b[0mkey\u001b[0m\u001b[0;34m]\u001b[0m\u001b[0;34m\u001b[0m\u001b[0;34m\u001b[0m\u001b[0m\n\u001b[1;32m     27\u001b[0m     \u001b[0;32melse\u001b[0m\u001b[0;34m:\u001b[0m\u001b[0;34m\u001b[0m\u001b[0;34m\u001b[0m\u001b[0m\n\u001b[0;32m---> 28\u001b[0;31m       \u001b[0mret\u001b[0m \u001b[0;34m=\u001b[0m \u001b[0mself\u001b[0m\u001b[0;34m.\u001b[0m\u001b[0m_cache\u001b[0m\u001b[0;34m[\u001b[0m\u001b[0mkey\u001b[0m\u001b[0;34m]\u001b[0m \u001b[0;34m=\u001b[0m \u001b[0mself\u001b[0m\u001b[0;34m.\u001b[0m\u001b[0mfn\u001b[0m\u001b[0;34m(\u001b[0m\u001b[0;34m*\u001b[0m\u001b[0margs\u001b[0m\u001b[0;34m,\u001b[0m \u001b[0;34m**\u001b[0m\u001b[0mkwargs\u001b[0m\u001b[0;34m)\u001b[0m\u001b[0;34m\u001b[0m\u001b[0;34m\u001b[0m\u001b[0m\n\u001b[0m\u001b[1;32m     29\u001b[0m \u001b[0;34m\u001b[0m\u001b[0m\n\u001b[1;32m     30\u001b[0m     \u001b[0;32mreturn\u001b[0m \u001b[0mret\u001b[0m\u001b[0;34m\u001b[0m\u001b[0;34m\u001b[0m\u001b[0m\n",
            "\u001b[0;32m/usr/local/lib/python3.10/dist-packages/wikipedia/wikipedia.py\u001b[0m in \u001b[0;36msummary\u001b[0;34m(title, sentences, chars, auto_suggest, redirect)\u001b[0m\n\u001b[1;32m    229\u001b[0m   \u001b[0;31m# use auto_suggest and redirect to get the correct article\u001b[0m\u001b[0;34m\u001b[0m\u001b[0;34m\u001b[0m\u001b[0m\n\u001b[1;32m    230\u001b[0m   \u001b[0;31m# also, use page's error checking to raise DisambiguationError if necessary\u001b[0m\u001b[0;34m\u001b[0m\u001b[0;34m\u001b[0m\u001b[0m\n\u001b[0;32m--> 231\u001b[0;31m   \u001b[0mpage_info\u001b[0m \u001b[0;34m=\u001b[0m \u001b[0mpage\u001b[0m\u001b[0;34m(\u001b[0m\u001b[0mtitle\u001b[0m\u001b[0;34m,\u001b[0m \u001b[0mauto_suggest\u001b[0m\u001b[0;34m=\u001b[0m\u001b[0mauto_suggest\u001b[0m\u001b[0;34m,\u001b[0m \u001b[0mredirect\u001b[0m\u001b[0;34m=\u001b[0m\u001b[0mredirect\u001b[0m\u001b[0;34m)\u001b[0m\u001b[0;34m\u001b[0m\u001b[0;34m\u001b[0m\u001b[0m\n\u001b[0m\u001b[1;32m    232\u001b[0m   \u001b[0mtitle\u001b[0m \u001b[0;34m=\u001b[0m \u001b[0mpage_info\u001b[0m\u001b[0;34m.\u001b[0m\u001b[0mtitle\u001b[0m\u001b[0;34m\u001b[0m\u001b[0;34m\u001b[0m\u001b[0m\n\u001b[1;32m    233\u001b[0m   \u001b[0mpageid\u001b[0m \u001b[0;34m=\u001b[0m \u001b[0mpage_info\u001b[0m\u001b[0;34m.\u001b[0m\u001b[0mpageid\u001b[0m\u001b[0;34m\u001b[0m\u001b[0;34m\u001b[0m\u001b[0m\n",
            "\u001b[0;32m/usr/local/lib/python3.10/dist-packages/wikipedia/wikipedia.py\u001b[0m in \u001b[0;36mpage\u001b[0;34m(title, pageid, auto_suggest, redirect, preload)\u001b[0m\n\u001b[1;32m    274\u001b[0m         \u001b[0;31m# if there is no suggestion or search results, the page doesn't exist\u001b[0m\u001b[0;34m\u001b[0m\u001b[0;34m\u001b[0m\u001b[0m\n\u001b[1;32m    275\u001b[0m         \u001b[0;32mraise\u001b[0m \u001b[0mPageError\u001b[0m\u001b[0;34m(\u001b[0m\u001b[0mtitle\u001b[0m\u001b[0;34m)\u001b[0m\u001b[0;34m\u001b[0m\u001b[0;34m\u001b[0m\u001b[0m\n\u001b[0;32m--> 276\u001b[0;31m     \u001b[0;32mreturn\u001b[0m \u001b[0mWikipediaPage\u001b[0m\u001b[0;34m(\u001b[0m\u001b[0mtitle\u001b[0m\u001b[0;34m,\u001b[0m \u001b[0mredirect\u001b[0m\u001b[0;34m=\u001b[0m\u001b[0mredirect\u001b[0m\u001b[0;34m,\u001b[0m \u001b[0mpreload\u001b[0m\u001b[0;34m=\u001b[0m\u001b[0mpreload\u001b[0m\u001b[0;34m)\u001b[0m\u001b[0;34m\u001b[0m\u001b[0;34m\u001b[0m\u001b[0m\n\u001b[0m\u001b[1;32m    277\u001b[0m   \u001b[0;32melif\u001b[0m \u001b[0mpageid\u001b[0m \u001b[0;32mis\u001b[0m \u001b[0;32mnot\u001b[0m \u001b[0;32mNone\u001b[0m\u001b[0;34m:\u001b[0m\u001b[0;34m\u001b[0m\u001b[0;34m\u001b[0m\u001b[0m\n\u001b[1;32m    278\u001b[0m     \u001b[0;32mreturn\u001b[0m \u001b[0mWikipediaPage\u001b[0m\u001b[0;34m(\u001b[0m\u001b[0mpageid\u001b[0m\u001b[0;34m=\u001b[0m\u001b[0mpageid\u001b[0m\u001b[0;34m,\u001b[0m \u001b[0mpreload\u001b[0m\u001b[0;34m=\u001b[0m\u001b[0mpreload\u001b[0m\u001b[0;34m)\u001b[0m\u001b[0;34m\u001b[0m\u001b[0;34m\u001b[0m\u001b[0m\n",
            "\u001b[0;32m/usr/local/lib/python3.10/dist-packages/wikipedia/wikipedia.py\u001b[0m in \u001b[0;36m__init__\u001b[0;34m(self, title, pageid, redirect, preload, original_title)\u001b[0m\n\u001b[1;32m    297\u001b[0m       \u001b[0;32mraise\u001b[0m \u001b[0mValueError\u001b[0m\u001b[0;34m(\u001b[0m\u001b[0;34m\"Either a title or a pageid must be specified\"\u001b[0m\u001b[0;34m)\u001b[0m\u001b[0;34m\u001b[0m\u001b[0;34m\u001b[0m\u001b[0m\n\u001b[1;32m    298\u001b[0m \u001b[0;34m\u001b[0m\u001b[0m\n\u001b[0;32m--> 299\u001b[0;31m     \u001b[0mself\u001b[0m\u001b[0;34m.\u001b[0m\u001b[0m__load\u001b[0m\u001b[0;34m(\u001b[0m\u001b[0mredirect\u001b[0m\u001b[0;34m=\u001b[0m\u001b[0mredirect\u001b[0m\u001b[0;34m,\u001b[0m \u001b[0mpreload\u001b[0m\u001b[0;34m=\u001b[0m\u001b[0mpreload\u001b[0m\u001b[0;34m)\u001b[0m\u001b[0;34m\u001b[0m\u001b[0;34m\u001b[0m\u001b[0m\n\u001b[0m\u001b[1;32m    300\u001b[0m \u001b[0;34m\u001b[0m\u001b[0m\n\u001b[1;32m    301\u001b[0m     \u001b[0;32mif\u001b[0m \u001b[0mpreload\u001b[0m\u001b[0;34m:\u001b[0m\u001b[0;34m\u001b[0m\u001b[0;34m\u001b[0m\u001b[0m\n",
            "\u001b[0;32m/usr/local/lib/python3.10/dist-packages/wikipedia/wikipedia.py\u001b[0m in \u001b[0;36m__load\u001b[0;34m(self, redirect, preload)\u001b[0m\n\u001b[1;32m    391\u001b[0m       \u001b[0mmay_refer_to\u001b[0m \u001b[0;34m=\u001b[0m \u001b[0;34m[\u001b[0m\u001b[0mli\u001b[0m\u001b[0;34m.\u001b[0m\u001b[0ma\u001b[0m\u001b[0;34m.\u001b[0m\u001b[0mget_text\u001b[0m\u001b[0;34m(\u001b[0m\u001b[0;34m)\u001b[0m \u001b[0;32mfor\u001b[0m \u001b[0mli\u001b[0m \u001b[0;32min\u001b[0m \u001b[0mfiltered_lis\u001b[0m \u001b[0;32mif\u001b[0m \u001b[0mli\u001b[0m\u001b[0;34m.\u001b[0m\u001b[0ma\u001b[0m\u001b[0;34m]\u001b[0m\u001b[0;34m\u001b[0m\u001b[0;34m\u001b[0m\u001b[0m\n\u001b[1;32m    392\u001b[0m \u001b[0;34m\u001b[0m\u001b[0m\n\u001b[0;32m--> 393\u001b[0;31m       \u001b[0;32mraise\u001b[0m \u001b[0mDisambiguationError\u001b[0m\u001b[0;34m(\u001b[0m\u001b[0mgetattr\u001b[0m\u001b[0;34m(\u001b[0m\u001b[0mself\u001b[0m\u001b[0;34m,\u001b[0m \u001b[0;34m'title'\u001b[0m\u001b[0;34m,\u001b[0m \u001b[0mpage\u001b[0m\u001b[0;34m[\u001b[0m\u001b[0;34m'title'\u001b[0m\u001b[0;34m]\u001b[0m\u001b[0;34m)\u001b[0m\u001b[0;34m,\u001b[0m \u001b[0mmay_refer_to\u001b[0m\u001b[0;34m)\u001b[0m\u001b[0;34m\u001b[0m\u001b[0;34m\u001b[0m\u001b[0m\n\u001b[0m\u001b[1;32m    394\u001b[0m \u001b[0;34m\u001b[0m\u001b[0m\n\u001b[1;32m    395\u001b[0m     \u001b[0;32melse\u001b[0m\u001b[0;34m:\u001b[0m\u001b[0;34m\u001b[0m\u001b[0;34m\u001b[0m\u001b[0m\n",
            "\u001b[0;31mDisambiguationError\u001b[0m: \"base\" may refer to: \nBASE (mobile operator)\nBase CRM\nBase Design\nBase FX\nBudapest Aircraft Services\nBASE (search engine)\nHTML element\nEventual consistency\nGoogle Base\nLibreOffice Base\nOpenOffice.org Base\nBase of computation\nBase of a logarithm\nBase (exponentiation)\nBase (geometry)\nBase (group theory)\nBase (topology)\nBackward Society Education\nBASE (social centre)\nFederal Office for the Safety of Nuclear Waste Management\nBeaverton Academy of Science and Engineering\nBible Archaeology Search and Exploration Institute\nBritish Association for Screen Entertainment\nBrooklyn Academy of Science and the Environment\nBase (chemistry)\nerythromycin base\nBipolar junction transistor\nBASE experiment\nBase pair\nBeta-alumina solid electrolyte\nNucleobase\nBase (blockchain)\nBase (politics)\nBase (social class)\nBase and superstructure (Marxism)\nBase (baseball)\ncheerleading\nBASE jumping\ndarebase\nBase (character)\nBase (EP)\nBase, Maharashtra\nRob Base\nbinder (material)\nfoundation (architecture)\nfoundation (cosmetics)\nBase (heraldry)\npedestal\nCooking base\nMilitary base\nBase camp (disambiguation)\nBases (disambiguation)\nBasis (disambiguation)\nBass (disambiguation)\nBottom (disambiguation)\nRadix (disambiguation)\nThe Base (disambiguation)"
          ]
        }
      ]
    },
    {
      "cell_type": "markdown",
      "metadata": {
        "id": "FdbT_TO43bHR"
      },
      "source": [
        "Also, Wikipedia API gives us an option to change the language that we want to read the articles. All you have to do it set the language to your desired language. **Any french readers in the house, I would be using the french language as a reference.**\n"
      ]
    },
    {
      "cell_type": "code",
      "metadata": {
        "id": "sv_wXQMq3di5",
        "colab": {
          "base_uri": "https://localhost:8080/",
          "height": 139
        },
        "outputId": "994784da-4ab7-4619-cb07-208a4770293f"
      },
      "source": [
        "wikipedia.set_lang(\"fr\")\n",
        "wikipedia.summary(\"Coronavirus\")"
      ],
      "execution_count": 10,
      "outputs": [
        {
          "output_type": "execute_result",
          "data": {
            "text/plain": [
              "\"Les orthocoronavirus (CoV) sont des virus qui constituent la sous-famille Orthocoronavirinae de la famille Coronaviridae (les coronavirus). Le nom « coronavirus », du latin signifiant « virus à couronne », est dû à l'apparence des virions sous un microscope électronique, avec une frange de grandes projections bulbeuses qui évoquent une couronne solaire.\\nCes coronavirus sont munis d'une enveloppe virale incluant une capside caractérisée par des protéines en forme de massue (appelées spicules). Ils ont un génome à ARN monocaténaire (c'est-à-dire à un seul brin), de sens positif (groupe IV de la classification Baltimore), de 26 à 32 kilobases (ce qui en fait les plus grands génomes parmi les virus à ARN). Ils se classent parmi les Nidovirales, ordre de virus produisant un jeu imbriqué d'ARNm sous-génomiques lors de l'infection. Des spicules, une enveloppe, membrane et capside contribuent à la structure d'ensemble de tous les coronavirus. Ils peuvent muter et se recombiner.\\nLes chauves-souris et les oiseaux, en tant que vertébrés volants à sang chaud, seraient les hôtes idéaux pour les coronavirus assurant l'évolution et la dissémination du virus. Ces coronavirus sont normalement spécifiques à un taxon animal comme hôte, mammifères ou oiseaux selon leur espèce ; mais ils peuvent parfois changer d'hôte à la suite d'une mutation. Leur transmission interhumaine se produit principalement par contacts étroits via des aérosols respiratoires générées par les éternuements, la toux ou la phonation. Plus de 500 types de coronavirus ont été isolées chez la chauve-souris et il existerait plus de 5 000 types de coronavirus.\\nSept principaux coronavirus sont généralement cités comme pouvant contaminer l'humain. Un huitième a été identifié : le B814 (le premier coronavirus humain identifié), mais cette souche semble ne plus circuler.\\nQuatre coronavirus en circulation sont considérés comme sources d'infection bénignes : 229E, NL63, OC43 et HKU1. Ils seraient la cause de 15 à 30 % des rhumes courants.\\nPlus récemment ont été identifiés trois types de coronavirus responsables de graves pneumopathies :\\n\\nle SARS-CoV, agent pathogène du syndrome respiratoire aigu sévère (SRAS) en 2002-2004 ;\\nle MERS-CoV, celui du syndrome respiratoire du Moyen-Orient à partir de 2012 ;\\nle SARS-CoV-2, celui de la maladie à coronavirus 2019 (Covid-19) apparue en Chine en 2019 et responsable d'une sévère pandémie de 2019 à 2023.\\n\\n\""
            ],
            "application/vnd.google.colaboratory.intrinsic+json": {
              "type": "string"
            }
          },
          "metadata": {},
          "execution_count": 10
        }
      ]
    },
    {
      "cell_type": "markdown",
      "metadata": {
        "id": "6hHAvCHk3f9z"
      },
      "source": [
        "\n",
        "\n",
        "---\n",
        "\n"
      ]
    },
    {
      "cell_type": "markdown",
      "metadata": {
        "id": "Ln4TADmW3gpa"
      },
      "source": [
        "# Languages supported\n",
        "\n",
        "Now let us what languages does Wikipedia support, this might be a common question that people ask. Now here is the answer. Currently, Wikipedia supports **444 different languages**. To find it see the code below:\n"
      ]
    },
    {
      "cell_type": "code",
      "metadata": {
        "id": "rnNB0Hlr3zqR",
        "colab": {
          "base_uri": "https://localhost:8080/"
        },
        "outputId": "dd993f20-d4c6-49fc-f392-ec27da5ab5cf"
      },
      "source": [
        "wikipedia.languages()"
      ],
      "execution_count": 11,
      "outputs": [
        {
          "output_type": "execute_result",
          "data": {
            "text/plain": [
              "{'aa': 'Qafár af',\n",
              " 'aae': 'Arbërisht',\n",
              " 'ab': 'аԥсшәа',\n",
              " 'abs': 'bahasa ambon',\n",
              " 'ace': 'Acèh',\n",
              " 'acf': 'Kwéyòl Sent Lisi',\n",
              " 'acm': 'عراقي',\n",
              " 'ady': 'адыгабзэ',\n",
              " 'ady-cyrl': 'адыгабзэ',\n",
              " 'aeb': 'تونسي / Tûnsî',\n",
              " 'aeb-arab': 'تونسي',\n",
              " 'aeb-latn': 'Tûnsî',\n",
              " 'af': 'Afrikaans',\n",
              " 'aln': 'Gegë',\n",
              " 'als': 'Alemannisch',\n",
              " 'alt': 'алтай тил',\n",
              " 'am': 'አማርኛ',\n",
              " 'ami': 'Pangcah',\n",
              " 'an': 'aragonés',\n",
              " 'ang': 'Ænglisc',\n",
              " 'ann': 'Obolo',\n",
              " 'anp': 'अंगिका',\n",
              " 'apc': 'شامي',\n",
              " 'ar': 'العربية',\n",
              " 'arc': 'ܐܪܡܝܐ',\n",
              " 'arn': 'mapudungun',\n",
              " 'arq': 'جازايرية',\n",
              " 'ary': 'الدارجة',\n",
              " 'arz': 'مصرى',\n",
              " 'as': 'অসমীয়া',\n",
              " 'ase': 'American sign language',\n",
              " 'ast': 'asturianu',\n",
              " 'atj': 'Atikamekw',\n",
              " 'av': 'авар',\n",
              " 'avk': 'Kotava',\n",
              " 'awa': 'अवधी',\n",
              " 'ay': 'Aymar aru',\n",
              " 'az': 'azərbaycanca',\n",
              " 'azb': 'تۆرکجه',\n",
              " 'ba': 'башҡортса',\n",
              " 'ban': 'Basa Bali',\n",
              " 'ban-bali': 'ᬩᬲᬩᬮᬶ',\n",
              " 'bar': 'Boarisch',\n",
              " 'bat-smg': 'žemaitėška',\n",
              " 'bbc': 'Batak Toba',\n",
              " 'bbc-latn': 'Batak Toba',\n",
              " 'bcc': 'جهلسری بلوچی',\n",
              " 'bci': 'wawle',\n",
              " 'bcl': 'Bikol Central',\n",
              " 'bdr': 'Bajau Sama',\n",
              " 'be': 'беларуская',\n",
              " 'be-tarask': 'беларуская (тарашкевіца)',\n",
              " 'be-x-old': 'беларуская (тарашкевіца)',\n",
              " 'bew': 'Betawi',\n",
              " 'bg': 'български',\n",
              " 'bgc': 'हरियाणवी',\n",
              " 'bgn': 'روچ کپتین بلوچی',\n",
              " 'bh': 'भोजपुरी',\n",
              " 'bho': 'भोजपुरी',\n",
              " 'bi': 'Bislama',\n",
              " 'bjn': 'Banjar',\n",
              " 'blk': 'ပအိုဝ်ႏဘာႏသာႏ',\n",
              " 'bm': 'bamanankan',\n",
              " 'bn': 'বাংলা',\n",
              " 'bo': 'བོད་ཡིག',\n",
              " 'bpy': 'বিষ্ণুপ্রিয়া মণিপুরী',\n",
              " 'bqi': 'بختیاری',\n",
              " 'br': 'brezhoneg',\n",
              " 'brh': 'Bráhuí',\n",
              " 'bs': 'bosanski',\n",
              " 'btm': 'Batak Mandailing',\n",
              " 'bto': 'Iriga Bicolano',\n",
              " 'bug': 'Basa Ugi',\n",
              " 'bxr': 'буряад',\n",
              " 'ca': 'català',\n",
              " 'cbk-zam': 'Chavacano de Zamboanga',\n",
              " 'ccp': '𑄌𑄋𑄴𑄟𑄳𑄦',\n",
              " 'cdo': '閩東語 / Mìng-dĕ̤ng-ngṳ̄',\n",
              " 'cdo-hant': '閩東語（傳統漢字）',\n",
              " 'cdo-latn': 'Mìng-dĕ̤ng-ngṳ̄ (Bàng-uâ-cê)',\n",
              " 'ce': 'нохчийн',\n",
              " 'ceb': 'Cebuano',\n",
              " 'ch': 'Chamoru',\n",
              " 'chn': 'chinuk wawa',\n",
              " 'cho': 'Chahta anumpa',\n",
              " 'chr': 'ᏣᎳᎩ',\n",
              " 'chy': 'Tsetsêhestâhese',\n",
              " 'ckb': 'کوردی',\n",
              " 'co': 'corsu',\n",
              " 'cps': 'Capiceño',\n",
              " 'cpx': '莆仙語 / Pó-sing-gṳ̂',\n",
              " 'cpx-hans': '莆仙语（简体）',\n",
              " 'cpx-hant': '莆仙語（繁體）',\n",
              " 'cpx-latn': 'Pó-sing-gṳ̂ (Báⁿ-uā-ci̍)',\n",
              " 'cr': 'Nēhiyawēwin / ᓀᐦᐃᔭᐍᐏᐣ',\n",
              " 'crh': 'qırımtatarca',\n",
              " 'crh-cyrl': 'къырымтатарджа (Кирилл)',\n",
              " 'crh-latn': 'qırımtatarca (Latin)',\n",
              " 'crh-ro': 'tatarşa',\n",
              " 'cs': 'čeština',\n",
              " 'csb': 'kaszëbsczi',\n",
              " 'cu': 'словѣньскъ / ⰔⰎⰑⰂⰡⰐⰠⰔⰍⰟ',\n",
              " 'cv': 'чӑвашла',\n",
              " 'cy': 'Cymraeg',\n",
              " 'da': 'dansk',\n",
              " 'dag': 'dagbanli',\n",
              " 'de': 'Deutsch',\n",
              " 'de-at': 'Österreichisches Deutsch',\n",
              " 'de-ch': 'Schweizer Hochdeutsch',\n",
              " 'de-formal': 'Deutsch (Sie-Form)',\n",
              " 'dga': 'Dagaare',\n",
              " 'din': 'Thuɔŋjäŋ',\n",
              " 'diq': 'Zazaki',\n",
              " 'dsb': 'dolnoserbski',\n",
              " 'dtp': 'Kadazandusun',\n",
              " 'dty': 'डोटेली',\n",
              " 'dua': 'Duálá',\n",
              " 'dv': 'ދިވެހިބަސް',\n",
              " 'dz': 'ཇོང་ཁ',\n",
              " 'ee': 'eʋegbe',\n",
              " 'efi': 'Efịk',\n",
              " 'egl': 'Emiliàn',\n",
              " 'el': 'Ελληνικά',\n",
              " 'eml': 'emiliàn e rumagnòl',\n",
              " 'en': 'English',\n",
              " 'en-ca': 'Canadian English',\n",
              " 'en-gb': 'British English',\n",
              " 'eo': 'Esperanto',\n",
              " 'es': 'español',\n",
              " 'es-419': 'español de América Latina',\n",
              " 'es-formal': 'español (formal)',\n",
              " 'et': 'eesti',\n",
              " 'eu': 'euskara',\n",
              " 'ext': 'estremeñu',\n",
              " 'fa': 'فارسی',\n",
              " 'fat': 'mfantse',\n",
              " 'ff': 'Fulfulde',\n",
              " 'fi': 'suomi',\n",
              " 'fit': 'meänkieli',\n",
              " 'fiu-vro': 'võro',\n",
              " 'fj': 'Na Vosa Vakaviti',\n",
              " 'fo': 'føroyskt',\n",
              " 'fon': 'fɔ̀ngbè',\n",
              " 'fr': 'français',\n",
              " 'frc': 'français cadien',\n",
              " 'frp': 'arpetan',\n",
              " 'frr': 'Nordfriisk',\n",
              " 'fur': 'furlan',\n",
              " 'fy': 'Frysk',\n",
              " 'ga': 'Gaeilge',\n",
              " 'gaa': 'Ga',\n",
              " 'gag': 'Gagauz',\n",
              " 'gan': '贛語',\n",
              " 'gan-hans': '赣语（简体）',\n",
              " 'gan-hant': '贛語（繁體）',\n",
              " 'gcf': 'kréyòl Gwadloup',\n",
              " 'gcr': 'kriyòl gwiyannen',\n",
              " 'gd': 'Gàidhlig',\n",
              " 'gl': 'galego',\n",
              " 'gld': 'на̄ни',\n",
              " 'glk': 'گیلکی',\n",
              " 'gn': \"Avañe'ẽ\",\n",
              " 'gom': 'गोंयची कोंकणी / Gõychi Konknni',\n",
              " 'gom-deva': 'गोंयची कोंकणी',\n",
              " 'gom-latn': 'Gõychi Konknni',\n",
              " 'gor': 'Bahasa Hulontalo',\n",
              " 'got': '𐌲𐌿𐍄𐌹𐍃𐌺',\n",
              " 'gpe': 'Ghanaian Pidgin',\n",
              " 'grc': 'Ἀρχαία ἑλληνικὴ',\n",
              " 'gsw': 'Alemannisch',\n",
              " 'gu': 'ગુજરાતી',\n",
              " 'guc': 'wayuunaiki',\n",
              " 'gur': 'farefare',\n",
              " 'guw': 'gungbe',\n",
              " 'gv': 'Gaelg',\n",
              " 'ha': 'Hausa',\n",
              " 'hak': '客家語 / Hak-kâ-ngî',\n",
              " 'hak-hans': '客家语（简体）',\n",
              " 'hak-hant': '客家語（繁體）',\n",
              " 'hak-latn': 'Hak-kâ-ngî (Pha̍k-fa-sṳ)',\n",
              " 'haw': 'Hawaiʻi',\n",
              " 'he': 'עברית',\n",
              " 'hi': 'हिन्दी',\n",
              " 'hif': 'Fiji Hindi',\n",
              " 'hif-latn': 'Fiji Hindi',\n",
              " 'hil': 'Ilonggo',\n",
              " 'hke': 'kihunde',\n",
              " 'hno': 'ہندکو',\n",
              " 'ho': 'Hiri Motu',\n",
              " 'hr': 'hrvatski',\n",
              " 'hrx': 'Hunsrik',\n",
              " 'hsb': 'hornjoserbsce',\n",
              " 'hsn': '湘語',\n",
              " 'ht': 'Kreyòl ayisyen',\n",
              " 'hu': 'magyar',\n",
              " 'hu-formal': 'magyar (formal)',\n",
              " 'hy': 'հայերեն',\n",
              " 'hyw': 'Արեւմտահայերէն',\n",
              " 'hz': 'Otsiherero',\n",
              " 'ia': 'interlingua',\n",
              " 'iba': 'Jaku Iban',\n",
              " 'ibb': 'ibibio',\n",
              " 'id': 'Bahasa Indonesia',\n",
              " 'ie': 'Interlingue',\n",
              " 'ig': 'Igbo',\n",
              " 'igl': 'Igala',\n",
              " 'ii': 'ꆇꉙ',\n",
              " 'ik': 'Iñupiatun',\n",
              " 'ike-cans': 'ᐃᓄᒃᑎᑐᑦ',\n",
              " 'ike-latn': 'inuktitut',\n",
              " 'ilo': 'Ilokano',\n",
              " 'inh': 'гӀалгӀай',\n",
              " 'io': 'Ido',\n",
              " 'is': 'íslenska',\n",
              " 'isv-cyrl': 'меджусловјанскы',\n",
              " 'isv-latn': 'medžuslovjansky',\n",
              " 'it': 'italiano',\n",
              " 'iu': 'ᐃᓄᒃᑎᑐᑦ / inuktitut',\n",
              " 'ja': '日本語',\n",
              " 'jam': 'Patois',\n",
              " 'jbo': 'la .lojban.',\n",
              " 'jut': 'jysk',\n",
              " 'jv': 'Jawa',\n",
              " 'ka': 'ქართული',\n",
              " 'kaa': 'Qaraqalpaqsha',\n",
              " 'kab': 'Taqbaylit',\n",
              " 'kai': 'Karai-karai',\n",
              " 'kbd': 'адыгэбзэ',\n",
              " 'kbd-cyrl': 'адыгэбзэ',\n",
              " 'kbp': 'Kabɩyɛ',\n",
              " 'kcg': 'Tyap',\n",
              " 'kea': 'kabuverdianu',\n",
              " 'kg': 'Kongo',\n",
              " 'kge': 'Kumoring',\n",
              " 'khw': 'کھوار',\n",
              " 'ki': 'Gĩkũyũ',\n",
              " 'kiu': 'Kırmancki',\n",
              " 'kj': 'Kwanyama',\n",
              " 'kjh': 'хакас',\n",
              " 'kjp': 'ဖၠုံလိက်',\n",
              " 'kk': 'қазақша',\n",
              " 'kk-arab': 'قازاقشا (تٴوتە)',\n",
              " 'kk-cn': 'قازاقشا (جۇنگو)',\n",
              " 'kk-cyrl': 'қазақша (кирил)',\n",
              " 'kk-kz': 'қазақша (Қазақстан)',\n",
              " 'kk-latn': 'qazaqşa (latın)',\n",
              " 'kk-tr': 'qazaqşa (Türkïya)',\n",
              " 'kl': 'kalaallisut',\n",
              " 'km': 'ភាសាខ្មែរ',\n",
              " 'kn': 'ಕನ್ನಡ',\n",
              " 'knc': 'Yerwa Kanuri',\n",
              " 'ko': '한국어',\n",
              " 'ko-kp': '조선말',\n",
              " 'koi': 'перем коми',\n",
              " 'kr': 'kanuri',\n",
              " 'krc': 'къарачай-малкъар',\n",
              " 'kri': 'Krio',\n",
              " 'krj': 'Kinaray-a',\n",
              " 'krl': 'karjal',\n",
              " 'ks': 'कॉशुर / کٲشُر',\n",
              " 'ks-arab': 'کٲشُر',\n",
              " 'ks-deva': 'कॉशुर',\n",
              " 'ksh': 'Ripoarisch',\n",
              " 'ksw': 'စှီၤ',\n",
              " 'ku': 'kurdî',\n",
              " 'ku-arab': 'کوردی (عەرەبی)',\n",
              " 'ku-latn': 'kurdî (latînî)',\n",
              " 'kum': 'къумукъ',\n",
              " 'kus': 'Kʋsaal',\n",
              " 'kv': 'коми',\n",
              " 'kw': 'kernowek',\n",
              " 'ky': 'кыргызча',\n",
              " 'la': 'Latina',\n",
              " 'lad': 'Ladino',\n",
              " 'lb': 'Lëtzebuergesch',\n",
              " 'lbe': 'лакку',\n",
              " 'lez': 'лезги',\n",
              " 'lfn': 'Lingua Franca Nova',\n",
              " 'lg': 'Luganda',\n",
              " 'li': 'Limburgs',\n",
              " 'lij': 'Ligure',\n",
              " 'liv': 'Līvõ kēļ',\n",
              " 'lki': 'لەکی',\n",
              " 'lld': 'Ladin',\n",
              " 'lmo': 'lombard',\n",
              " 'ln': 'lingála',\n",
              " 'lo': 'ລາວ',\n",
              " 'loz': 'Silozi',\n",
              " 'lrc': 'لۊری شومالی',\n",
              " 'lt': 'lietuvių',\n",
              " 'ltg': 'latgaļu',\n",
              " 'lua': 'ciluba',\n",
              " 'lus': 'Mizo ţawng',\n",
              " 'luz': 'لئری دوٙمینی',\n",
              " 'lv': 'latviešu',\n",
              " 'lzh': '文言',\n",
              " 'lzz': 'Lazuri',\n",
              " 'mad': 'Madhurâ',\n",
              " 'mag': 'मगही',\n",
              " 'mai': 'मैथिली',\n",
              " 'map-bms': 'Basa Banyumasan',\n",
              " 'mdf': 'мокшень',\n",
              " 'mg': 'Malagasy',\n",
              " 'mh': 'Ebon',\n",
              " 'mhr': 'олык марий',\n",
              " 'mi': 'Māori',\n",
              " 'min': 'Minangkabau',\n",
              " 'mk': 'македонски',\n",
              " 'ml': 'മലയാളം',\n",
              " 'mn': 'монгол',\n",
              " 'mnc': 'manju gisun',\n",
              " 'mnc-latn': 'manju gisun',\n",
              " 'mnc-mong': 'ᠮᠠᠨᠵᡠ ᡤᡳᠰᡠᠨ',\n",
              " 'mni': 'ꯃꯤꯇꯩ ꯂꯣꯟ',\n",
              " 'mnw': 'ဘာသာမန်',\n",
              " 'mo': 'молдовеняскэ',\n",
              " 'mos': 'moore',\n",
              " 'mr': 'मराठी',\n",
              " 'mrh': 'Mara',\n",
              " 'mrj': 'кырык мары',\n",
              " 'ms': 'Bahasa Melayu',\n",
              " 'ms-arab': 'بهاس ملايو',\n",
              " 'mt': 'Malti',\n",
              " 'mui': 'Baso Palembang',\n",
              " 'mus': 'Mvskoke',\n",
              " 'mwl': 'Mirandés',\n",
              " 'my': 'မြန်မာဘာသာ',\n",
              " 'myv': 'эрзянь',\n",
              " 'mzn': 'مازِرونی',\n",
              " 'na': 'Dorerin Naoero',\n",
              " 'nah': 'Nāhuatl',\n",
              " 'nan': '閩南語 / Bân-lâm-gú',\n",
              " 'nan-hant': '閩南語（傳統漢字）',\n",
              " 'nan-latn-pehoeji': 'Bân-lâm-gú (Pe̍h-ōe-jī)',\n",
              " 'nan-latn-tailo': 'Bân-lâm-gú (Tâi-lô)',\n",
              " 'nap': 'Napulitano',\n",
              " 'nb': 'norsk bokmål',\n",
              " 'nds': 'Plattdüütsch',\n",
              " 'nds-nl': 'Nedersaksies',\n",
              " 'ne': 'नेपाली',\n",
              " 'new': 'नेपाल भाषा',\n",
              " 'ng': 'Oshiwambo',\n",
              " 'nia': 'Li Niha',\n",
              " 'nit': 'కొలామి',\n",
              " 'niu': 'Niuē',\n",
              " 'nl': 'Nederlands',\n",
              " 'nl-informal': 'Nederlands (informeel)',\n",
              " 'nmz': 'nawdm',\n",
              " 'nn': 'norsk nynorsk',\n",
              " 'no': 'norsk',\n",
              " 'nod': 'ᨣᩤᩴᨾᩮᩬᩥᨦ',\n",
              " 'nog': 'ногайша',\n",
              " 'nov': 'Novial',\n",
              " 'nqo': 'ߒߞߏ',\n",
              " 'nr': 'isiNdebele seSewula',\n",
              " 'nrm': 'Nouormand',\n",
              " 'nso': 'Sesotho sa Leboa',\n",
              " 'nup': 'Nupe',\n",
              " 'nv': 'Diné bizaad',\n",
              " 'ny': 'Chi-Chewa',\n",
              " 'nyn': 'runyankore',\n",
              " 'nyo': 'Orunyoro',\n",
              " 'nys': 'Nyunga',\n",
              " 'oc': 'occitan',\n",
              " 'ojb': 'Ojibwemowin',\n",
              " 'olo': 'livvinkarjala',\n",
              " 'om': 'Oromoo',\n",
              " 'or': 'ଓଡ଼ିଆ',\n",
              " 'os': 'ирон',\n",
              " 'pa': 'ਪੰਜਾਬੀ',\n",
              " 'pag': 'Pangasinan',\n",
              " 'pam': 'Kapampangan',\n",
              " 'pap': 'Papiamentu',\n",
              " 'pcd': 'Picard',\n",
              " 'pcm': 'Naijá',\n",
              " 'pdc': 'Deitsch',\n",
              " 'pdt': 'Plautdietsch',\n",
              " 'pfl': 'Pälzisch',\n",
              " 'pi': 'पालि',\n",
              " 'pih': 'Norfuk / Pitkern',\n",
              " 'pl': 'polski',\n",
              " 'pms': 'Piemontèis',\n",
              " 'pnb': 'پنجابی',\n",
              " 'pnt': 'Ποντιακά',\n",
              " 'prg': 'prūsiskan',\n",
              " 'ps': 'پښتو',\n",
              " 'pt': 'português',\n",
              " 'pt-br': 'português do Brasil',\n",
              " 'pwn': 'pinayuanan',\n",
              " 'qu': 'Runa Simi',\n",
              " 'qug': 'Runa shimi',\n",
              " 'rgn': 'Rumagnôl',\n",
              " 'rif': 'Tarifit',\n",
              " 'rki': 'ရခိုင်',\n",
              " 'rm': 'rumantsch',\n",
              " 'rmc': 'romaňi čhib',\n",
              " 'rmy': 'romani čhib',\n",
              " 'rn': 'ikirundi',\n",
              " 'ro': 'română',\n",
              " 'roa-rup': 'armãneashti',\n",
              " 'roa-tara': 'tarandíne',\n",
              " 'rsk': 'руски',\n",
              " 'ru': 'русский',\n",
              " 'rue': 'русиньскый',\n",
              " 'rup': 'armãneashti',\n",
              " 'ruq': 'Vlăheşte',\n",
              " 'ruq-cyrl': 'Влахесте',\n",
              " 'ruq-latn': 'Vlăheşte',\n",
              " 'rut': 'мыхаӀбишды',\n",
              " 'rw': 'Ikinyarwanda',\n",
              " 'ryu': 'うちなーぐち',\n",
              " 'sa': 'संस्कृतम्',\n",
              " 'sah': 'саха тыла',\n",
              " 'sat': 'ᱥᱟᱱᱛᱟᱲᱤ',\n",
              " 'sc': 'sardu',\n",
              " 'scn': 'sicilianu',\n",
              " 'sco': 'Scots',\n",
              " 'sd': 'سنڌي',\n",
              " 'sdc': 'Sassaresu',\n",
              " 'sdh': 'کوردی خوارگ',\n",
              " 'se': 'davvisámegiella',\n",
              " 'se-fi': 'davvisámegiella (Suoma bealde)',\n",
              " 'se-no': 'davvisámegiella (Norgga bealde)',\n",
              " 'se-se': 'davvisámegiella (Ruoŧa bealde)',\n",
              " 'sei': 'Cmique Itom',\n",
              " 'ses': 'Koyraboro Senni',\n",
              " 'sg': 'Sängö',\n",
              " 'sgs': 'žemaitėška',\n",
              " 'sh': 'srpskohrvatski / српскохрватски',\n",
              " 'sh-cyrl': 'српскохрватски (ћирилица)',\n",
              " 'sh-latn': 'srpskohrvatski (latinica)',\n",
              " 'shi': 'Taclḥit',\n",
              " 'shi-latn': 'Taclḥit',\n",
              " 'shi-tfng': 'ⵜⴰⵛⵍⵃⵉⵜ',\n",
              " 'shn': 'ၽႃႇသႃႇတႆး ',\n",
              " 'shy': 'tacawit',\n",
              " 'shy-latn': 'tacawit',\n",
              " 'si': 'සිංහල',\n",
              " 'simple': 'Simple English',\n",
              " 'sjd': 'кӣллт са̄мь кӣлл',\n",
              " 'sje': 'bidumsámegiella',\n",
              " 'sk': 'slovenčina',\n",
              " 'skr': 'سرائیکی',\n",
              " 'skr-arab': 'سرائیکی',\n",
              " 'sl': 'slovenščina',\n",
              " 'sli': 'Schläsch',\n",
              " 'sm': 'Gagana Samoa',\n",
              " 'sma': 'åarjelsaemien',\n",
              " 'smn': 'anarâškielâ',\n",
              " 'sms': 'nuõrttsääʹmǩiõll',\n",
              " 'sn': 'chiShona',\n",
              " 'so': 'Soomaaliga',\n",
              " 'sq': 'shqip',\n",
              " 'sr': 'српски / srpski',\n",
              " 'sr-ec': 'српски (ћирилица)',\n",
              " 'sr-el': 'srpski (latinica)',\n",
              " 'srn': 'Sranantongo',\n",
              " 'sro': 'sardu campidanesu',\n",
              " 'ss': 'SiSwati',\n",
              " 'st': 'Sesotho',\n",
              " 'stq': 'Seeltersk',\n",
              " 'sty': 'себертатар',\n",
              " 'su': 'Sunda',\n",
              " 'sv': 'svenska',\n",
              " 'sw': 'Kiswahili',\n",
              " 'syl': 'ꠍꠤꠟꠐꠤ',\n",
              " 'szl': 'ślůnski',\n",
              " 'szy': 'Sakizaya',\n",
              " 'ta': 'தமிழ்',\n",
              " 'tay': 'Tayal',\n",
              " 'tcy': 'ತುಳು',\n",
              " 'tdd': 'ᥖᥭᥰ ᥖᥬᥲ ᥑᥨᥒᥰ',\n",
              " 'te': 'తెలుగు',\n",
              " 'tet': 'tetun',\n",
              " 'tg': 'тоҷикӣ',\n",
              " 'tg-cyrl': 'тоҷикӣ',\n",
              " 'tg-latn': 'tojikī',\n",
              " 'th': 'ไทย',\n",
              " 'ti': 'ትግርኛ',\n",
              " 'tig': 'ትግሬ',\n",
              " 'tk': 'Türkmençe',\n",
              " 'tl': 'Tagalog',\n",
              " 'tly': 'tolışi',\n",
              " 'tly-cyrl': 'толыши',\n",
              " 'tn': 'Setswana',\n",
              " 'to': 'lea faka-Tonga',\n",
              " 'tok': 'toki pona',\n",
              " 'tpi': 'Tok Pisin',\n",
              " 'tr': 'Türkçe',\n",
              " 'tru': 'Ṫuroyo',\n",
              " 'trv': 'Seediq',\n",
              " 'ts': 'Xitsonga',\n",
              " 'tt': 'татарча / tatarça',\n",
              " 'tt-cyrl': 'татарча',\n",
              " 'tt-latn': 'tatarça',\n",
              " 'ttj': 'Orutooro',\n",
              " 'tum': 'chiTumbuka',\n",
              " 'tw': 'Twi',\n",
              " 'ty': 'reo tahiti',\n",
              " 'tyv': 'тыва дыл',\n",
              " 'tzm': 'ⵜⴰⵎⴰⵣⵉⵖⵜ',\n",
              " 'udm': 'удмурт',\n",
              " 'ug': 'ئۇيغۇرچە / Uyghurche',\n",
              " 'ug-arab': 'ئۇيغۇرچە',\n",
              " 'ug-latn': 'Uyghurche',\n",
              " 'uk': 'українська',\n",
              " 'ur': 'اردو',\n",
              " 'uz': 'oʻzbekcha / ўзбекча',\n",
              " 'uz-cyrl': 'ўзбекча',\n",
              " 'uz-latn': 'oʻzbekcha',\n",
              " 've': 'Tshivenda',\n",
              " 'vec': 'vèneto',\n",
              " 'vep': 'vepsän kel’',\n",
              " 'vi': 'Tiếng Việt',\n",
              " 'vls': 'West-Vlams',\n",
              " 'vmf': 'Mainfränkisch',\n",
              " 'vmw': 'emakhuwa',\n",
              " 'vo': 'Volapük',\n",
              " 'vot': 'Vaďďa',\n",
              " 'vro': 'võro',\n",
              " 'wa': 'walon',\n",
              " 'wal': 'wolaytta',\n",
              " 'war': 'Winaray',\n",
              " 'wls': 'Fakaʻuvea',\n",
              " 'wo': 'Wolof',\n",
              " 'wuu': '吴语',\n",
              " 'wuu-hans': '吴语（简体）',\n",
              " 'wuu-hant': '吳語（正體）',\n",
              " 'xal': 'хальмг',\n",
              " 'xh': 'isiXhosa',\n",
              " 'xmf': 'მარგალური',\n",
              " 'xsy': 'saisiyat',\n",
              " 'yi': 'ייִדיש',\n",
              " 'yo': 'Yorùbá',\n",
              " 'yrl': 'Nhẽẽgatú',\n",
              " 'yue': '粵語',\n",
              " 'yue-hans': '粵语（简体）',\n",
              " 'yue-hant': '粵語（繁體）',\n",
              " 'za': 'Vahcuengh',\n",
              " 'zea': 'Zeêuws',\n",
              " 'zgh': 'ⵜⴰⵎⴰⵣⵉⵖⵜ ⵜⴰⵏⴰⵡⴰⵢⵜ',\n",
              " 'zgh-latn': 'tamaziɣt tanawayt',\n",
              " 'zh': '中文',\n",
              " 'zh-classical': '文言',\n",
              " 'zh-cn': '中文（中国大陆）',\n",
              " 'zh-hans': '中文（简体）',\n",
              " 'zh-hant': '中文（繁體）',\n",
              " 'zh-hk': '中文（香港）',\n",
              " 'zh-min-nan': 'Bân-lâm-gú',\n",
              " 'zh-mo': '中文（澳門）',\n",
              " 'zh-my': '中文（马来西亚）',\n",
              " 'zh-sg': '中文（新加坡）',\n",
              " 'zh-tw': '中文（臺灣）',\n",
              " 'zh-yue': '粵語',\n",
              " 'zu': 'isiZulu'}"
            ]
          },
          "metadata": {},
          "execution_count": 11
        }
      ]
    },
    {
      "cell_type": "markdown",
      "metadata": {
        "id": "Vj2xUHbW31oE"
      },
      "source": [
        "To check is a language is supported then write a condition as shown below:\n"
      ]
    },
    {
      "cell_type": "code",
      "source": [
        "wikipedia.set_lang(\"en\")\n",
        "wikipedia.summary(\"Edgar_Allan_Poe\")"
      ],
      "metadata": {
        "colab": {
          "base_uri": "https://localhost:8080/",
          "height": 139
        },
        "id": "cvzuZhUm5IvQ",
        "outputId": "849e99e8-2778-4eab-ef05-cfa5cd4b77ca"
      },
      "execution_count": 37,
      "outputs": [
        {
          "output_type": "execute_result",
          "data": {
            "text/plain": [
              "'Edgar Allan Poe (né Edgar Poe; January 19, 1809 – October 7, 1849) was an American writer, poet, editor, and literary critic who is best known for his poetry and short stories, particularly his tales involving mystery and the macabre. He is widely regarded as one of the central figures of Romanticism and Gothic fiction in the United States, and of early American literature. Poe was one of the country\\'s first successful practitioners of the short story, and is generally considered to be the inventor of the detective fiction genre. In addition, he is credited with contributing significantly to the emergence of science fiction. He is the first well-known American writer to earn a living by writing alone, which resulted in a financially difficult life and career.\\nPoe was born in Boston. He was the second child of actors David and Elizabeth \"Eliza\" Poe. His father abandoned the family in 1810, and when Eliza died the following year, Poe was taken in by John and Frances Allan of Richmond, Virginia. They never formally adopted him, but he lived with them well into young adulthood. Poe attended the University of Virginia, but left after only a year due to a lack of money. He frequently quarreled with John Allan over the funds needed to continue his education as well as his gambling debts. In 1827, having enlisted in the United States Army under the assumed name of Edgar A. Perry, he published his first collection, Tamerlane and Other Poems, which was credited only to \"a Bostonian\". Poe and Allan reached a temporary rapprochement after the death of Allan\\'s wife Frances in 1829. However, Poe later failed as an officer cadet at West Point, declared his intention to become a writer, primarily of poems, and parted ways with Allan.\\nPoe switched his focus to prose, and spent the next several years working for literary journals and periodicals, becoming known for his own style of literary criticism. His work forced him to move between several cities, including Baltimore, Philadelphia, and New York City. In 1836, when he was 27, he married his 13-year-old cousin, Virginia Clemm. She died of tuberculosis in 1847.\\nIn January 1845, he published his poem \"The Raven\" to instant success. He planned for years to produce his own journal The Penn, later renamed The Stylus. But before it began publishing, Poe died in Baltimore in 1849, aged 40, under mysterious circumstances. The cause of his death remains unknown and has been attributed to many causes, including disease, alcoholism, substance abuse, and suicide.\\nPoe\\'s works influenced the development of literature throughout the world and even impacted such specialized fields as cosmology and cryptography. Since his death, he and his writings have appeared throughout popular culture in such fields as art, photography, literary allusions, music, motion pictures, and television. Several of his homes are dedicated museums. In addition, The Mystery Writers of America presents an annual Edgar Award for distinguished work in the mystery genre.'"
            ],
            "application/vnd.google.colaboratory.intrinsic+json": {
              "type": "string"
            }
          },
          "metadata": {},
          "execution_count": 37
        }
      ]
    },
    {
      "cell_type": "code",
      "source": [
        "doc1 = wikipedia.summary(\"Edgar_Allan_Poe\")"
      ],
      "metadata": {
        "id": "IZcnyaIy5PMk"
      },
      "execution_count": 43,
      "outputs": []
    },
    {
      "cell_type": "code",
      "source": [
        "doc1"
      ],
      "metadata": {
        "colab": {
          "base_uri": "https://localhost:8080/",
          "height": 139
        },
        "id": "LddIXdBt5RgE",
        "outputId": "9adcf62e-7adb-4435-d9d1-f9ed02965ee1"
      },
      "execution_count": 44,
      "outputs": [
        {
          "output_type": "execute_result",
          "data": {
            "text/plain": [
              "'Edgar Allan Poe (né Edgar Poe; January 19, 1809 – October 7, 1849) was an American writer, poet, editor, and literary critic who is best known for his poetry and short stories, particularly his tales involving mystery and the macabre. He is widely regarded as one of the central figures of Romanticism and Gothic fiction in the United States, and of early American literature. Poe was one of the country\\'s first successful practitioners of the short story, and is generally considered to be the inventor of the detective fiction genre. In addition, he is credited with contributing significantly to the emergence of science fiction. He is the first well-known American writer to earn a living by writing alone, which resulted in a financially difficult life and career.\\nPoe was born in Boston. He was the second child of actors David and Elizabeth \"Eliza\" Poe. His father abandoned the family in 1810, and when Eliza died the following year, Poe was taken in by John and Frances Allan of Richmond, Virginia. They never formally adopted him, but he lived with them well into young adulthood. Poe attended the University of Virginia, but left after only a year due to a lack of money. He frequently quarreled with John Allan over the funds needed to continue his education as well as his gambling debts. In 1827, having enlisted in the United States Army under the assumed name of Edgar A. Perry, he published his first collection, Tamerlane and Other Poems, which was credited only to \"a Bostonian\". Poe and Allan reached a temporary rapprochement after the death of Allan\\'s wife Frances in 1829. However, Poe later failed as an officer cadet at West Point, declared his intention to become a writer, primarily of poems, and parted ways with Allan.\\nPoe switched his focus to prose, and spent the next several years working for literary journals and periodicals, becoming known for his own style of literary criticism. His work forced him to move between several cities, including Baltimore, Philadelphia, and New York City. In 1836, when he was 27, he married his 13-year-old cousin, Virginia Clemm. She died of tuberculosis in 1847.\\nIn January 1845, he published his poem \"The Raven\" to instant success. He planned for years to produce his own journal The Penn, later renamed The Stylus. But before it began publishing, Poe died in Baltimore in 1849, aged 40, under mysterious circumstances. The cause of his death remains unknown and has been attributed to many causes, including disease, alcoholism, substance abuse, and suicide.\\nPoe\\'s works influenced the development of literature throughout the world and even impacted such specialized fields as cosmology and cryptography. Since his death, he and his writings have appeared throughout popular culture in such fields as art, photography, literary allusions, music, motion pictures, and television. Several of his homes are dedicated museums. In addition, The Mystery Writers of America presents an annual Edgar Award for distinguished work in the mystery genre.'"
            ],
            "application/vnd.google.colaboratory.intrinsic+json": {
              "type": "string"
            }
          },
          "metadata": {},
          "execution_count": 44
        }
      ]
    },
    {
      "cell_type": "code",
      "source": [
        "wikipedia.set_lang(\"en\")\n",
        "wikipedia.summary(\"Leonidas_I\")"
      ],
      "metadata": {
        "colab": {
          "base_uri": "https://localhost:8080/",
          "height": 122
        },
        "id": "ZGJWbhfX5Yuu",
        "outputId": "8835265a-242d-4d10-fd67-47ab3e800c08"
      },
      "execution_count": 45,
      "outputs": [
        {
          "output_type": "execute_result",
          "data": {
            "text/plain": [
              "'Leonidas I (; Ancient Greek: Λεωνίδας, Leōnídas; born c.\\u2009540 BC; died 11 August 480 BC) was king of the Ancient Greek city-state of Sparta. He was the son of king Anaxandridas II and the 17th king of the Agiad dynasty, a Spartan royal house which claimed descent from the mythical demigod Heracles. Leonidas I ascended to the throne in c.\\u2009489 BC, succeeding his half-brother king Cleomenes I. He ruled jointly along with king Leotychidas until his death in 480 BC, when he was succeeded by his son, Pleistarchus. \\nAt the  Second Greco-Persian War, Leonidas led the allied Greek forces in a last stand at the Battle of Thermopylae (480 BC), attempting to defend the pass from the invading Persian army, and was killed early during the third and last day of the battle. Leonidas entered myth as a hero and the leader of the 300 Spartans who died in battle at Thermopylae. While the Greeks lost this battle, they were able to expel the Persian invaders in the following year.'"
            ],
            "application/vnd.google.colaboratory.intrinsic+json": {
              "type": "string"
            }
          },
          "metadata": {},
          "execution_count": 45
        }
      ]
    },
    {
      "cell_type": "code",
      "source": [
        "doc2 = wikipedia.summary(\"Leonidas_I\")"
      ],
      "metadata": {
        "id": "1XsIEO1R5jd8"
      },
      "execution_count": 46,
      "outputs": []
    },
    {
      "cell_type": "code",
      "source": [
        "doc2"
      ],
      "metadata": {
        "colab": {
          "base_uri": "https://localhost:8080/",
          "height": 122
        },
        "id": "8YyFKmbY5qgN",
        "outputId": "9ac47ca6-7184-40a3-a298-f8002c3ea567"
      },
      "execution_count": 47,
      "outputs": [
        {
          "output_type": "execute_result",
          "data": {
            "text/plain": [
              "'Leonidas I (; Ancient Greek: Λεωνίδας, Leōnídas; born c.\\u2009540 BC; died 11 August 480 BC) was king of the Ancient Greek city-state of Sparta. He was the son of king Anaxandridas II and the 17th king of the Agiad dynasty, a Spartan royal house which claimed descent from the mythical demigod Heracles. Leonidas I ascended to the throne in c.\\u2009489 BC, succeeding his half-brother king Cleomenes I. He ruled jointly along with king Leotychidas until his death in 480 BC, when he was succeeded by his son, Pleistarchus. \\nAt the  Second Greco-Persian War, Leonidas led the allied Greek forces in a last stand at the Battle of Thermopylae (480 BC), attempting to defend the pass from the invading Persian army, and was killed early during the third and last day of the battle. Leonidas entered myth as a hero and the leader of the 300 Spartans who died in battle at Thermopylae. While the Greeks lost this battle, they were able to expel the Persian invaders in the following year.'"
            ],
            "application/vnd.google.colaboratory.intrinsic+json": {
              "type": "string"
            }
          },
          "metadata": {},
          "execution_count": 47
        }
      ]
    },
    {
      "cell_type": "code",
      "source": [
        "wikipedia.set_lang(\"en\")\n",
        "wikipedia.summary(\"Jose_Ingenieros\")"
      ],
      "metadata": {
        "colab": {
          "base_uri": "https://localhost:8080/",
          "height": 139
        },
        "id": "KcMPZkoO37W9",
        "outputId": "86664582-6a8f-4ad4-e55a-11ba6b8e8901"
      },
      "execution_count": 48,
      "outputs": [
        {
          "output_type": "execute_result",
          "data": {
            "text/plain": [
              "'José Ingenieros (born Giuseppe Ingegnieri, April 24, 1877 – October 31, 1925) was an Argentine  physician, pharmacist, positivist  philosopher and essayist. \\nHe was born in Palermo (Italy), and graduated from the University of Buenos Aires School of Medicine in 1900. Ingenieros was philosophically influenced by Herbert Spencer and Auguste Comte, and wrote a very important philosophical and social work, \"El hombre mediocre\" (The Mediocre Man), in 1913. Ingenieros founded the Buenos Aires Institute of Criminology in 1907 and the Argentine Psychological Society in 1908; he was elected President of the Argentine Medical Association in 1909.\\nIngenieros married Eva Rutenberg, in Lausanne, in 1914. Appointed Assistant Dean of the School of Philosophy and Letters of his alma mater, he played a prominent role in the landmark University reform in Argentina, in 1918. He resigned his academic posts in 1919 to join Claridad, a communist organization, and in 1922, formed Unión Latinoamerica, a political action committee focused on anti-imperialism. He was an active Freemason since 1898. He founded a monthly, Renovación, in 1925, but died in Buenos Aires later that year.'"
            ],
            "application/vnd.google.colaboratory.intrinsic+json": {
              "type": "string"
            }
          },
          "metadata": {},
          "execution_count": 48
        }
      ]
    },
    {
      "cell_type": "code",
      "source": [
        "doc3 = wikipedia.summary(\"Jose_Ingenieros\")"
      ],
      "metadata": {
        "id": "7YMGDSMJ58D0"
      },
      "execution_count": 49,
      "outputs": []
    },
    {
      "cell_type": "code",
      "source": [
        "doc3"
      ],
      "metadata": {
        "colab": {
          "base_uri": "https://localhost:8080/",
          "height": 157
        },
        "id": "qrKgwzcC6Acj",
        "outputId": "889358e7-65e1-4c79-d35b-70ea1a18c4d1"
      },
      "execution_count": 50,
      "outputs": [
        {
          "output_type": "execute_result",
          "data": {
            "text/plain": [
              "'José Ingenieros (born Giuseppe Ingegnieri, April 24, 1877 – October 31, 1925) was an Argentine  physician, pharmacist, positivist  philosopher and essayist. \\nHe was born in Palermo (Italy), and graduated from the University of Buenos Aires School of Medicine in 1900. Ingenieros was philosophically influenced by Herbert Spencer and Auguste Comte, and wrote a very important philosophical and social work, \"El hombre mediocre\" (The Mediocre Man), in 1913. Ingenieros founded the Buenos Aires Institute of Criminology in 1907 and the Argentine Psychological Society in 1908; he was elected President of the Argentine Medical Association in 1909.\\nIngenieros married Eva Rutenberg, in Lausanne, in 1914. Appointed Assistant Dean of the School of Philosophy and Letters of his alma mater, he played a prominent role in the landmark University reform in Argentina, in 1918. He resigned his academic posts in 1919 to join Claridad, a communist organization, and in 1922, formed Unión Latinoamerica, a political action committee focused on anti-imperialism. He was an active Freemason since 1898. He founded a monthly, Renovación, in 1925, but died in Buenos Aires later that year.'"
            ],
            "application/vnd.google.colaboratory.intrinsic+json": {
              "type": "string"
            }
          },
          "metadata": {},
          "execution_count": 50
        }
      ]
    },
    {
      "cell_type": "code",
      "source": [
        "wikipedia.set_lang(\"es\")\n",
        "wikipedia.page(\"Jose_Ingenieros\")"
      ],
      "metadata": {
        "colab": {
          "base_uri": "https://localhost:8080/"
        },
        "id": "dc3N5zZA4Fxt",
        "outputId": "6c92d780-b768-458d-a053-f933c217b433"
      },
      "execution_count": 35,
      "outputs": [
        {
          "output_type": "execute_result",
          "data": {
            "text/plain": [
              "<WikipediaPage 'José Ingenieros'>"
            ]
          },
          "metadata": {},
          "execution_count": 35
        }
      ]
    },
    {
      "cell_type": "code",
      "metadata": {
        "id": "jwWJSdLa32y7",
        "colab": {
          "base_uri": "https://localhost:8080/"
        },
        "outputId": "f30ac9bf-59e6-4bad-ca3d-2f4d24319f3f"
      },
      "source": [
        "'es' in wikipedia.languages()"
      ],
      "execution_count": 23,
      "outputs": [
        {
          "output_type": "execute_result",
          "data": {
            "text/plain": [
              "True"
            ]
          },
          "metadata": {},
          "execution_count": 23
        }
      ]
    },
    {
      "cell_type": "markdown",
      "metadata": {
        "id": "_Y9DRi_Z35BW"
      },
      "source": [
        "Here **‘en’** stands for **‘English’** and you know the answer for the above code. Its obviously a **“True”** or **“False”**, here it’s **“True”**\n"
      ]
    },
    {
      "cell_type": "markdown",
      "metadata": {
        "id": "FzR_Dyv9396E"
      },
      "source": [
        "Also, to get a possible language prefix please try:\n"
      ]
    },
    {
      "cell_type": "code",
      "metadata": {
        "id": "3h4bXT4e39NB",
        "colab": {
          "base_uri": "https://localhost:8080/",
          "height": 35
        },
        "outputId": "e77ee299-3b60-472d-aa3e-9d5bc5bb2007"
      },
      "source": [
        "wikipedia.languages()['es']"
      ],
      "execution_count": 24,
      "outputs": [
        {
          "output_type": "execute_result",
          "data": {
            "text/plain": [
              "'español'"
            ],
            "application/vnd.google.colaboratory.intrinsic+json": {
              "type": "string"
            }
          },
          "metadata": {},
          "execution_count": 24
        }
      ]
    },
    {
      "cell_type": "markdown",
      "metadata": {
        "id": "jN8g10xm4Ah5"
      },
      "source": [
        "\n",
        "\n",
        "---\n",
        "\n"
      ]
    },
    {
      "cell_type": "markdown",
      "metadata": {
        "id": "74-fpccn4B1V"
      },
      "source": [
        "# Page Access\n"
      ]
    },
    {
      "cell_type": "markdown",
      "metadata": {
        "id": "az0j8nrH4DX_"
      },
      "source": [
        "The API also gives us full access to the Wikipedia page, with the help of which we can access the title, URL, content, images, links of the complete page. In order to access the page you need to load the page first as shown below:\n",
        "\n",
        "**Just a heads up, I will use a single article topic (Coronavirus) as a reference in this example:**\n",
        "\n"
      ]
    },
    {
      "cell_type": "code",
      "metadata": {
        "id": "a6AfRu4l4GkY"
      },
      "source": [
        "covid = wikipedia.page(\"Coronavirus\")"
      ],
      "execution_count": 25,
      "outputs": []
    },
    {
      "cell_type": "code",
      "source": [
        "Jose_Ingenieros = wikipedia.page(\"Jose Ingenieros\")"
      ],
      "metadata": {
        "id": "KczQiora3JzU"
      },
      "execution_count": 26,
      "outputs": []
    },
    {
      "cell_type": "markdown",
      "metadata": {
        "id": "gdQdjA7l4Nc-"
      },
      "source": [
        "## Title\n",
        "\n",
        "To access the title of the above-provided page use:\n"
      ]
    },
    {
      "cell_type": "code",
      "metadata": {
        "id": "uXM8OdyG4Qz8",
        "colab": {
          "base_uri": "https://localhost:8080/"
        },
        "outputId": "53c94192-90b7-49c6-8798-c57923d06157"
      },
      "source": [
        "print(Jose_Ingenieros.title)"
      ],
      "execution_count": 27,
      "outputs": [
        {
          "output_type": "stream",
          "name": "stdout",
          "text": [
            "José Ingenieros\n"
          ]
        }
      ]
    },
    {
      "cell_type": "markdown",
      "metadata": {
        "id": "GOVuo1Db4SnW"
      },
      "source": [
        "## URL\n",
        "To get the URL of the page use:"
      ]
    },
    {
      "cell_type": "code",
      "metadata": {
        "id": "iymZUWiC4Udb",
        "colab": {
          "base_uri": "https://localhost:8080/"
        },
        "outputId": "c5af1f5b-c176-42b5-9252-926c0c4b3d9a"
      },
      "source": [
        "print(Jose_Ingenieros.url)"
      ],
      "execution_count": 28,
      "outputs": [
        {
          "output_type": "stream",
          "name": "stdout",
          "text": [
            "https://fr.wikipedia.org/wiki/Jos%C3%A9_Ingenieros\n"
          ]
        }
      ]
    },
    {
      "cell_type": "markdown",
      "metadata": {
        "id": "hiX10HQ04WUt"
      },
      "source": [
        "## Content\n",
        "To access the content of the page use:\n"
      ]
    },
    {
      "cell_type": "code",
      "metadata": {
        "id": "jRcUW9va4ZCV",
        "colab": {
          "base_uri": "https://localhost:8080/"
        },
        "outputId": "a49f4959-f0ac-4ce2-b83e-fa0cd4012598"
      },
      "source": [
        "print(Jose_Ingenieros.content)"
      ],
      "execution_count": 29,
      "outputs": [
        {
          "output_type": "stream",
          "name": "stdout",
          "text": [
            "José Ingenieros, né le 24 avril 1877 à Palerme (Italie); décédé le 31 octobre 1925 à Buenos Aires (Argentine), né Giuseppe Ingegneri, était un médecin, psychiatre, psychologue, pharmacien, écrivain, enseignant, philosophe et sociologue italo-argentin. Son livre Évolution des idées argentines fut crucial dans la compréhension du développement historique de l'Argentine en tant que nation. Il fut notamment important pour les étudiants qui inspirèrent la Réforme Universitaire (en•es•es) de 1918.\n",
            "\n",
            "\n",
            "== Biographie ==\n",
            "Fils de Salvatore Ingegnieri et de Ana Tagliavia, il suivit ses études en primaire à l'Institut National. En 1888, il incorpora le Colegio Nacional de Buenos Aires, à l'époque dirigé par Amancio Alcorta. En 1892, ayant déjà fini ses études secondaires, il fonde la revue La Réforme et une année plus tard, en 1893, il entre comme élève à la faculté de médecine de Buenos Aires. Il y obtient le diplôme de pharmacien en 1897, puis de médecin en 1900 avec une thèse intitulée Simulation dans la lutte pour la vie.\n",
            "En 1903, l'Académie Nationale de Médecine le promut pour Simulation de la folie (suite de sa thèse éditée en livre). Il fut nommé chef de la Clinique des Maladies nerveuses de la Faculté de Médecine de l'Université de Buenos Aires et en 1904, il obtint la suppléance de la Chaire de Psychologie Expérimentale à la Faculté de Philosophie et Lettres.\n",
            "Il devient un membre éminent de la Chaire de Neurologie de José María Ramos Mejía et du Service d'Observation des Aliénés de la Police de la Capitale, service dont il deviendra le directeur.\n",
            "Entre 1902 et 1913, il dirige les archives de Psychiatrie et Criminologie et prit en charge l'Institut de Criminologie du Pénitencier National de Bueno Aires, alternant son travail et des conférences dans des universités européennes.\n",
            "En 1908, il rejoint la Chaire de Psychologie Expérimentale dans la Faculté de Philosophie et de Lettres de l'Université de Bueno Aires. Cette année-là, il fonde la Société de Psychologie.\n",
            "En 1909, il fut élu Président de la Société Médicale Argentine et nommé Délégué Argentin du Congrès Scientifique International de Bueno Aires. Il complète ses études scientifiques dans des Universités de Paris, Genève, Lausanne et Heidelberg.\n",
            "Ses essais sociologiques, tel qu' El Hombre Mediocre (L'homme médiocre en français) et ses essais critique et politique, tels qu' Al margen de la ciencia, Hacia una moral sin dogmas, Las Fuerzas Morales, Evolución de las ideas argentinas et Los tiempos nuevos eurent un grand impact sur l'enseignement au niveau universitaire en Argentine et furent très influents au sein de la jeunesse latino-américaine.\n",
            "En plus de diriger son journal bimestriel, \"Seminario de Filosofía\", il utilisa sa passion pour la science dans son combat pour une forte éthique sociale. Il fut considéré comme un intellectuel de poids de son époque.\n",
            "Pendant la Réforme universitaire lancée en 1918, il fut élu sous-doyen de la faculté de Philosophie et de Lettres, avec l'appui du mouvement étudiant.\n",
            "En 1914, il se maria avec Eva Rutenberg à Lausanne, les fiançailles ayant eu lieu à Bueno Aires. Ils eurent quatre enfants, Delia, Amalia, Julio et Cecilia. Son épouse vécut une trentaine d'années de plus que lui, sa plus jeune fille Cecilia est décédée en 1995 et sa plus âgée Delia en 1996.\n",
            "En 1919 il renonça à toutes ses fonctions académiques et commença à partir de 1920 sa lutte politique, participant de manière active au groupe progressiste Claridad, de tendance communiste.\n",
            "En 1922, il proposa la formation de l'\"Union Latino-américaine\", une organisation de lutte contre l'impérialisme qui promut continuellement les idées anti-impérialistes.\n",
            "En 1925, un peu avant son décès, il créa le mensuel \"Renovación\", anti-impérialiste, signant sous les pseudonymes de Julio Barreda Lynch et de Raúl H. Cisneros.\n",
            "Peu à peu, il évolua de ses premières prises de position pour le Socialisme d'État et commença à collaborer avec les journaux anarchistes, devenant ouvertement un sympathisant anarchiste, nombre de ses œuvres reflètent cette influence. Il fut sans doute influencé grandement par le criminologue italien Pietro Gori.\n",
            "Il est décédé à l'âge de 48 ans, le 31 octobre 1925.\n",
            "\n",
            "\n",
            "== Publications ==\n",
            "\n",
            "\n",
            "=== Première période ===\n",
            "1902: La psicopatología en el arte, Buenos Aires\n",
            "1902: La simulación en la lucha por la vida, Buenos Aires\n",
            "1903: Simulación de la locura, Buenos Aires\n",
            "1904: Histeria y sugestión, Buenos Aires\n",
            "1906: Patología del lenguaje musical, París\n",
            "1906: Crónicas de viaje, Buenos Aires\n",
            "1907: La locura en la Argentina, Buenos Aires\n",
            "\n",
            "\n",
            "=== Seconde période ===\n",
            "1910: Archivos de Psiquiatría y Criminología, aplicadas a las ciencias afines. Lecciones desarrolladas en su curso universitario de 1910. Buenos Aires\n",
            "1911: Principios de psicología, Buenos Aires\n",
            "1913: El hombre mediocre, Madrid (traduit en français sous le titre L'homme médiocre)\n",
            "1917: Hacia una moral sin dogmas, Buenos Aires\n",
            "1917: Ciencia y filosofía, Madrid\n",
            "1918: Sociología argentina, Buenos Aires\n",
            "1918: Proposiciones relativas al porvenir de la filosofía, Buenos Aires\n",
            "1918: Evolución de las ideas argentinas, Buenos Aires\n",
            "1919: Las doctrinas de Ameghino, Buenos Aires\n",
            "1921: Los tiempos nuevos, Buenos Aires\n",
            "1922: Emilio Boutroux y la filosofía francesa, Buenos Aires\n",
            "1922: La cultura filosófica en España, Buenos Aires\n",
            "Las fuerzas morales, obra póstuma\n",
            "Tratado del amor, obra póstuma\n",
            "\n",
            "\n",
            "=== Articles ===\n",
            "1898: «Unilateralidad psicológica de los sabios oficiales», artículo en la revista Philadelphia (Buenos Aires), 7 de noviembre de 1898.\n",
            "1897: «La ciencia oficial y la facultad de ciencias herméticas», artículo en el diario La Montaña, año I, n.º 11, 1 de septiembre de 1897.\n",
            "1915: «El contenido filosófico de la cultura argentina», artículo en Revista de Filosofía (Buenos Aires), enero de 1915.\n",
            "1905: «El elogio de la risa», artículo en Chinón; publicado también en la revista Teosofía en Argentina, número 4, 1996.\n",
            "\n",
            "\n",
            "== Référence ==\n",
            "(es) Cet article est partiellement ou en totalité issu de l’article de Wikipédia en espagnol intitulé « José Ingenieros » (voir la liste des auteurs).\n",
            "\n",
            "\n",
            "== Liens externes ==\n",
            "\n",
            " Portail de l’Argentine\n"
          ]
        }
      ]
    },
    {
      "cell_type": "markdown",
      "metadata": {
        "id": "bqvj8glX4cF4"
      },
      "source": [
        "\n",
        "\n",
        "> **Hint**: You can get the content of the entire page using the above method\n",
        "\n"
      ]
    },
    {
      "cell_type": "markdown",
      "metadata": {
        "id": "ILZYEymU4enU"
      },
      "source": [
        "## Images\n",
        "\n",
        "Yes, you are right we can get the images from the Wikipedia article. But the catch point here is, we can’t render the whole images here but we can get them as URL’s as shown below:\n"
      ]
    },
    {
      "cell_type": "code",
      "metadata": {
        "id": "YqcEcBXJ4iHf",
        "colab": {
          "base_uri": "https://localhost:8080/"
        },
        "outputId": "42d7be7f-9ceb-4156-d435-eca7c2d57107"
      },
      "source": [
        "print(Jose_Ingenieros.images)"
      ],
      "execution_count": 30,
      "outputs": [
        {
          "output_type": "stream",
          "name": "stdout",
          "text": [
            "['https://upload.wikimedia.org/wikipedia/commons/7/73/Blue_pencil.svg', 'https://upload.wikimedia.org/wikipedia/commons/1/1a/Flag_of_Argentina.svg', 'https://upload.wikimedia.org/wikipedia/commons/3/38/Info_Simple.svg', 'https://upload.wikimedia.org/wikipedia/commons/f/f5/Jose_Ingenieros_-_ca_1915.jpg', 'https://upload.wikimedia.org/wikipedia/commons/3/3a/Signature_of_Jose_Ingenieros.jpg', 'https://upload.wikimedia.org/wikipedia/commons/2/2a/Translation_arrow.svg']\n"
          ]
        }
      ]
    },
    {
      "cell_type": "markdown",
      "metadata": {
        "id": "ZiwtWUh24ke_"
      },
      "source": [
        "## Links\n",
        "Similarly, we can get the links that Wikipedia used as a reference from different websites or research, etc."
      ]
    },
    {
      "cell_type": "code",
      "metadata": {
        "id": "A9ABv9rU4mW1",
        "colab": {
          "base_uri": "https://localhost:8080/"
        },
        "outputId": "69648ba4-adfa-4063-f818-59cc0aef527e"
      },
      "source": [
        "print(Jose_Ingenieros.links)"
      ],
      "execution_count": 31,
      "outputs": [
        {
          "output_type": "stream",
          "name": "stdout",
          "text": [
            "['1877', '1888', '1892', '1893', '1897', '1900', '1903', '1918', '1925', '24 avril', '31 octobre', 'Amancio Alcorta', 'Anarchisme', 'Anti-impérialisme', 'Argentine', \"Autorité (sciences de l'information)\", 'Avril 1877', 'Buenos Aires', 'Cimetière de la Chacarita', 'Colegio Nacional de Buenos Aires', 'Communisme', 'Eva Rutenberg', 'Impérialisme', 'Intellectuel', 'Italie', 'José María Ramos Mejía', 'Lausanne', 'Médecin', 'Octobre 1925', 'Palerme', 'Pharmacien', 'Philosophe', 'Pietro Gori', 'Progressisme', 'Psychiatre', 'Psychiatrie', 'Psychologie expérimentale', 'Psychologue', 'Réforme universitaire (Amérique Latine)', 'Réforme universitaire de 1918 en Argentine', \"Socialisme d'État\", 'Sociologue', \"Suite d'une œuvre\", 'Université de Buenos Aires', 'Écrivain']\n"
          ]
        }
      ]
    },
    {
      "cell_type": "markdown",
      "metadata": {
        "id": "dje7G6OJ4noc"
      },
      "source": [
        "\n",
        "\n",
        "---\n",
        "\n"
      ]
    },
    {
      "cell_type": "markdown",
      "metadata": {
        "id": "T2lXTaHC4oOF"
      },
      "source": [
        "So, there you go, you have reached the end of the tutorial of Wikipedia API for Python. To know more methods visit [Wikipedia API](https://wikipedia.readthedocs.io/en/latest/code.html#api). I hope you guys had a lot of fun learning and implementing. If you guys have any comments or concerns let me know via the comment section below. Until then Good-Bye.\n",
        "\n",
        "\n",
        "# Be Safe.\n",
        "\n"
      ]
    }
  ]
}