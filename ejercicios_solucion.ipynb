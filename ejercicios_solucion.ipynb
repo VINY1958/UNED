{
  "cells": [
    {
      "cell_type": "markdown",
      "metadata": {
        "id": "view-in-github",
        "colab_type": "text"
      },
      "source": [
        "<a href=\"https://colab.research.google.com/github/Viny2030/UNED/blob/main/ejercicios_solucion.ipynb\" target=\"_parent\"><img src=\"https://colab.research.google.com/assets/colab-badge.svg\" alt=\"Open In Colab\"/></a>"
      ]
    },
    {
      "cell_type": "markdown",
      "metadata": {
        "id": "N8Q0CFqHGdpA"
      },
      "source": [
        "<a href=\"https://colab.research.google.com/github/institutohumai/cursos-python/blob/master/Introduccion/2_Listas_Y_Funciones/ejercicio/ejercicio-solucion.ipynb\"> <img src='https://colab.research.google.com/assets/colab-badge.svg' /> </a>\n",
        "<div align=\"center\"> Recordá abrir en una nueva pestaña </div>"
      ]
    },
    {
      "cell_type": "markdown",
      "metadata": {
        "id": "Wrg51Y7DGdpG"
      },
      "source": [
        "## El contador de palabras\n",
        "\n",
        "Una revista científica quiere publicar los abstracts de los trabajos que aprobó recientemente pero primero tiene que asegurarse de que ninguno de los abstracts tenga más de 200 palabras.\n",
        "\n",
        "Para interactuar con los archivos que tenemos en nuestro \"file system\" vamos a utilizar el módulo os. No se preocupen por entender todos los detalles ahora, vamos a ir profundizando en la utilización de módulos."
      ]
    },
    {
      "cell_type": "code",
      "execution_count": 1,
      "metadata": {
        "id": "fmnOxbdPGdpI",
        "colab": {
          "base_uri": "https://localhost:8080/"
        },
        "outputId": "37e026df-5350-4a90-bcfa-5fda752f82ab"
      },
      "outputs": [
        {
          "output_type": "stream",
          "name": "stdout",
          "text": [
            "--2024-12-28 21:10:13--  https://storage.googleapis.com/humai-datasets/aws_s3/intro_a_python/2_Listas_Y_Funciones/ejercicios/publicaciones.zip\n",
            "Resolving storage.googleapis.com (storage.googleapis.com)... 142.251.163.207, 142.251.167.207, 142.251.16.207, ...\n",
            "Connecting to storage.googleapis.com (storage.googleapis.com)|142.251.163.207|:443... connected.\n",
            "HTTP request sent, awaiting response... 200 OK\n",
            "Length: 4342 (4.2K) [application/zip]\n",
            "Saving to: ‘publicaciones.zip’\n",
            "\n",
            "publicaciones.zip   100%[===================>]   4.24K  --.-KB/s    in 0s      \n",
            "\n",
            "2024-12-28 21:10:13 (38.7 MB/s) - ‘publicaciones.zip’ saved [4342/4342]\n",
            "\n"
          ]
        }
      ],
      "source": [
        "!wget https://storage.googleapis.com/humai-datasets/aws_s3/intro_a_python/2_Listas_Y_Funciones/ejercicios/publicaciones.zip"
      ]
    },
    {
      "cell_type": "code",
      "execution_count": 2,
      "metadata": {
        "id": "m1f-STKVGdpL",
        "colab": {
          "base_uri": "https://localhost:8080/"
        },
        "outputId": "caa9001e-db20-4949-9615-19eee77fcd38"
      },
      "outputs": [
        {
          "output_type": "stream",
          "name": "stdout",
          "text": [
            "Archive:  publicaciones.zip\n",
            "   creating: publicaciones/\n",
            "  inflating: publicaciones/Yukon Delta Salmon Management.txt  \n",
            "  inflating: publicaciones/The Citrus Solution Phase II.txt  \n",
            "  inflating: publicaciones/Characterization of Iron Deposition in Recombinant Heteropolymer.txt  \n",
            "  inflating: publicaciones/Using GIS Site Suitability Analysis to Study Adaptability.txt  \n"
          ]
        }
      ],
      "source": [
        "!unzip publicaciones.zip"
      ]
    },
    {
      "cell_type": "code",
      "execution_count": 3,
      "metadata": {
        "id": "hRRI1l--GdpM"
      },
      "outputs": [],
      "source": [
        "import os"
      ]
    },
    {
      "cell_type": "code",
      "execution_count": 4,
      "metadata": {
        "id": "6dn0dqASGdpM"
      },
      "outputs": [],
      "source": [
        "archivos_directorio = os.listdir('publicaciones')"
      ]
    },
    {
      "cell_type": "code",
      "execution_count": 5,
      "metadata": {
        "id": "GQmUJUoFGdpN",
        "outputId": "fd1e34b7-09d9-46cf-86f8-ce26908245db",
        "colab": {
          "base_uri": "https://localhost:8080/"
        }
      },
      "outputs": [
        {
          "output_type": "stream",
          "name": "stdout",
          "text": [
            "['Using GIS Site Suitability Analysis to Study Adaptability.txt', 'The Citrus Solution Phase II.txt', 'Characterization of Iron Deposition in Recombinant Heteropolymer.txt', 'Yukon Delta Salmon Management.txt']\n"
          ]
        }
      ],
      "source": [
        "print(archivos_directorio)"
      ]
    },
    {
      "cell_type": "markdown",
      "metadata": {
        "id": "ZEj6oGo9GdpP"
      },
      "source": [
        "La función listdir nos devuelve una lista con todos los archivos que están en la carpeta publicaciones. Noten que solamente nos devuelve los nombres de los archivos, no la ruta completa que necesitamos para acceder a los mismos desde la ubicación en el filesystem donde se encuentra esta notebook.\n",
        "\n",
        "Las rutas hasta los archivos cambian con el sistema operativo, por eso si están en Windows, la forma de acceder al archivo Yukon Delta Salmon Management.txt es ejercicios\\\\Yukon Delta Salmon Management.txt mientras que si están en Linux o Unix la forma de acceder es ejercicios/Yukon Delta Salmon Management.txt .  Para evitar problemas y que el código sea ejecutable desde cualquier sistema operativo, el módulo os tiene la función os.join.\n",
        "\n",
        "Entonces para crear las rutas vamos a usar la función os.path.join y para esto es ideal una lista por comprensión"
      ]
    },
    {
      "cell_type": "code",
      "execution_count": 6,
      "metadata": {
        "id": "SLYBuxhQGdpR"
      },
      "outputs": [],
      "source": [
        "rutas_archivos = [os.path.join('publicaciones',archivo) for archivo in archivos_directorio]"
      ]
    },
    {
      "cell_type": "code",
      "execution_count": 7,
      "metadata": {
        "id": "SZns9AhlGdpS",
        "outputId": "8775f377-bcc7-4d5e-fd65-44172b50fec1",
        "colab": {
          "base_uri": "https://localhost:8080/"
        }
      },
      "outputs": [
        {
          "output_type": "execute_result",
          "data": {
            "text/plain": [
              "['publicaciones/Using GIS Site Suitability Analysis to Study Adaptability.txt',\n",
              " 'publicaciones/The Citrus Solution Phase II.txt',\n",
              " 'publicaciones/Characterization of Iron Deposition in Recombinant Heteropolymer.txt',\n",
              " 'publicaciones/Yukon Delta Salmon Management.txt']"
            ]
          },
          "metadata": {},
          "execution_count": 7
        }
      ],
      "source": [
        "rutas_archivos"
      ]
    },
    {
      "cell_type": "markdown",
      "metadata": {
        "id": "9hMHByR3GdpT"
      },
      "source": [
        "Ahora vamos a unir estas dos listas del mismo tamaño en una lista de tuplas utilizando la función \"zip\" de Python nativo. Como el zip de Python devuelve un objeto iterable, vamos a convertirlo en lista para trabajar mejor"
      ]
    },
    {
      "cell_type": "code",
      "execution_count": 8,
      "metadata": {
        "id": "s9FO0EJ0GdpU"
      },
      "outputs": [],
      "source": [
        "tuplas_archivos = list(zip(rutas_archivos,archivos_directorio))"
      ]
    },
    {
      "cell_type": "code",
      "execution_count": 9,
      "metadata": {
        "id": "a-UwIUgSGdpU",
        "outputId": "a25606c1-3932-4170-9800-56ae968fabc6",
        "colab": {
          "base_uri": "https://localhost:8080/"
        }
      },
      "outputs": [
        {
          "output_type": "stream",
          "name": "stdout",
          "text": [
            "('publicaciones/Using GIS Site Suitability Analysis to Study Adaptability.txt', 'Using GIS Site Suitability Analysis to Study Adaptability.txt')\n",
            "('publicaciones/The Citrus Solution Phase II.txt', 'The Citrus Solution Phase II.txt')\n",
            "('publicaciones/Characterization of Iron Deposition in Recombinant Heteropolymer.txt', 'Characterization of Iron Deposition in Recombinant Heteropolymer.txt')\n",
            "('publicaciones/Yukon Delta Salmon Management.txt', 'Yukon Delta Salmon Management.txt')\n"
          ]
        }
      ],
      "source": [
        "for tupla in tuplas_archivos:\n",
        "    print(tupla)"
      ]
    },
    {
      "cell_type": "markdown",
      "metadata": {
        "id": "3D36PjCZGdpW"
      },
      "source": [
        "Ahora sí, vamos a pedirles que creen una función que reciba una tupla con la ruta y el nombre del archivo. Necesitamos que esta función cuente las palabras que hay en el txt que se encuentra en esa ruta y luego imprima el nombre del archivo y la cantidad.\n",
        "Después vamos a escribir un for loop que recorra la lista tuplas_archivos y devuelve una tupla con el nombre del archivo y la cantidad de palabras. Desde el loop for vamos a imprimir esa tupla.\n"
      ]
    },
    {
      "cell_type": "code",
      "execution_count": 10,
      "metadata": {
        "id": "ko1bpOpIGdpW"
      },
      "outputs": [],
      "source": [
        "# 1. Escribir la función\n",
        "def contar_palabras(tupla):\n",
        "    ruta = tupla[0]\n",
        "    nombre = tupla[1]\n",
        "    with open(ruta, 'r') as inp:\n",
        "        string_contenido = inp.read()\n",
        "    palabras = string_contenido.split(' ')\n",
        "    cantidad_palabras = len(palabras)\n",
        "    return (nombre, cantidad_palabras)"
      ]
    },
    {
      "cell_type": "code",
      "execution_count": 11,
      "metadata": {
        "id": "b-bMfSMYGdpX",
        "outputId": "a780d136-4aa0-4daa-ccfc-1425d827aa7e",
        "colab": {
          "base_uri": "https://localhost:8080/"
        }
      },
      "outputs": [
        {
          "output_type": "stream",
          "name": "stdout",
          "text": [
            "('Using GIS Site Suitability Analysis to Study Adaptability.txt', 134)\n",
            "('The Citrus Solution Phase II.txt', 519)\n",
            "('Characterization of Iron Deposition in Recombinant Heteropolymer.txt', 217)\n",
            "('Yukon Delta Salmon Management.txt', 109)\n"
          ]
        }
      ],
      "source": [
        "# 2. Recorrer en un loop tuplas_archivos invocando a la función\n",
        "for tupla in tuplas_archivos:\n",
        "    print(contar_palabras(tupla))"
      ]
    },
    {
      "cell_type": "markdown",
      "metadata": {
        "id": "L1JIxOR_GdpX"
      },
      "source": [
        "Entonces ¿Cuáles superan las 250 palabras? Si quieren ir una milla extra modifiquen la función para que devuelva True si supera y False si no supera en lugar de devolver la cantidad."
      ]
    },
    {
      "cell_type": "code",
      "execution_count": 12,
      "metadata": {
        "id": "ridmGMhMGdpY"
      },
      "outputs": [],
      "source": [
        "# 3. Modifiquen la función\n",
        "def contar_palabras(tupla):\n",
        "    ruta = tupla[0]\n",
        "    nombre = tupla[1]\n",
        "    with open(ruta, 'r') as inp:\n",
        "        string_contenido = inp.read()\n",
        "    palabras = string_contenido.split(' ')\n",
        "    cantidad_palabras = len(palabras)\n",
        "    supera = False\n",
        "    if cantidad_palabras > 250:\n",
        "        supera = True\n",
        "    return (nombre, supera)"
      ]
    },
    {
      "cell_type": "code",
      "execution_count": 13,
      "metadata": {
        "id": "qNsfRGkDGdpY",
        "outputId": "7e9153b8-6055-4405-b551-bf241579fe68",
        "colab": {
          "base_uri": "https://localhost:8080/"
        }
      },
      "outputs": [
        {
          "output_type": "stream",
          "name": "stdout",
          "text": [
            "('Using GIS Site Suitability Analysis to Study Adaptability.txt', False)\n",
            "('The Citrus Solution Phase II.txt', True)\n",
            "('Characterization of Iron Deposition in Recombinant Heteropolymer.txt', False)\n",
            "('Yukon Delta Salmon Management.txt', False)\n"
          ]
        }
      ],
      "source": [
        "#4. Vuelvan a llamarla\n",
        "for tupla in tuplas_archivos:\n",
        "    print(contar_palabras(tupla))"
      ]
    },
    {
      "cell_type": "code",
      "execution_count": 13,
      "metadata": {
        "id": "93c8RsSkGdpY"
      },
      "outputs": [],
      "source": []
    }
  ],
  "metadata": {
    "kernelspec": {
      "display_name": "conda_python3",
      "language": "python",
      "name": "conda_python3"
    },
    "language_info": {
      "codemirror_mode": {
        "name": "ipython",
        "version": 3
      },
      "file_extension": ".py",
      "mimetype": "text/x-python",
      "name": "python",
      "nbconvert_exporter": "python",
      "pygments_lexer": "ipython3",
      "version": "3.6.10"
    },
    "colab": {
      "provenance": [],
      "include_colab_link": true
    }
  },
  "nbformat": 4,
  "nbformat_minor": 0
}