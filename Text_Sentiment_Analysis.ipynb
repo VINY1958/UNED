{
  "metadata": {
    "kernelspec": {
      "language": "python",
      "display_name": "Python 3",
      "name": "python3"
    },
    "language_info": {
      "name": "python",
      "version": "3.10.12",
      "mimetype": "text/x-python",
      "codemirror_mode": {
        "name": "ipython",
        "version": 3
      },
      "pygments_lexer": "ipython3",
      "nbconvert_exporter": "python",
      "file_extension": ".py"
    },
    "kaggle": {
      "accelerator": "none",
      "dataSources": [
        {
          "sourceId": 2157,
          "sourceType": "datasetVersion",
          "datasetId": 18
        }
      ],
      "dockerImageVersionId": 30822,
      "isInternetEnabled": true,
      "language": "python",
      "sourceType": "notebook",
      "isGpuEnabled": false
    },
    "colab": {
      "provenance": [],
      "include_colab_link": true
    }
  },
  "nbformat_minor": 0,
  "nbformat": 4,
  "cells": [
    {
      "cell_type": "markdown",
      "metadata": {
        "id": "view-in-github",
        "colab_type": "text"
      },
      "source": [
        "<a href=\"https://colab.research.google.com/github/Viny2030/UNED/blob/main/Text_Sentiment_Analysis.ipynb\" target=\"_parent\"><img src=\"https://colab.research.google.com/assets/colab-badge.svg\" alt=\"Open In Colab\"/></a>"
      ]
    },
    {
      "source": [
        "# IMPORTANT: RUN THIS CELL IN ORDER TO IMPORT YOUR KAGGLE DATA SOURCES,\n",
        "# THEN FEEL FREE TO DELETE THIS CELL.\n",
        "# NOTE: THIS NOTEBOOK ENVIRONMENT DIFFERS FROM KAGGLE'S PYTHON\n",
        "# ENVIRONMENT SO THERE MAY BE MISSING LIBRARIES USED BY YOUR\n",
        "# NOTEBOOK.\n",
        "import kagglehub\n",
        "organizations_snap_amazon_fine_food_reviews_path = kagglehub.dataset_download('organizations/snap/amazon-fine-food-reviews')\n",
        "\n",
        "print('Data source import complete.')\n"
      ],
      "metadata": {
        "id": "Mg-bJXKiQ7yY"
      },
      "cell_type": "code",
      "outputs": [],
      "execution_count": null
    },
    {
      "cell_type": "code",
      "source": [
        "import pandas as pd\n",
        "import numpy as np\n",
        "import matplotlib.pyplot as plt\n",
        "import seaborn as sns\n",
        "import nltk\n",
        "\n",
        "import warnings\n",
        "warnings.filterwarnings(\"ignore\")\n",
        "\n",
        "import os\n",
        "for dirname, _, filenames in os.walk('/kaggle/input'):\n",
        "    for filename in filenames:\n",
        "        print(os.path.join(dirname, filename))"
      ],
      "metadata": {
        "_uuid": "8f2839f25d086af736a60e9eeb907d3b93b6e0e5",
        "_cell_guid": "b1076dfc-b9ad-4769-8c92-a6c4dae69d19",
        "trusted": true,
        "execution": {
          "iopub.status.busy": "2025-01-13T02:12:07.991575Z",
          "iopub.execute_input": "2025-01-13T02:12:07.991909Z",
          "iopub.status.idle": "2025-01-13T02:12:08.003961Z",
          "shell.execute_reply.started": "2025-01-13T02:12:07.991882Z",
          "shell.execute_reply": "2025-01-13T02:12:08.002955Z"
        },
        "id": "FCWuj4Z0Q7yb"
      },
      "outputs": [],
      "execution_count": null
    },
    {
      "cell_type": "code",
      "source": [
        "df1 = pd.read_csv(\"/kaggle/input/amazon-fine-food-reviews/Reviews.csv\").head(500)"
      ],
      "metadata": {
        "trusted": true,
        "execution": {
          "iopub.status.busy": "2025-01-13T02:12:08.224897Z",
          "iopub.execute_input": "2025-01-13T02:12:08.225275Z",
          "iopub.status.idle": "2025-01-13T02:12:12.846322Z",
          "shell.execute_reply.started": "2025-01-13T02:12:08.225246Z",
          "shell.execute_reply": "2025-01-13T02:12:12.845385Z"
        },
        "id": "KzYeZjCNQ7yb"
      },
      "outputs": [],
      "execution_count": null
    },
    {
      "cell_type": "code",
      "source": [
        "#df1"
      ],
      "metadata": {
        "trusted": true,
        "execution": {
          "iopub.status.busy": "2025-01-13T02:12:12.847555Z",
          "iopub.execute_input": "2025-01-13T02:12:12.847822Z",
          "iopub.status.idle": "2025-01-13T02:12:12.851518Z",
          "shell.execute_reply.started": "2025-01-13T02:12:12.847798Z",
          "shell.execute_reply": "2025-01-13T02:12:12.85054Z"
        },
        "id": "f1KDlNm8Q7yc"
      },
      "outputs": [],
      "execution_count": null
    },
    {
      "cell_type": "markdown",
      "source": [
        "# Quick EDA"
      ],
      "metadata": {
        "id": "dDfNcXusQ7yc"
      }
    },
    {
      "cell_type": "code",
      "source": [
        "df1.columns"
      ],
      "metadata": {
        "trusted": true,
        "execution": {
          "iopub.status.busy": "2025-01-13T02:12:12.853021Z",
          "iopub.execute_input": "2025-01-13T02:12:12.853297Z",
          "iopub.status.idle": "2025-01-13T02:12:12.870495Z",
          "shell.execute_reply.started": "2025-01-13T02:12:12.853267Z",
          "shell.execute_reply": "2025-01-13T02:12:12.869366Z"
        },
        "id": "qxScCIYZQ7yd"
      },
      "outputs": [],
      "execution_count": null
    },
    {
      "cell_type": "code",
      "source": [
        "ax = df1[\"Score\"].value_counts().sort_index() \\\n",
        "    .plot(kind = \"bar\",\n",
        "          title = \"Countplot of Reviews by Stars\",\n",
        "          figsize = (10,5))\n",
        "\n",
        "ax.set_xlabel(\"Reviewed Stars\")\n",
        "plt.show()"
      ],
      "metadata": {
        "trusted": true,
        "execution": {
          "iopub.status.busy": "2025-01-13T02:12:12.871776Z",
          "iopub.execute_input": "2025-01-13T02:12:12.872167Z",
          "iopub.status.idle": "2025-01-13T02:12:13.105067Z",
          "shell.execute_reply.started": "2025-01-13T02:12:12.87213Z",
          "shell.execute_reply": "2025-01-13T02:12:13.104Z"
        },
        "id": "ELahA0A0Q7yd"
      },
      "outputs": [],
      "execution_count": null
    },
    {
      "cell_type": "markdown",
      "source": [
        "# Basic NLTK"
      ],
      "metadata": {
        "id": "ObV_Z-uCQ7ye"
      }
    },
    {
      "cell_type": "code",
      "source": [
        "entry = df1[\"Text\"][45]\n",
        "print(entry)"
      ],
      "metadata": {
        "trusted": true,
        "execution": {
          "iopub.status.busy": "2025-01-13T02:12:13.106149Z",
          "iopub.execute_input": "2025-01-13T02:12:13.106515Z",
          "iopub.status.idle": "2025-01-13T02:12:13.112068Z",
          "shell.execute_reply.started": "2025-01-13T02:12:13.106478Z",
          "shell.execute_reply": "2025-01-13T02:12:13.110902Z"
        },
        "id": "MR14hviXQ7ye"
      },
      "outputs": [],
      "execution_count": null
    },
    {
      "cell_type": "code",
      "source": [
        "tokens = nltk.word_tokenize(entry)\n",
        "#tokens"
      ],
      "metadata": {
        "trusted": true,
        "execution": {
          "iopub.status.busy": "2025-01-13T02:12:13.113157Z",
          "iopub.execute_input": "2025-01-13T02:12:13.113432Z",
          "iopub.status.idle": "2025-01-13T02:12:13.127105Z",
          "shell.execute_reply.started": "2025-01-13T02:12:13.113407Z",
          "shell.execute_reply": "2025-01-13T02:12:13.126034Z"
        },
        "id": "MeTboSaXQ7yf"
      },
      "outputs": [],
      "execution_count": null
    },
    {
      "cell_type": "code",
      "source": [
        "#part of speech tagging - Nown Singular etc\n",
        "tags = nltk.pos_tag(tokens)\n",
        "#tags"
      ],
      "metadata": {
        "trusted": true,
        "execution": {
          "iopub.status.busy": "2025-01-13T02:12:13.128782Z",
          "iopub.execute_input": "2025-01-13T02:12:13.129139Z",
          "iopub.status.idle": "2025-01-13T02:12:13.14506Z",
          "shell.execute_reply.started": "2025-01-13T02:12:13.12911Z",
          "shell.execute_reply": "2025-01-13T02:12:13.144142Z"
        },
        "id": "a8bVGWzgQ7yf"
      },
      "outputs": [],
      "execution_count": null
    },
    {
      "cell_type": "code",
      "source": [
        "entities = nltk.chunk.ne_chunk(tags)\n",
        "#entities.pprint()"
      ],
      "metadata": {
        "trusted": true,
        "execution": {
          "iopub.status.busy": "2025-01-13T02:12:13.311027Z",
          "iopub.execute_input": "2025-01-13T02:12:13.311352Z",
          "iopub.status.idle": "2025-01-13T02:12:13.325782Z",
          "shell.execute_reply.started": "2025-01-13T02:12:13.311327Z",
          "shell.execute_reply": "2025-01-13T02:12:13.324646Z"
        },
        "id": "WIX46lU0Q7yf"
      },
      "outputs": [],
      "execution_count": null
    },
    {
      "cell_type": "markdown",
      "source": [
        "# VADER Sentiment Scoring\n",
        "\n",
        "#### Uses a \"bag of words\" approach.\n",
        "#### Each word is scoreed and combined to a total score."
      ],
      "metadata": {
        "id": "Ev73t1MhQ7yf"
      }
    },
    {
      "cell_type": "code",
      "source": [
        "from nltk.sentiment import SentimentIntensityAnalyzer\n",
        "from tqdm.notebook import tqdm\n",
        "\n",
        "sia  = SentimentIntensityAnalyzer()"
      ],
      "metadata": {
        "trusted": true,
        "execution": {
          "iopub.status.busy": "2025-01-13T02:12:17.092416Z",
          "iopub.execute_input": "2025-01-13T02:12:17.092748Z",
          "iopub.status.idle": "2025-01-13T02:12:17.104233Z",
          "shell.execute_reply.started": "2025-01-13T02:12:17.092721Z",
          "shell.execute_reply": "2025-01-13T02:12:17.103112Z"
        },
        "id": "xZdaCezUQ7yf"
      },
      "outputs": [],
      "execution_count": null
    },
    {
      "cell_type": "code",
      "source": [
        "sia.polarity_scores(\"I am not very sure about this\")"
      ],
      "metadata": {
        "trusted": true,
        "execution": {
          "iopub.status.busy": "2025-01-13T02:12:17.78659Z",
          "iopub.execute_input": "2025-01-13T02:12:17.786943Z",
          "iopub.status.idle": "2025-01-13T02:12:17.793321Z",
          "shell.execute_reply.started": "2025-01-13T02:12:17.786888Z",
          "shell.execute_reply": "2025-01-13T02:12:17.792044Z"
        },
        "id": "v0rMmkIRQ7yg"
      },
      "outputs": [],
      "execution_count": null
    },
    {
      "cell_type": "code",
      "source": [
        "#df1.iterrows(), tqdm"
      ],
      "metadata": {
        "trusted": true,
        "execution": {
          "iopub.status.busy": "2025-01-13T02:12:18.15674Z",
          "iopub.execute_input": "2025-01-13T02:12:18.15712Z",
          "iopub.status.idle": "2025-01-13T02:12:18.161203Z",
          "shell.execute_reply.started": "2025-01-13T02:12:18.157087Z",
          "shell.execute_reply": "2025-01-13T02:12:18.15999Z"
        },
        "id": "kMT9HOmAQ7yg"
      },
      "outputs": [],
      "execution_count": null
    },
    {
      "cell_type": "code",
      "source": [
        "#polarity scores on Entire dataset\n",
        "res = {}\n",
        "for i, row in tqdm(df1.iterrows(),total = len(df1)):\n",
        "    text = row[\"Text\"]\n",
        "    myid = row[\"Id\"]\n",
        "    res[myid] = sia.polarity_scores(text)"
      ],
      "metadata": {
        "trusted": true,
        "execution": {
          "iopub.status.busy": "2025-01-13T02:12:20.952708Z",
          "iopub.execute_input": "2025-01-13T02:12:20.953076Z",
          "iopub.status.idle": "2025-01-13T02:12:21.428857Z",
          "shell.execute_reply.started": "2025-01-13T02:12:20.953047Z",
          "shell.execute_reply": "2025-01-13T02:12:21.427753Z"
        },
        "id": "VbxpWKqxQ7yg"
      },
      "outputs": [],
      "execution_count": null
    },
    {
      "cell_type": "code",
      "source": [
        "#https://www.youtube.com/watch?v=QpzMWQvxXWk&ab_channel=RobMulla"
      ],
      "metadata": {
        "trusted": true,
        "execution": {
          "iopub.status.busy": "2025-01-13T02:12:21.430186Z",
          "iopub.execute_input": "2025-01-13T02:12:21.430471Z",
          "iopub.status.idle": "2025-01-13T02:12:21.43428Z",
          "shell.execute_reply.started": "2025-01-13T02:12:21.430445Z",
          "shell.execute_reply": "2025-01-13T02:12:21.433226Z"
        },
        "id": "lvK8jcwUQ7yg"
      },
      "outputs": [],
      "execution_count": null
    },
    {
      "cell_type": "code",
      "source": [
        "vaders = pd.DataFrame(res).T\n",
        "vaders = vaders.reset_index().rename(columns = {\"index\":\"Id\"})\n",
        "vaders = vaders.merge(df1, how = \"left\")"
      ],
      "metadata": {
        "trusted": true,
        "execution": {
          "iopub.status.busy": "2025-01-13T02:12:24.281166Z",
          "iopub.execute_input": "2025-01-13T02:12:24.281492Z",
          "iopub.status.idle": "2025-01-13T02:12:24.302516Z",
          "shell.execute_reply.started": "2025-01-13T02:12:24.281465Z",
          "shell.execute_reply": "2025-01-13T02:12:24.301315Z"
        },
        "id": "u2ryL0S0Q7yg"
      },
      "outputs": [],
      "execution_count": null
    },
    {
      "cell_type": "code",
      "source": [
        "#sentiment score and meta data\n",
        "#vaders.head()"
      ],
      "metadata": {
        "trusted": true,
        "execution": {
          "iopub.status.busy": "2025-01-13T02:12:24.953566Z",
          "iopub.execute_input": "2025-01-13T02:12:24.953891Z",
          "iopub.status.idle": "2025-01-13T02:12:24.957981Z",
          "shell.execute_reply.started": "2025-01-13T02:12:24.953865Z",
          "shell.execute_reply": "2025-01-13T02:12:24.956792Z"
        },
        "id": "Ra9zzyAMQ7yg"
      },
      "outputs": [],
      "execution_count": null
    },
    {
      "cell_type": "markdown",
      "source": [
        "\n",
        "# VADER results on plot"
      ],
      "metadata": {
        "id": "ZHeI_cOjQ7yh"
      }
    },
    {
      "cell_type": "code",
      "source": [
        "plt.figure(figsize = (10,5))\n",
        "\n",
        "ax = sns.barplot(data =vaders, x = \"Score\", y = \"compound\")\n",
        "ax.set_title(\"Compound score by star reviews\")\n",
        "plt.show()"
      ],
      "metadata": {
        "trusted": true,
        "execution": {
          "iopub.status.busy": "2025-01-13T02:12:27.251567Z",
          "iopub.execute_input": "2025-01-13T02:12:27.251888Z",
          "iopub.status.idle": "2025-01-13T02:12:27.528863Z",
          "shell.execute_reply.started": "2025-01-13T02:12:27.251861Z",
          "shell.execute_reply": "2025-01-13T02:12:27.527739Z"
        },
        "id": "NYSiO4-nQ7yh"
      },
      "outputs": [],
      "execution_count": null
    },
    {
      "cell_type": "code",
      "source": [
        "fig,axs = plt.subplots(1,3,figsize = (12,3))\n",
        "\n",
        "sns.barplot(data = vaders, x = \"Score\", y = \"pos\", ax = axs[0])\n",
        "sns.barplot(data = vaders, x = \"Score\", y = \"neu\", ax = axs[1])\n",
        "sns.barplot(data = vaders, x = \"Score\", y = \"neg\", ax = axs[2])\n",
        "\n",
        "axs[0].set_title(\"Score vs positive\")\n",
        "axs[1].set_title(\"Score vs neutral\")\n",
        "axs[2].set_title(\"Score vs negative\")\n",
        "\n",
        "plt.tight_layout()\n",
        "plt.show()"
      ],
      "metadata": {
        "trusted": true,
        "execution": {
          "iopub.status.busy": "2025-01-13T02:12:28.434367Z",
          "iopub.execute_input": "2025-01-13T02:12:28.434743Z",
          "iopub.status.idle": "2025-01-13T02:12:29.186628Z",
          "shell.execute_reply.started": "2025-01-13T02:12:28.434691Z",
          "shell.execute_reply": "2025-01-13T02:12:29.185564Z"
        },
        "id": "ynJ1DNhoQ7yh"
      },
      "outputs": [],
      "execution_count": null
    },
    {
      "cell_type": "markdown",
      "source": [
        "# Roberta Pretrained Model\n",
        "\n",
        "##### Use a model trained of a large corpus of data\n",
        "##### Transformer model accounts for the words but also the contxt related to words.\\"
      ],
      "metadata": {
        "id": "kZ16sR-LQ7yh"
      }
    },
    {
      "cell_type": "code",
      "source": [
        "from transformers import AutoTokenizer\n",
        "from transformers import AutoModelForSequenceClassification  as AMSC\n",
        "from scipy.special import softmax"
      ],
      "metadata": {
        "trusted": true,
        "execution": {
          "iopub.status.busy": "2025-01-13T01:53:29.978324Z",
          "iopub.execute_input": "2025-01-13T01:53:29.978627Z",
          "iopub.status.idle": "2025-01-13T01:53:34.764257Z",
          "shell.execute_reply.started": "2025-01-13T01:53:29.978593Z",
          "shell.execute_reply": "2025-01-13T01:53:34.763184Z"
        },
        "id": "bqB0wO0qQ7yh"
      },
      "outputs": [],
      "execution_count": null
    },
    {
      "cell_type": "markdown",
      "source": [
        "AutoTokenizer is a class in the Hugging Face Transformers library that automatically selects the appropriate tokenizer for a given model. It preprocesses text by converting it into tokens, which are then mapped to numerical representations for model input."
      ],
      "metadata": {
        "id": "mQ6n65aDQ7yh"
      }
    },
    {
      "cell_type": "code",
      "source": [
        "#pre trained model based on a twitter dataset\n",
        "RMODEL = f\"cardiffnlp/twitter-roberta-base-sentiment\"\n",
        "#GPT2MODEL = f\"gpt2\""
      ],
      "metadata": {
        "trusted": true,
        "execution": {
          "iopub.status.busy": "2025-01-13T01:53:34.76522Z",
          "iopub.execute_input": "2025-01-13T01:53:34.765877Z",
          "iopub.status.idle": "2025-01-13T01:53:34.769808Z",
          "shell.execute_reply.started": "2025-01-13T01:53:34.765848Z",
          "shell.execute_reply": "2025-01-13T01:53:34.768839Z"
        },
        "id": "GKMZ2vkpQ7yh"
      },
      "outputs": [],
      "execution_count": null
    },
    {
      "cell_type": "code",
      "source": [
        "#https://github.com/almarengo/gpt2-text-classification/blob/main/GPT2_Transfer_Learning_final.ipynb"
      ],
      "metadata": {
        "trusted": true,
        "id": "bjBjetJMQ7yh"
      },
      "outputs": [],
      "execution_count": null
    },
    {
      "cell_type": "code",
      "source": [
        "#import tensorflow as tf\n",
        "#from transformers import GPT2Tokenizer, TFGPT2Model"
      ],
      "metadata": {
        "trusted": true,
        "execution": {
          "iopub.status.busy": "2025-01-13T02:18:11.656394Z",
          "iopub.execute_input": "2025-01-13T02:18:11.656773Z",
          "iopub.status.idle": "2025-01-13T02:18:20.79459Z",
          "shell.execute_reply.started": "2025-01-13T02:18:11.656745Z",
          "shell.execute_reply": "2025-01-13T02:18:20.793772Z"
        },
        "id": "N7zOGrvAQ7yh"
      },
      "outputs": [],
      "execution_count": null
    },
    {
      "cell_type": "code",
      "source": [
        "tokenizer_roberta = AutoTokenizer.from_pretrained(RMODEL)\n",
        "model_roberta = AMSC.from_pretrained(RMODEL)\n",
        "\n",
        "#tokenizer_gpt2 = AutoTokenizer.from_pretrained(GPT2MODEL)\n",
        "#model_gpt2 = AMSC.from_pretrained(GPT2MODEL)"
      ],
      "metadata": {
        "trusted": true,
        "execution": {
          "iopub.status.busy": "2025-01-13T01:53:34.770739Z",
          "iopub.execute_input": "2025-01-13T01:53:34.771083Z",
          "iopub.status.idle": "2025-01-13T01:54:03.331802Z",
          "shell.execute_reply.started": "2025-01-13T01:53:34.771059Z",
          "shell.execute_reply": "2025-01-13T01:54:03.330995Z"
        },
        "id": "mJ_cn5obQ7yh"
      },
      "outputs": [],
      "execution_count": null
    },
    {
      "cell_type": "code",
      "source": [
        "# VADER results on entry\n",
        "\n",
        "print(entry)\n",
        "sia.polarity_scores(entry)"
      ],
      "metadata": {
        "trusted": true,
        "execution": {
          "iopub.status.busy": "2025-01-13T01:54:03.332767Z",
          "iopub.execute_input": "2025-01-13T01:54:03.333209Z",
          "iopub.status.idle": "2025-01-13T01:54:03.340107Z",
          "shell.execute_reply.started": "2025-01-13T01:54:03.333183Z",
          "shell.execute_reply": "2025-01-13T01:54:03.33921Z"
        },
        "id": "DLxvnGkbQ7yh"
      },
      "outputs": [],
      "execution_count": null
    },
    {
      "cell_type": "code",
      "source": [
        "# Roberta results on entry\n",
        "\n",
        "encoded_text = tokenizer_roberta(entry, return_tensors = \"pt\")\n",
        "output = model_roberta(**encoded_text)\n",
        "scores = output[0][0].detach().numpy()\n",
        "scores = softmax(scores)\n",
        "\n",
        "scores_dict = {\n",
        "    \"roberta_neg\": scores[0],\n",
        "     \"roberta_neu\": scores[1],\n",
        "     \"roberta_pos\": scores[2]\n",
        "}\n",
        "\n",
        "print(scores_dict)"
      ],
      "metadata": {
        "trusted": true,
        "execution": {
          "iopub.status.busy": "2025-01-13T01:54:03.341002Z",
          "iopub.execute_input": "2025-01-13T01:54:03.341281Z",
          "iopub.status.idle": "2025-01-13T01:54:03.611333Z",
          "shell.execute_reply.started": "2025-01-13T01:54:03.341257Z",
          "shell.execute_reply": "2025-01-13T01:54:03.610299Z"
        },
        "id": "L7JBIwgVQ7yi"
      },
      "outputs": [],
      "execution_count": null
    },
    {
      "cell_type": "code",
      "source": [
        "#return_tensors = \"pt\" signifies that result is in a format suitable for pytorch (pytorch tensors)\n",
        "def polarity_score_roberta(ex):\n",
        "    encoded_text = tokenizer_roberta(ex,return_tensors = \"pt\")\n",
        "    output = model_roberta(**encoded_text)\n",
        "    scores = output[0][0].detach().numpy()\n",
        "    scores = softmax(scores)\n",
        "    scores_dict = {\n",
        "        \"roberta_neg\": scores[0],\n",
        "        \"roberta_neu\": scores[1],\n",
        "        \"roberta_pos\": scores[2]\n",
        "    }\n",
        "\n",
        "    return scores_dict"
      ],
      "metadata": {
        "trusted": true,
        "execution": {
          "iopub.status.busy": "2025-01-13T01:54:03.612378Z",
          "iopub.execute_input": "2025-01-13T01:54:03.612798Z",
          "iopub.status.idle": "2025-01-13T01:54:03.618124Z",
          "shell.execute_reply.started": "2025-01-13T01:54:03.612749Z",
          "shell.execute_reply": "2025-01-13T01:54:03.617049Z"
        },
        "id": "aDiq7a9sQ7yi"
      },
      "outputs": [],
      "execution_count": null
    },
    {
      "cell_type": "code",
      "source": [
        "def polarity_score_gpt2(ex):\n",
        "    encoded_text = tokenizer_gpt2(ex,return_tensors = \"pt\")\n",
        "    output = model_gpt2(**encoded_text)\n",
        "    scores = output[0][0].detach().numpy()\n",
        "    scores = softmax(scores)\n",
        "    scores_dict = {\n",
        "        \"roberta_neg\": scores[0],\n",
        "        \"roberta_neu\": scores[1],\n",
        "        \"roberta_pos\": scores[2]\n",
        "    }\n",
        "\n",
        "    return scores_dict"
      ],
      "metadata": {
        "trusted": true,
        "execution": {
          "iopub.status.busy": "2025-01-13T01:54:03.619119Z",
          "iopub.execute_input": "2025-01-13T01:54:03.619473Z",
          "iopub.status.idle": "2025-01-13T01:54:03.633696Z",
          "shell.execute_reply.started": "2025-01-13T01:54:03.619446Z",
          "shell.execute_reply": "2025-01-13T01:54:03.632671Z"
        },
        "id": "dt_oAOM-Q7yi"
      },
      "outputs": [],
      "execution_count": null
    },
    {
      "cell_type": "code",
      "source": [
        "res = {}\n",
        "\n",
        "for i, row in tqdm(df1.iterrows(),total = len(df1)):\n",
        "    try:\n",
        "        text = row[\"Text\"]\n",
        "        myid = row[\"Id\"]\n",
        "        vader_result = sia.polarity_scores(text)\n",
        "        vader_result_rename = {}\n",
        "\n",
        "        for key,value in vader_result.items():\n",
        "            vader_result_rename[f\"vader:_{key}\"] = value\n",
        "\n",
        "        roberta_result = polarity_score_roberta(text)\n",
        "\n",
        "        both = {**vader_result,**roberta_result}\n",
        "\n",
        "        res[myid] = both\n",
        "\n",
        "    except RuntimeError:\n",
        "        print(f\"Broke for Id {myid}\")"
      ],
      "metadata": {
        "trusted": true,
        "execution": {
          "iopub.status.busy": "2025-01-13T02:40:41.588408Z",
          "iopub.execute_input": "2025-01-13T02:40:41.588762Z",
          "iopub.status.idle": "2025-01-13T02:42:11.535052Z",
          "shell.execute_reply.started": "2025-01-13T02:40:41.588735Z",
          "shell.execute_reply": "2025-01-13T02:42:11.53376Z"
        },
        "id": "mA07CULuQ7yi"
      },
      "outputs": [],
      "execution_count": null
    },
    {
      "cell_type": "code",
      "source": [
        "both"
      ],
      "metadata": {
        "trusted": true,
        "execution": {
          "iopub.status.busy": "2025-01-13T02:48:10.270128Z",
          "iopub.execute_input": "2025-01-13T02:48:10.270449Z",
          "iopub.status.idle": "2025-01-13T02:48:10.276247Z",
          "shell.execute_reply.started": "2025-01-13T02:48:10.270421Z",
          "shell.execute_reply": "2025-01-13T02:48:10.275137Z"
        },
        "id": "jjS6r0WRQ7yi"
      },
      "outputs": [],
      "execution_count": null
    },
    {
      "cell_type": "code",
      "source": [
        "results_df = pd.DataFrame(res).T\n",
        "results_df = results_df.reset_index().rename(columns={'index':'Id'})\n",
        "results_df = results_df.merge(df1,how = \"left\")"
      ],
      "metadata": {
        "trusted": true,
        "execution": {
          "iopub.status.busy": "2025-01-13T02:49:19.971264Z",
          "iopub.execute_input": "2025-01-13T02:49:19.971602Z",
          "iopub.status.idle": "2025-01-13T02:49:19.99383Z",
          "shell.execute_reply.started": "2025-01-13T02:49:19.971576Z",
          "shell.execute_reply": "2025-01-13T02:49:19.992688Z"
        },
        "id": "U4O_JPD0Q7yi"
      },
      "outputs": [],
      "execution_count": null
    },
    {
      "cell_type": "markdown",
      "source": [
        "### Compare Scores between Models"
      ],
      "metadata": {
        "id": "xZYPphOmQ7yi"
      }
    },
    {
      "cell_type": "code",
      "source": [
        "results_df.columns"
      ],
      "metadata": {
        "trusted": true,
        "execution": {
          "iopub.status.busy": "2025-01-13T02:50:18.267666Z",
          "iopub.execute_input": "2025-01-13T02:50:18.268072Z",
          "iopub.status.idle": "2025-01-13T02:50:18.274141Z",
          "shell.execute_reply.started": "2025-01-13T02:50:18.268038Z",
          "shell.execute_reply": "2025-01-13T02:50:18.27284Z"
        },
        "id": "yzYv7VdAQ7yj"
      },
      "outputs": [],
      "execution_count": null
    },
    {
      "cell_type": "code",
      "source": [
        "results_df.columns"
      ],
      "metadata": {
        "trusted": true,
        "execution": {
          "iopub.status.busy": "2025-01-13T02:55:32.447108Z",
          "iopub.execute_input": "2025-01-13T02:55:32.447463Z",
          "iopub.status.idle": "2025-01-13T02:55:32.453209Z",
          "shell.execute_reply.started": "2025-01-13T02:55:32.447436Z",
          "shell.execute_reply": "2025-01-13T02:55:32.452201Z"
        },
        "id": "B9X6Lt1iQ7yj"
      },
      "outputs": [],
      "execution_count": null
    },
    {
      "cell_type": "markdown",
      "source": [
        "### Combine and Compare"
      ],
      "metadata": {
        "id": "mGdo0ojQQ7yk"
      }
    },
    {
      "cell_type": "code",
      "source": [
        "sns.pairplot(data = results_df, vars = [\"neg\",\"neu\",\"pos\",\n",
        "                                       \"roberta_neg\",\"roberta_neu\",\"roberta_pos\",],\n",
        "             hue = \"Score\",palette = \"tab10\")\n",
        "\n",
        "plt.show()"
      ],
      "metadata": {
        "trusted": true,
        "execution": {
          "iopub.status.busy": "2025-01-13T02:56:16.60698Z",
          "iopub.execute_input": "2025-01-13T02:56:16.607385Z",
          "iopub.status.idle": "2025-01-13T02:56:31.146635Z",
          "shell.execute_reply.started": "2025-01-13T02:56:16.60735Z",
          "shell.execute_reply": "2025-01-13T02:56:31.145553Z"
        },
        "id": "6kZabQdSQ7yk"
      },
      "outputs": [],
      "execution_count": null
    },
    {
      "cell_type": "markdown",
      "source": [
        "## Reviewing Examples\n",
        "\n",
        "### Positive 1 star reviews and Negative 5 star reviews\n",
        "\n",
        "#### The examples where the model scoring and review score differ the most."
      ],
      "metadata": {
        "id": "Vn4VNdYxQ7yk"
      }
    },
    {
      "cell_type": "code",
      "source": [
        "#vader\n",
        "results_df.query(\"Score == 1\").sort_values(\"pos\",ascending = False)['Text'].values[0]"
      ],
      "metadata": {
        "trusted": true,
        "execution": {
          "iopub.status.busy": "2025-01-13T03:03:12.212133Z",
          "iopub.execute_input": "2025-01-13T03:03:12.212485Z",
          "iopub.status.idle": "2025-01-13T03:03:12.224276Z",
          "shell.execute_reply.started": "2025-01-13T03:03:12.212454Z",
          "shell.execute_reply": "2025-01-13T03:03:12.223029Z"
        },
        "id": "uZ5adLZrQ7yk"
      },
      "outputs": [],
      "execution_count": null
    },
    {
      "cell_type": "code",
      "source": [
        "#roberta\n",
        "results_df.query(\"Score == 1\").sort_values(\"roberta_pos\",ascending = False)['Text'].values[0]"
      ],
      "metadata": {
        "trusted": true,
        "execution": {
          "iopub.status.busy": "2025-01-13T03:04:16.295107Z",
          "iopub.execute_input": "2025-01-13T03:04:16.295436Z",
          "iopub.status.idle": "2025-01-13T03:04:16.305353Z",
          "shell.execute_reply.started": "2025-01-13T03:04:16.295411Z",
          "shell.execute_reply": "2025-01-13T03:04:16.304032Z"
        },
        "id": "JYsMjPsmQ7yk"
      },
      "outputs": [],
      "execution_count": null
    },
    {
      "cell_type": "code",
      "source": [
        "#vader\n",
        "results_df.query(\"Score == 5\").sort_values(\"pos\",ascending = False)['Text'].values[0]"
      ],
      "metadata": {
        "trusted": true,
        "execution": {
          "iopub.status.busy": "2025-01-13T03:05:02.90247Z",
          "iopub.execute_input": "2025-01-13T03:05:02.902798Z",
          "iopub.status.idle": "2025-01-13T03:05:02.912684Z",
          "shell.execute_reply.started": "2025-01-13T03:05:02.902772Z",
          "shell.execute_reply": "2025-01-13T03:05:02.911735Z"
        },
        "id": "XK6Up6DVQ7yk"
      },
      "outputs": [],
      "execution_count": null
    },
    {
      "cell_type": "code",
      "source": [
        "#roberta\n",
        "results_df.query(\"Score == 5\").sort_values(\"roberta_pos\",ascending = False)['Text'].values[0]"
      ],
      "metadata": {
        "trusted": true,
        "execution": {
          "iopub.status.busy": "2025-01-13T03:05:01.090538Z",
          "iopub.execute_input": "2025-01-13T03:05:01.090899Z",
          "iopub.status.idle": "2025-01-13T03:05:01.101987Z",
          "shell.execute_reply.started": "2025-01-13T03:05:01.090873Z",
          "shell.execute_reply": "2025-01-13T03:05:01.100948Z"
        },
        "id": "9TYfnWjMQ7yk"
      },
      "outputs": [],
      "execution_count": null
    },
    {
      "cell_type": "markdown",
      "source": [
        "## The Transformers Pipeline"
      ],
      "metadata": {
        "id": "0W4I1GUiQ7yk"
      }
    },
    {
      "cell_type": "code",
      "source": [
        "from transformers import pipeline\n",
        "\n",
        "senti_pipeline = pipeline(\"sentiment-analysis\")"
      ],
      "metadata": {
        "trusted": true,
        "execution": {
          "iopub.status.busy": "2025-01-13T03:07:16.713562Z",
          "iopub.execute_input": "2025-01-13T03:07:16.71395Z",
          "iopub.status.idle": "2025-01-13T03:07:21.898341Z",
          "shell.execute_reply.started": "2025-01-13T03:07:16.713904Z",
          "shell.execute_reply": "2025-01-13T03:07:21.897342Z"
        },
        "id": "xcd2vwhDQ7yk"
      },
      "outputs": [],
      "execution_count": null
    },
    {
      "cell_type": "code",
      "source": [
        "senti_pipeline(\"I had an apple\")"
      ],
      "metadata": {
        "trusted": true,
        "execution": {
          "iopub.status.busy": "2025-01-13T03:10:16.88008Z",
          "iopub.execute_input": "2025-01-13T03:10:16.880424Z",
          "iopub.status.idle": "2025-01-13T03:10:16.912595Z",
          "shell.execute_reply.started": "2025-01-13T03:10:16.880394Z",
          "shell.execute_reply": "2025-01-13T03:10:16.911566Z"
        },
        "id": "d49eAuSzQ7yk"
      },
      "outputs": [],
      "execution_count": null
    }
  ]
}