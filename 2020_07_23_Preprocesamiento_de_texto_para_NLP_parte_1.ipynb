{
  "cells": [
    {
      "cell_type": "markdown",
      "metadata": {
        "id": "view-in-github",
        "colab_type": "text"
      },
      "source": [
        "<a href=\"https://colab.research.google.com/github/Viny2030/UNED/blob/main/2020_07_23_Preprocesamiento_de_texto_para_NLP_parte_1.ipynb\" target=\"_parent\"><img src=\"https://colab.research.google.com/assets/colab-badge.svg\" alt=\"Open In Colab\"/></a>"
      ]
    },
    {
      "cell_type": "markdown",
      "source": [
        "https://github.com/GEJ1\n"
      ],
      "metadata": {
        "id": "4NoazGTu0dTf"
      }
    },
    {
      "cell_type": "markdown",
      "metadata": {
        "id": "yQzsg8_EjnkQ"
      },
      "source": [
        "# Preprocesamiento de texto para NLP (parte 1)\n",
        "> \"(=^･ω･^=) Limpieza, tokenización y más\"\n",
        "\n",
        "- toc: true\n",
        "- branch: master\n",
        "- badges: true\n",
        "- comments: true\n",
        "- author: Matías Battocchia\n",
        "- categories: [nlp]"
      ]
    },
    {
      "cell_type": "markdown",
      "metadata": {
        "id": "mOZ5hzcijnkS"
      },
      "source": [
        "Vamos a hacer un recorrido por los pasos básicos del pre-procesamiento de texto. Estos pasos son necesarios para transformar texto del lenguaje humano a un formato legible para máquinas para su posterior procesamiento, particularmente motiva esta publicación el procesamiento en [PyTorch](https://pytorch.org/).\n",
        "\n",
        "Veremos cómo realizar estos pasos con código propio, para mayor entendimiento de lo que está sucediendo, y con [spaCy](https://spacy.io/), una herramienta de nuestro agrado."
      ]
    },
    {
      "cell_type": "markdown",
      "metadata": {
        "id": "oziSYtJKjnkS"
      },
      "source": [
        "En concreto, los pasos son:\n",
        "\n",
        "1. **Limpieza**, la remoción del contenido no deseado.\n",
        "2. **Normalización**, la conversión diferentes formas a una sola.\n",
        "3. **Tokenización**, la separación del texto en tókenes (unidades mínimas, por ejemplo palabras).\n",
        "4. Separación en **conjuntos de datos**: entrenamiento, validación, prueba.\n",
        "5. Generación del **vocabulario**, la lista de tókenes conocidos.\n",
        "6. **Numericalización**, el mapeo de tókenes a números enteros.\n",
        "\n",
        "Estos pasos son comunes distintas aproximaciones al procesamiento del lenguaje. En la [parte 2](Preprocesamiento-de-texto-para-NLP-parte-2.html) mostraremos pasos útiles para abarcarlo usando *deep learning*.\n",
        "\n",
        "7. **Loteo**, la generación de porciones de muestras de entrenamiento.\n",
        "8. **Relleno**, la conversión del lote en un tensor de PyTorch.\n",
        "9. Carga de ***embeddings***, opcionalmente el uso de *embeddings* precalculados.\n",
        "\n",
        "Nota: El órden de los primeros tres pasos (limpieza, normalización, tokenización) puede variar según conveniencia. El resto de los pasos mantiene el órden."
      ]
    },
    {
      "cell_type": "markdown",
      "metadata": {
        "id": "2sRqCt1fjnkT"
      },
      "source": [
        "## Dataset de ejemplo\n",
        "\n",
        "¿Qué sería de esta publicación sin algunos ejemplos? Vamos a usar el dataset de la competencia [clasificación de preguntas de clientes](https://metadata.fundacionsadosky.org.ar/competition/21) de Meta:Data."
      ]
    },
    {
      "cell_type": "code",
      "execution_count": null,
      "metadata": {
        "id": "jmV8MTH5jnkU",
        "colab": {
          "base_uri": "https://localhost:8080/",
          "height": 350
        },
        "outputId": "ca1c1777-5ee3-4b2c-bba4-ef33866e3ed7"
      },
      "outputs": [
        {
          "output_type": "error",
          "ename": "FileNotFoundError",
          "evalue": "[Errno 2] No such file or directory: 'train.csv'",
          "traceback": [
            "\u001b[0;31m---------------------------------------------------------------------------\u001b[0m",
            "\u001b[0;31mFileNotFoundError\u001b[0m                         Traceback (most recent call last)",
            "\u001b[0;32m<ipython-input-1-fa5cf46b52cd>\u001b[0m in \u001b[0;36m<cell line: 3>\u001b[0;34m()\u001b[0m\n\u001b[1;32m      1\u001b[0m \u001b[0;32mimport\u001b[0m \u001b[0mpandas\u001b[0m \u001b[0;32mas\u001b[0m \u001b[0mpd\u001b[0m\u001b[0;34m\u001b[0m\u001b[0;34m\u001b[0m\u001b[0m\n\u001b[1;32m      2\u001b[0m \u001b[0;34m\u001b[0m\u001b[0m\n\u001b[0;32m----> 3\u001b[0;31m \u001b[0mdf\u001b[0m \u001b[0;34m=\u001b[0m \u001b[0mpd\u001b[0m\u001b[0;34m.\u001b[0m\u001b[0mread_csv\u001b[0m\u001b[0;34m(\u001b[0m\u001b[0;34m'train.csv'\u001b[0m\u001b[0;34m,\u001b[0m \u001b[0msep\u001b[0m\u001b[0;34m=\u001b[0m\u001b[0;34m'|'\u001b[0m\u001b[0;34m)\u001b[0m\u001b[0;34m\u001b[0m\u001b[0;34m\u001b[0m\u001b[0m\n\u001b[0m",
            "\u001b[0;32m/usr/local/lib/python3.10/dist-packages/pandas/io/parsers/readers.py\u001b[0m in \u001b[0;36mread_csv\u001b[0;34m(filepath_or_buffer, sep, delimiter, header, names, index_col, usecols, dtype, engine, converters, true_values, false_values, skipinitialspace, skiprows, skipfooter, nrows, na_values, keep_default_na, na_filter, verbose, skip_blank_lines, parse_dates, infer_datetime_format, keep_date_col, date_parser, date_format, dayfirst, cache_dates, iterator, chunksize, compression, thousands, decimal, lineterminator, quotechar, quoting, doublequote, escapechar, comment, encoding, encoding_errors, dialect, on_bad_lines, delim_whitespace, low_memory, memory_map, float_precision, storage_options, dtype_backend)\u001b[0m\n\u001b[1;32m   1024\u001b[0m     \u001b[0mkwds\u001b[0m\u001b[0;34m.\u001b[0m\u001b[0mupdate\u001b[0m\u001b[0;34m(\u001b[0m\u001b[0mkwds_defaults\u001b[0m\u001b[0;34m)\u001b[0m\u001b[0;34m\u001b[0m\u001b[0;34m\u001b[0m\u001b[0m\n\u001b[1;32m   1025\u001b[0m \u001b[0;34m\u001b[0m\u001b[0m\n\u001b[0;32m-> 1026\u001b[0;31m     \u001b[0;32mreturn\u001b[0m \u001b[0m_read\u001b[0m\u001b[0;34m(\u001b[0m\u001b[0mfilepath_or_buffer\u001b[0m\u001b[0;34m,\u001b[0m \u001b[0mkwds\u001b[0m\u001b[0;34m)\u001b[0m\u001b[0;34m\u001b[0m\u001b[0;34m\u001b[0m\u001b[0m\n\u001b[0m\u001b[1;32m   1027\u001b[0m \u001b[0;34m\u001b[0m\u001b[0m\n\u001b[1;32m   1028\u001b[0m \u001b[0;34m\u001b[0m\u001b[0m\n",
            "\u001b[0;32m/usr/local/lib/python3.10/dist-packages/pandas/io/parsers/readers.py\u001b[0m in \u001b[0;36m_read\u001b[0;34m(filepath_or_buffer, kwds)\u001b[0m\n\u001b[1;32m    618\u001b[0m \u001b[0;34m\u001b[0m\u001b[0m\n\u001b[1;32m    619\u001b[0m     \u001b[0;31m# Create the parser.\u001b[0m\u001b[0;34m\u001b[0m\u001b[0;34m\u001b[0m\u001b[0m\n\u001b[0;32m--> 620\u001b[0;31m     \u001b[0mparser\u001b[0m \u001b[0;34m=\u001b[0m \u001b[0mTextFileReader\u001b[0m\u001b[0;34m(\u001b[0m\u001b[0mfilepath_or_buffer\u001b[0m\u001b[0;34m,\u001b[0m \u001b[0;34m**\u001b[0m\u001b[0mkwds\u001b[0m\u001b[0;34m)\u001b[0m\u001b[0;34m\u001b[0m\u001b[0;34m\u001b[0m\u001b[0m\n\u001b[0m\u001b[1;32m    621\u001b[0m \u001b[0;34m\u001b[0m\u001b[0m\n\u001b[1;32m    622\u001b[0m     \u001b[0;32mif\u001b[0m \u001b[0mchunksize\u001b[0m \u001b[0;32mor\u001b[0m \u001b[0miterator\u001b[0m\u001b[0;34m:\u001b[0m\u001b[0;34m\u001b[0m\u001b[0;34m\u001b[0m\u001b[0m\n",
            "\u001b[0;32m/usr/local/lib/python3.10/dist-packages/pandas/io/parsers/readers.py\u001b[0m in \u001b[0;36m__init__\u001b[0;34m(self, f, engine, **kwds)\u001b[0m\n\u001b[1;32m   1618\u001b[0m \u001b[0;34m\u001b[0m\u001b[0m\n\u001b[1;32m   1619\u001b[0m         \u001b[0mself\u001b[0m\u001b[0;34m.\u001b[0m\u001b[0mhandles\u001b[0m\u001b[0;34m:\u001b[0m \u001b[0mIOHandles\u001b[0m \u001b[0;34m|\u001b[0m \u001b[0;32mNone\u001b[0m \u001b[0;34m=\u001b[0m \u001b[0;32mNone\u001b[0m\u001b[0;34m\u001b[0m\u001b[0;34m\u001b[0m\u001b[0m\n\u001b[0;32m-> 1620\u001b[0;31m         \u001b[0mself\u001b[0m\u001b[0;34m.\u001b[0m\u001b[0m_engine\u001b[0m \u001b[0;34m=\u001b[0m \u001b[0mself\u001b[0m\u001b[0;34m.\u001b[0m\u001b[0m_make_engine\u001b[0m\u001b[0;34m(\u001b[0m\u001b[0mf\u001b[0m\u001b[0;34m,\u001b[0m \u001b[0mself\u001b[0m\u001b[0;34m.\u001b[0m\u001b[0mengine\u001b[0m\u001b[0;34m)\u001b[0m\u001b[0;34m\u001b[0m\u001b[0;34m\u001b[0m\u001b[0m\n\u001b[0m\u001b[1;32m   1621\u001b[0m \u001b[0;34m\u001b[0m\u001b[0m\n\u001b[1;32m   1622\u001b[0m     \u001b[0;32mdef\u001b[0m \u001b[0mclose\u001b[0m\u001b[0;34m(\u001b[0m\u001b[0mself\u001b[0m\u001b[0;34m)\u001b[0m \u001b[0;34m->\u001b[0m \u001b[0;32mNone\u001b[0m\u001b[0;34m:\u001b[0m\u001b[0;34m\u001b[0m\u001b[0;34m\u001b[0m\u001b[0m\n",
            "\u001b[0;32m/usr/local/lib/python3.10/dist-packages/pandas/io/parsers/readers.py\u001b[0m in \u001b[0;36m_make_engine\u001b[0;34m(self, f, engine)\u001b[0m\n\u001b[1;32m   1878\u001b[0m                 \u001b[0;32mif\u001b[0m \u001b[0;34m\"b\"\u001b[0m \u001b[0;32mnot\u001b[0m \u001b[0;32min\u001b[0m \u001b[0mmode\u001b[0m\u001b[0;34m:\u001b[0m\u001b[0;34m\u001b[0m\u001b[0;34m\u001b[0m\u001b[0m\n\u001b[1;32m   1879\u001b[0m                     \u001b[0mmode\u001b[0m \u001b[0;34m+=\u001b[0m \u001b[0;34m\"b\"\u001b[0m\u001b[0;34m\u001b[0m\u001b[0;34m\u001b[0m\u001b[0m\n\u001b[0;32m-> 1880\u001b[0;31m             self.handles = get_handle(\n\u001b[0m\u001b[1;32m   1881\u001b[0m                 \u001b[0mf\u001b[0m\u001b[0;34m,\u001b[0m\u001b[0;34m\u001b[0m\u001b[0;34m\u001b[0m\u001b[0m\n\u001b[1;32m   1882\u001b[0m                 \u001b[0mmode\u001b[0m\u001b[0;34m,\u001b[0m\u001b[0;34m\u001b[0m\u001b[0;34m\u001b[0m\u001b[0m\n",
            "\u001b[0;32m/usr/local/lib/python3.10/dist-packages/pandas/io/common.py\u001b[0m in \u001b[0;36mget_handle\u001b[0;34m(path_or_buf, mode, encoding, compression, memory_map, is_text, errors, storage_options)\u001b[0m\n\u001b[1;32m    871\u001b[0m         \u001b[0;32mif\u001b[0m \u001b[0mioargs\u001b[0m\u001b[0;34m.\u001b[0m\u001b[0mencoding\u001b[0m \u001b[0;32mand\u001b[0m \u001b[0;34m\"b\"\u001b[0m \u001b[0;32mnot\u001b[0m \u001b[0;32min\u001b[0m \u001b[0mioargs\u001b[0m\u001b[0;34m.\u001b[0m\u001b[0mmode\u001b[0m\u001b[0;34m:\u001b[0m\u001b[0;34m\u001b[0m\u001b[0;34m\u001b[0m\u001b[0m\n\u001b[1;32m    872\u001b[0m             \u001b[0;31m# Encoding\u001b[0m\u001b[0;34m\u001b[0m\u001b[0;34m\u001b[0m\u001b[0m\n\u001b[0;32m--> 873\u001b[0;31m             handle = open(\n\u001b[0m\u001b[1;32m    874\u001b[0m                 \u001b[0mhandle\u001b[0m\u001b[0;34m,\u001b[0m\u001b[0;34m\u001b[0m\u001b[0;34m\u001b[0m\u001b[0m\n\u001b[1;32m    875\u001b[0m                 \u001b[0mioargs\u001b[0m\u001b[0;34m.\u001b[0m\u001b[0mmode\u001b[0m\u001b[0;34m,\u001b[0m\u001b[0;34m\u001b[0m\u001b[0;34m\u001b[0m\u001b[0m\n",
            "\u001b[0;31mFileNotFoundError\u001b[0m: [Errno 2] No such file or directory: 'train.csv'"
          ]
        }
      ],
      "source": [
        "import pandas as pd\n",
        "\n",
        "df = pd.read_csv('train.csv', sep='|')"
      ]
    },
    {
      "cell_type": "code",
      "execution_count": null,
      "metadata": {
        "id": "UcE6Fvg7jnkU",
        "outputId": "c062bad1-1b57-4a94-af19-71c2db59310f",
        "colab": {
          "base_uri": "https://localhost:8080/",
          "height": 331
        }
      },
      "outputs": [
        {
          "output_type": "error",
          "ename": "ValueError",
          "evalue": "Value must be a nonnegative integer or None",
          "traceback": [
            "\u001b[0;31m---------------------------------------------------------------------------\u001b[0m",
            "\u001b[0;31mValueError\u001b[0m                                Traceback (most recent call last)",
            "\u001b[0;32m<ipython-input-2-20e8403840a8>\u001b[0m in \u001b[0;36m<cell line: 1>\u001b[0;34m()\u001b[0m\n\u001b[0;32m----> 1\u001b[0;31m \u001b[0;32mwith\u001b[0m \u001b[0mpd\u001b[0m\u001b[0;34m.\u001b[0m\u001b[0moption_context\u001b[0m\u001b[0;34m(\u001b[0m\u001b[0;34m'display.max_colwidth'\u001b[0m\u001b[0;34m,\u001b[0m \u001b[0;34m-\u001b[0m\u001b[0;36m1\u001b[0m\u001b[0;34m)\u001b[0m\u001b[0;34m:\u001b[0m\u001b[0;34m\u001b[0m\u001b[0;34m\u001b[0m\u001b[0m\n\u001b[0m\u001b[1;32m      2\u001b[0m \u001b[0;34m\u001b[0m\u001b[0m\n\u001b[1;32m      3\u001b[0m     \u001b[0mdisplay\u001b[0m\u001b[0;34m(\u001b[0m\u001b[0mdf\u001b[0m\u001b[0;34m.\u001b[0m\u001b[0msample\u001b[0m\u001b[0;34m(\u001b[0m\u001b[0;36m10\u001b[0m\u001b[0;34m)\u001b[0m\u001b[0;34m)\u001b[0m\u001b[0;34m\u001b[0m\u001b[0;34m\u001b[0m\u001b[0m\n",
            "\u001b[0;32m/usr/local/lib/python3.10/dist-packages/pandas/_config/config.py\u001b[0m in \u001b[0;36m__enter__\u001b[0;34m(self)\u001b[0m\n\u001b[1;32m    481\u001b[0m \u001b[0;34m\u001b[0m\u001b[0m\n\u001b[1;32m    482\u001b[0m         \u001b[0;32mfor\u001b[0m \u001b[0mpat\u001b[0m\u001b[0;34m,\u001b[0m \u001b[0mval\u001b[0m \u001b[0;32min\u001b[0m \u001b[0mself\u001b[0m\u001b[0;34m.\u001b[0m\u001b[0mops\u001b[0m\u001b[0;34m:\u001b[0m\u001b[0;34m\u001b[0m\u001b[0;34m\u001b[0m\u001b[0m\n\u001b[0;32m--> 483\u001b[0;31m             \u001b[0m_set_option\u001b[0m\u001b[0;34m(\u001b[0m\u001b[0mpat\u001b[0m\u001b[0;34m,\u001b[0m \u001b[0mval\u001b[0m\u001b[0;34m,\u001b[0m \u001b[0msilent\u001b[0m\u001b[0;34m=\u001b[0m\u001b[0;32mTrue\u001b[0m\u001b[0;34m)\u001b[0m\u001b[0;34m\u001b[0m\u001b[0;34m\u001b[0m\u001b[0m\n\u001b[0m\u001b[1;32m    484\u001b[0m \u001b[0;34m\u001b[0m\u001b[0m\n\u001b[1;32m    485\u001b[0m     \u001b[0;32mdef\u001b[0m \u001b[0m__exit__\u001b[0m\u001b[0;34m(\u001b[0m\u001b[0mself\u001b[0m\u001b[0;34m,\u001b[0m \u001b[0;34m*\u001b[0m\u001b[0margs\u001b[0m\u001b[0;34m)\u001b[0m \u001b[0;34m->\u001b[0m \u001b[0;32mNone\u001b[0m\u001b[0;34m:\u001b[0m\u001b[0;34m\u001b[0m\u001b[0;34m\u001b[0m\u001b[0m\n",
            "\u001b[0;32m/usr/local/lib/python3.10/dist-packages/pandas/_config/config.py\u001b[0m in \u001b[0;36m_set_option\u001b[0;34m(*args, **kwargs)\u001b[0m\n\u001b[1;32m    169\u001b[0m         \u001b[0mo\u001b[0m \u001b[0;34m=\u001b[0m \u001b[0m_get_registered_option\u001b[0m\u001b[0;34m(\u001b[0m\u001b[0mkey\u001b[0m\u001b[0;34m)\u001b[0m\u001b[0;34m\u001b[0m\u001b[0;34m\u001b[0m\u001b[0m\n\u001b[1;32m    170\u001b[0m         \u001b[0;32mif\u001b[0m \u001b[0mo\u001b[0m \u001b[0;32mand\u001b[0m \u001b[0mo\u001b[0m\u001b[0;34m.\u001b[0m\u001b[0mvalidator\u001b[0m\u001b[0;34m:\u001b[0m\u001b[0;34m\u001b[0m\u001b[0;34m\u001b[0m\u001b[0m\n\u001b[0;32m--> 171\u001b[0;31m             \u001b[0mo\u001b[0m\u001b[0;34m.\u001b[0m\u001b[0mvalidator\u001b[0m\u001b[0;34m(\u001b[0m\u001b[0mv\u001b[0m\u001b[0;34m)\u001b[0m\u001b[0;34m\u001b[0m\u001b[0;34m\u001b[0m\u001b[0m\n\u001b[0m\u001b[1;32m    172\u001b[0m \u001b[0;34m\u001b[0m\u001b[0m\n\u001b[1;32m    173\u001b[0m         \u001b[0;31m# walk the nested dict\u001b[0m\u001b[0;34m\u001b[0m\u001b[0;34m\u001b[0m\u001b[0m\n",
            "\u001b[0;32m/usr/local/lib/python3.10/dist-packages/pandas/_config/config.py\u001b[0m in \u001b[0;36mis_nonnegative_int\u001b[0;34m(value)\u001b[0m\n\u001b[1;32m    919\u001b[0m \u001b[0;34m\u001b[0m\u001b[0m\n\u001b[1;32m    920\u001b[0m     \u001b[0mmsg\u001b[0m \u001b[0;34m=\u001b[0m \u001b[0;34m\"Value must be a nonnegative integer or None\"\u001b[0m\u001b[0;34m\u001b[0m\u001b[0;34m\u001b[0m\u001b[0m\n\u001b[0;32m--> 921\u001b[0;31m     \u001b[0;32mraise\u001b[0m \u001b[0mValueError\u001b[0m\u001b[0;34m(\u001b[0m\u001b[0mmsg\u001b[0m\u001b[0;34m)\u001b[0m\u001b[0;34m\u001b[0m\u001b[0;34m\u001b[0m\u001b[0m\n\u001b[0m\u001b[1;32m    922\u001b[0m \u001b[0;34m\u001b[0m\u001b[0m\n\u001b[1;32m    923\u001b[0m \u001b[0;34m\u001b[0m\u001b[0m\n",
            "\u001b[0;31mValueError\u001b[0m: Value must be a nonnegative integer or None"
          ]
        }
      ],
      "source": [
        "with pd.option_context('display.max_colwidth', -1):\n",
        "\n",
        "    display(df.sample(10))"
      ]
    },
    {
      "cell_type": "markdown",
      "metadata": {
        "id": "oWFvw69ejnkV"
      },
      "source": [
        "## Expresiones regulares\n",
        "\n",
        "Si las expresiones regulares no te resultan familiares entonces vale la pena estudiarlas brevemente, ya que las usaremos. Podés mirar este [tutorial](https://robologs.net/2019/05/05/como-utilizar-expresiones-regulares-regex-en-python) que encontramos en la web."
      ]
    },
    {
      "cell_type": "code",
      "execution_count": null,
      "metadata": {
        "id": "BFqOVGDgjnkW"
      },
      "outputs": [],
      "source": [
        "import re"
      ]
    },
    {
      "cell_type": "markdown",
      "metadata": {
        "id": "i5gY20vBjnkW"
      },
      "source": [
        "## Limpieza\n",
        "\n",
        "Muchas técnicas modernas no realizan limpieza alguna. Dependiendo de lo que queramos hacer tal vez convenga deshacernos de algunos elementos. En el dataset de ejemplo los signos de puntuación no parecen tener gran relevancia, quizás tampoco la tengan los números (que aparentemente han sido removidos de antemano)."
      ]
    },
    {
      "cell_type": "code",
      "execution_count": null,
      "metadata": {
        "id": "HbXMuVRdjnkW"
      },
      "outputs": [],
      "source": [
        "def limpiar(texto):\n",
        "    puntuación = r'[,;.:¡!¿?@#$%&[\\](){}<>~=+\\-*/|\\\\_^`\"\\']'\n",
        "\n",
        "    # signos de puntuación\n",
        "    texto = re.sub(puntuación, ' ', texto)\n",
        "\n",
        "    # dígitos [0-9]\n",
        "    texto = re.sub('\\d', ' ', texto)\n",
        "\n",
        "    return texto"
      ]
    },
    {
      "cell_type": "markdown",
      "metadata": {
        "id": "XzMdu7l2jnkW"
      },
      "source": [
        "En esta función substituimos los signos de puntuación\n",
        "    \n",
        "    , ; . : ¡ ! ¿ ? @ # $ % & [ ] ( ) { } < > ~ = + - * / | \\ _ ^ ` \" '\n",
        "\n",
        "por espacios (me gusta más; usar string vacío `''` para eliminarlos) medieante expresiones regulares (algunos caracteres tuvieron que ser escapados anteponiendo `\\` por tener un significado especial para la expresión regular). Hacemos lo mismo con los dígitos. Veamos un ejemplo de funcionamiento."
      ]
    },
    {
      "cell_type": "code",
      "execution_count": null,
      "metadata": {
        "id": "M6sxWwt0jnkX",
        "outputId": "2c61b4c1-425a-4e39-87a6-3c70dd0163d6",
        "colab": {
          "base_uri": "https://localhost:8080/",
          "height": 271
        }
      },
      "outputs": [
        {
          "output_type": "error",
          "ename": "NameError",
          "evalue": "name 're' is not defined",
          "traceback": [
            "\u001b[0;31m---------------------------------------------------------------------------\u001b[0m",
            "\u001b[0;31mNameError\u001b[0m                                 Traceback (most recent call last)",
            "\u001b[0;32m<ipython-input-4-938b00ac518a>\u001b[0m in \u001b[0;36m<cell line: 1>\u001b[0;34m()\u001b[0m\n\u001b[0;32m----> 1\u001b[0;31m \u001b[0mlimpiar\u001b[0m\u001b[0;34m(\u001b[0m\u001b[0;34m'hoy 13 trabajan?'\u001b[0m\u001b[0;34m)\u001b[0m\u001b[0;34m\u001b[0m\u001b[0;34m\u001b[0m\u001b[0m\n\u001b[0m",
            "\u001b[0;32m<ipython-input-3-33bad308bbcd>\u001b[0m in \u001b[0;36mlimpiar\u001b[0;34m(texto)\u001b[0m\n\u001b[1;32m      3\u001b[0m \u001b[0;34m\u001b[0m\u001b[0m\n\u001b[1;32m      4\u001b[0m     \u001b[0;31m# signos de puntuación\u001b[0m\u001b[0;34m\u001b[0m\u001b[0;34m\u001b[0m\u001b[0m\n\u001b[0;32m----> 5\u001b[0;31m     \u001b[0mtexto\u001b[0m \u001b[0;34m=\u001b[0m \u001b[0mre\u001b[0m\u001b[0;34m.\u001b[0m\u001b[0msub\u001b[0m\u001b[0;34m(\u001b[0m\u001b[0mpuntuación\u001b[0m\u001b[0;34m,\u001b[0m \u001b[0;34m' '\u001b[0m\u001b[0;34m,\u001b[0m \u001b[0mtexto\u001b[0m\u001b[0;34m)\u001b[0m\u001b[0;34m\u001b[0m\u001b[0;34m\u001b[0m\u001b[0m\n\u001b[0m\u001b[1;32m      6\u001b[0m \u001b[0;34m\u001b[0m\u001b[0m\n\u001b[1;32m      7\u001b[0m     \u001b[0;31m# dígitos [0-9]\u001b[0m\u001b[0;34m\u001b[0m\u001b[0;34m\u001b[0m\u001b[0m\n",
            "\u001b[0;31mNameError\u001b[0m: name 're' is not defined"
          ]
        }
      ],
      "source": [
        "limpiar('hoy 13 trabajan?')"
      ]
    },
    {
      "cell_type": "markdown",
      "metadata": {
        "id": "n3oL7mK4jnkX"
      },
      "source": [
        "Otros elementos que podríamos pensar en remover son caracteres invisibles, espacios redundantes. Veremos que esto en particular también puede ser resulto en la tokenización."
      ]
    },
    {
      "cell_type": "markdown",
      "metadata": {
        "id": "iNX4YunKjnkX"
      },
      "source": [
        "## Normalización\n",
        "\n",
        "Normalizar es la tarea de llevar lo que puede ser expresado de múltiples maneras como fechas, números y abreviaturas a una única forma. Por ejemplo\n",
        "\n",
        "     13/03/30 -> trece de marzo de dos mil treinta\n",
        "     DC -> departamento de computación\n",
        "\n",
        "Se trata de una práctica clásica de la época de los modelos de lenguaje probabilísticos, que intentaban reducir lo más posible la cantidad de palabras. En cierta forma 1 palabra = 1 atributo (lo que en los '90s conocimos como convertibilidad). Elegir atributos es ingeniería de atributos, la parte central del *machine learning*, y lo justamente lo que el *deep learning* busca automatizar.\n",
        "\n",
        "Sin embargo hay una normalización muy común hoy, el **convertir todo el texto a minúsculas**. En el caso del español, una normalización común es la **remoción de tildes**."
      ]
    },
    {
      "cell_type": "code",
      "execution_count": null,
      "metadata": {
        "id": "yvBdzXuLjnkX"
      },
      "outputs": [],
      "source": [
        "def normalizar(texto):\n",
        "    # todo a minúsculas\n",
        "    texto = texto.lower()\n",
        "\n",
        "    # tildes y diacríticas\n",
        "    texto = re.sub('á', 'a', texto)\n",
        "    texto = re.sub('é', 'e', texto)\n",
        "    texto = re.sub('í', 'i', texto)\n",
        "    texto = re.sub('ó', 'o', texto)\n",
        "    texto = re.sub('ú', 'u', texto)\n",
        "    texto = re.sub('ü', 'u', texto)\n",
        "    texto = re.sub('ñ', 'n', texto)\n",
        "\n",
        "    return texto"
      ]
    },
    {
      "cell_type": "code",
      "execution_count": null,
      "metadata": {
        "id": "pX8Hdt2HjnkX"
      },
      "outputs": [],
      "source": [
        "normalizar('Me podrán dar información de un préstamo personal')"
      ]
    },
    {
      "cell_type": "markdown",
      "metadata": {
        "id": "sRMtMBQyjnkX"
      },
      "source": [
        "Hay una librería llamada [unidecode](https://pypi.org/project/Unidecode) que realiza transliteración: representa letras o palabras de un alfabeto en otro, útil si tenemos caracteres en ruso (cirílico) o chino (caracteres Han), aún útil para el alfabeto latino cuando queremos pasar de Unicode a ASCII (lo que substituiría las tildes).\n",
        "\n",
        "    pip install unidecode"
      ]
    },
    {
      "cell_type": "code",
      "execution_count": null,
      "metadata": {
        "id": "g8J0s_9ZjnkY"
      },
      "outputs": [],
      "source": [
        "from unidecode import unidecode\n",
        "\n",
        "unidecode('Me podrán dar información de un préstamo personal')"
      ]
    },
    {
      "cell_type": "markdown",
      "metadata": {
        "id": "BK34X3VfjnkY"
      },
      "source": [
        "Una normalización que vale la pena intentar con este dataset es la **correción ortográfica** con un paquete como [pyspellchecker](https://pypi.org/project/pyspellchecker). Quizás con artículos de diarios en los que la redacción está más cuidada esto no valga la pena, pero en contextos más informales como este, conversaciones por char, Twitter, las palabras mal escritas en realidad refieren a una sola palabra y no a distintos significados."
      ]
    },
    {
      "cell_type": "markdown",
      "metadata": {
        "id": "5JzWzQCRjnkY"
      },
      "source": [
        "## Tokenización\n",
        "\n",
        "Tokenizar es separar el texto en partes más pequeñas llamadas tókenes. Una unidad muy común es la palabras pero depende de lo que queramos hacer, si es que no hemos eliminado a los signos de puntuación estos también serían tókenes. Las palabras frecuentemente están compuestas por una raíz, prefijo y/o sufijo, por lo que podríamos decidir separarlos también. En inglés es común separar `it's` en `it` y `'s`, si bien en español esta situación no es común.\n",
        "\n",
        "A diferencia de la limpieza y la normalización, la tokenización **es un paso indispesable** en la preparación de texto para su procesamiento.\n",
        "\n",
        "Para el dataset en cuestión la tokenización es simple, vamos a separar seǵun espacios y demás caracteres invisibles como `\\t` (tabulación) y `\\n` (salto de línea). De haber signos de puntuación, pro ejemplo si quisiéramos procesar un documento extenso en oraciones, el proceso es más complejo ya que `final.` tiene un punto en vez de un espacio, y no siempre los puntos demarcan el final de un tóken como en `A.M.` y `P.M.`."
      ]
    },
    {
      "cell_type": "markdown",
      "metadata": {
        "id": "EjHPEXGPjnkY"
      },
      "source": [
        "Debemos definir si elementos como los signos de puntuación son tókenes o si simplemente delimitan palabras o tókenes, en cuyo caso desaparecerían en el proceso. Mismo con los caracteres invisibles, si estuviésemos haciendo un modelo que programe en Python, la indentación es fundamental y deberiera mantenerse."
      ]
    },
    {
      "cell_type": "code",
      "execution_count": null,
      "metadata": {
        "id": "8MpBrCS8jnkY"
      },
      "outputs": [],
      "source": [
        "def tokenizar(texto):\n",
        "    # IMPORTANTE: podría devolver una lista vacía\n",
        "    return [tóken for tóken in texto.split()]"
      ]
    },
    {
      "cell_type": "markdown",
      "metadata": {
        "id": "MB_iZjVUjnkY"
      },
      "source": [
        "`split` también se encarga de los caracteres invisibles repetidos."
      ]
    },
    {
      "cell_type": "code",
      "execution_count": null,
      "metadata": {
        "id": "KtO004-qjnkZ"
      },
      "outputs": [],
      "source": [
        "tokenizar('hola vengo       a flotar')"
      ]
    },
    {
      "cell_type": "markdown",
      "metadata": {
        "id": "TpzHpLunjnkZ"
      },
      "source": [
        "Acá estamos cambiando el tipo de datos, ya que de un string hemos pasado a una lista de strings.\n",
        "\n",
        "Si la expresión dentro de la función no te resulta familiar, es una construcción llamada *list comprehension* y es una manera muy efectiva de armar una lista. Es lo mismo que hacer"
      ]
    },
    {
      "cell_type": "code",
      "execution_count": null,
      "metadata": {
        "id": "Dg1aL6ZqjnkZ"
      },
      "outputs": [],
      "source": [
        "lista = []\n",
        "\n",
        "for i in range(10):\n",
        "    lista.append(i)\n",
        "\n",
        "lista"
      ]
    },
    {
      "cell_type": "markdown",
      "metadata": {
        "id": "MhF_fU3hjnkZ"
      },
      "source": [
        "pero de una manera más expresiva y también más eficiente (está optimizado por el lenguaje)"
      ]
    },
    {
      "cell_type": "code",
      "execution_count": null,
      "metadata": {
        "id": "zXUB46-OjnkZ"
      },
      "outputs": [],
      "source": [
        "[i for i in range(10)]"
      ]
    },
    {
      "cell_type": "markdown",
      "metadata": {
        "id": "zFBc9SX2jnka"
      },
      "source": [
        "Varios modelos de lenguaje utilizan caracteres en vez de palabras como tókenes, esto es útil por varios motivos que listaremos más adelante. Otros utilizan partes de palabras como sílabas (las partes se determinan estadísticamente). Ver https://arxiv.org/pdf/1508.07909.pdf."
      ]
    },
    {
      "cell_type": "markdown",
      "metadata": {
        "id": "IIPRD5oEjnka"
      },
      "source": [
        "### Tokenización utilizando alguna librería\n",
        "\n",
        "    pip install spacy\n",
        "    python -m spacy download es_core_news_sm"
      ]
    },
    {
      "cell_type": "code",
      "execution_count": null,
      "metadata": {
        "id": "FhD_foR3jnka"
      },
      "outputs": [],
      "source": [
        "import spacy\n",
        "\n",
        "nlp = spacy.load('es_core_news_sm')\n",
        "\n",
        "doc = nlp('Esto es una frase.')\n",
        "\n",
        "print([tóken.text for tóken in doc])"
      ]
    },
    {
      "cell_type": "markdown",
      "metadata": {
        "id": "SZJx6xo9jnka"
      },
      "source": [
        "## Otros pre-procesos\n",
        "\n",
        "Clásicamente se aplicaban alguno de estos para reducir aún más la cantidad de palabras:\n",
        "\n",
        "#### *Stemming*\n",
        "\n",
        "*Stem*, de raíz, reduce la inflección de las palabras, mapeando un grupo de palabras a la misma raíz, sin importar si la raíz es una palabras válida en el lenguaje.\n",
        "\n",
        "     caminando, caminar, camino -> camin\n",
        "\n",
        "#### *Lemmatization*\n",
        "\n",
        "A diferencia del *stemming*, la lematización reduce las palabras inflexadas a palabras que pertenecen al lenguaje. La raíz pasa a llamarse *lema*."
      ]
    },
    {
      "cell_type": "markdown",
      "metadata": {
        "id": "3MdZzFa1jnka"
      },
      "source": [
        "## Primera parte del pre-procesamiento"
      ]
    },
    {
      "cell_type": "code",
      "execution_count": null,
      "metadata": {
        "id": "uz-BV8Jsjnka"
      },
      "outputs": [],
      "source": [
        "def preprocesar(texto):\n",
        "    texto = limpiar(texto)\n",
        "    texto = normalizar(texto)\n",
        "    texto = tokenizar(texto)\n",
        "\n",
        "    return texto"
      ]
    },
    {
      "cell_type": "markdown",
      "metadata": {
        "id": "yps9rGL5jnka"
      },
      "source": [
        "## Conjuntos de datos\n",
        "\n",
        "En la competencias normalmente encontramos dos archivos, el de entrenamiento y el de inferencia —que le suelen llamar de prueba y es el que tenemos que predecir para entregar—. Del que suelen llamar `train` también tenemos que obtener el de validación."
      ]
    },
    {
      "cell_type": "code",
      "execution_count": null,
      "metadata": {
        "id": "teWswC-Ojnkb"
      },
      "outputs": [],
      "source": [
        "infer_df = pd.read_csv('test.csv', sep=',')"
      ]
    },
    {
      "cell_type": "code",
      "execution_count": null,
      "metadata": {
        "id": "-xAxa2lnjnkb"
      },
      "outputs": [],
      "source": [
        "from sklearn.model_selection import train_test_split\n",
        "\n",
        "train_df, valid_df = train_test_split(df, test_size=.1, random_state=42)"
      ]
    },
    {
      "cell_type": "markdown",
      "metadata": {
        "id": "_QJc-c8Ljnkb"
      },
      "source": [
        "![](https://www.googleapis.com/download/storage/v1/b/kaggle-user-content/o/inbox%2F3061129%2Fc9ef73f33bf2b505d48be10211ffa47c%2FScikit.jfif?generation=1580787055399439&alt=media)"
      ]
    },
    {
      "cell_type": "markdown",
      "metadata": {
        "id": "_SMzWKUljnkb"
      },
      "source": [
        "Ahora estamos en condiciones de pre-procesar todo lo que tenemos:"
      ]
    },
    {
      "cell_type": "code",
      "execution_count": null,
      "metadata": {
        "id": "XaPE0Epxjnkf",
        "colab": {
          "base_uri": "https://localhost:8080/",
          "height": 181
        },
        "outputId": "b91f8678-f383-4ff4-8879-a73b96f122ff"
      },
      "outputs": [
        {
          "output_type": "error",
          "ename": "NameError",
          "evalue": "name 'train_df' is not defined",
          "traceback": [
            "\u001b[0;31m---------------------------------------------------------------------------\u001b[0m",
            "\u001b[0;31mNameError\u001b[0m                                 Traceback (most recent call last)",
            "\u001b[0;32m<ipython-input-5-71bd0ea1700f>\u001b[0m in \u001b[0;36m<cell line: 1>\u001b[0;34m()\u001b[0m\n\u001b[0;32m----> 1\u001b[0;31m \u001b[0mtrain_docs\u001b[0m \u001b[0;34m=\u001b[0m \u001b[0;34m[\u001b[0m\u001b[0mpreprocesar\u001b[0m\u001b[0;34m(\u001b[0m\u001b[0mdoc\u001b[0m\u001b[0;34m)\u001b[0m \u001b[0;32mfor\u001b[0m \u001b[0mdoc\u001b[0m \u001b[0;32min\u001b[0m \u001b[0mtrain_df\u001b[0m\u001b[0;34m[\u001b[0m\u001b[0;34m'Pregunta'\u001b[0m\u001b[0;34m]\u001b[0m\u001b[0;34m.\u001b[0m\u001b[0mvalues\u001b[0m\u001b[0;34m]\u001b[0m\u001b[0;34m\u001b[0m\u001b[0;34m\u001b[0m\u001b[0m\n\u001b[0m\u001b[1;32m      2\u001b[0m \u001b[0mvalid_docs\u001b[0m \u001b[0;34m=\u001b[0m \u001b[0;34m[\u001b[0m\u001b[0mpreprocesar\u001b[0m\u001b[0;34m(\u001b[0m\u001b[0mdoc\u001b[0m\u001b[0;34m)\u001b[0m \u001b[0;32mfor\u001b[0m \u001b[0mdoc\u001b[0m \u001b[0;32min\u001b[0m \u001b[0mvalid_df\u001b[0m\u001b[0;34m[\u001b[0m\u001b[0;34m'Pregunta'\u001b[0m\u001b[0;34m]\u001b[0m\u001b[0;34m.\u001b[0m\u001b[0mvalues\u001b[0m\u001b[0;34m]\u001b[0m\u001b[0;34m\u001b[0m\u001b[0;34m\u001b[0m\u001b[0m\n\u001b[1;32m      3\u001b[0m \u001b[0minfer_docs\u001b[0m \u001b[0;34m=\u001b[0m \u001b[0;34m[\u001b[0m\u001b[0mpreprocesar\u001b[0m\u001b[0;34m(\u001b[0m\u001b[0mdoc\u001b[0m\u001b[0;34m)\u001b[0m \u001b[0;32mfor\u001b[0m \u001b[0mdoc\u001b[0m \u001b[0;32min\u001b[0m \u001b[0minfer_df\u001b[0m\u001b[0;34m[\u001b[0m\u001b[0;34m'Pregunta'\u001b[0m\u001b[0;34m]\u001b[0m\u001b[0;34m.\u001b[0m\u001b[0mvalues\u001b[0m\u001b[0;34m]\u001b[0m\u001b[0;34m\u001b[0m\u001b[0;34m\u001b[0m\u001b[0m\n",
            "\u001b[0;31mNameError\u001b[0m: name 'train_df' is not defined"
          ]
        }
      ],
      "source": [
        "train_docs = [preprocesar(doc) for doc in train_df['Pregunta'].values]\n",
        "valid_docs = [preprocesar(doc) for doc in valid_df['Pregunta'].values]\n",
        "infer_docs = [preprocesar(doc) for doc in infer_df['Pregunta'].values]"
      ]
    },
    {
      "cell_type": "markdown",
      "metadata": {
        "id": "Mv6cHptvjnkf"
      },
      "source": [
        "Hemos pasado de una Series de Pandas, array de NumPy o una **lista de strings**"
      ]
    },
    {
      "cell_type": "code",
      "execution_count": null,
      "metadata": {
        "id": "DDUuP6Icjnkf"
      },
      "outputs": [],
      "source": [
        "train_df['Pregunta'].values[:4]"
      ]
    },
    {
      "cell_type": "markdown",
      "metadata": {
        "id": "u4mrCE2sjnkf"
      },
      "source": [
        "a una **lista de listas de strings**"
      ]
    },
    {
      "cell_type": "code",
      "execution_count": null,
      "metadata": {
        "id": "wu0mtPqcjnkf"
      },
      "outputs": [],
      "source": [
        "train_docs[:4]"
      ]
    },
    {
      "cell_type": "markdown",
      "metadata": {
        "id": "A8t61qOEjnkf"
      },
      "source": [
        "Un poco de nomenclatura: estamos llamando corpus a la colección de textos. Nos referimos también a los textos como documentos. También estamos usando el término lote (*batch*) para referirnos a un (sub)conjunto de documentos."
      ]
    },
    {
      "cell_type": "markdown",
      "metadata": {
        "id": "qHkxTa0Ijnkf"
      },
      "source": [
        "## Vocabulario"
      ]
    },
    {
      "cell_type": "markdown",
      "metadata": {
        "id": "G4N8bJacjnkg"
      },
      "source": [
        "Este paso es importante. Aquí definimos y limitamos la tókenes que vamos a utilizar. El lenguaje es infinito, para convertirlo en un problema tratable muchas veces los que hacemos es reducirlo. Clave para varias prácticas de reducción es contar las frecuencias de los tókenes, esto es, cuántas veces aparece cada tóken en todo el corpus. Como mencionamos las palabras más frecuentes no aportan mucha información y las más infrecuentes si bien son las que más información tienen no llegarán a ser representativas para nuestro modelo. Descartar palabras poco frecuentes también afecta a errores ortográficos."
      ]
    },
    {
      "cell_type": "markdown",
      "metadata": {
        "id": "8jHzbQ_Yjnkg"
      },
      "source": [
        "Útil para este paso es la clase `Counter` de la librería estándar de Python."
      ]
    },
    {
      "cell_type": "code",
      "execution_count": null,
      "metadata": {
        "id": "VwwlcYPBjnkg"
      },
      "outputs": [],
      "source": [
        "from collections import Counter\n",
        "\n",
        "c = Counter(['a','b','c','a','b','a'])\n",
        "\n",
        "# obtener los dos elementos más comunes y sus frecuencias\n",
        "c.most_common(2)"
      ]
    },
    {
      "cell_type": "markdown",
      "metadata": {
        "id": "6jMfrgZajnkg"
      },
      "source": [
        "Una función de la librería estándar llamada `chain` nos dará una mano convirtiendo la lista de listas de tókenes en una lista de tókenes, similar a `numpy.flatten`, ya que `Counter` espera una lista con elementos a contar y nuestros tókenes están separados por documentos, hay que juntarlos."
      ]
    },
    {
      "cell_type": "code",
      "execution_count": null,
      "metadata": {
        "id": "vHlWtdY7jnkg"
      },
      "outputs": [],
      "source": [
        "from itertools import chain\n",
        "\n",
        "list(chain(['a','b','c'], ['c','d']))"
      ]
    },
    {
      "cell_type": "markdown",
      "metadata": {
        "id": "pKqehH7ojnkg"
      },
      "source": [
        "`chain` encadena las listas que le pasamos como argumentos variables. Podemos usar el operador *splat* `*` para contentar a la función (convertir la lista principal en una serie de argumentos)."
      ]
    },
    {
      "cell_type": "code",
      "execution_count": null,
      "metadata": {
        "id": "Sf4ac_vrjnkg"
      },
      "outputs": [],
      "source": [
        "list(chain( *[ ['a','b','c'], ['c','d'] ] ))"
      ]
    },
    {
      "cell_type": "markdown",
      "metadata": {
        "id": "Eyn3oNl2jnkg"
      },
      "source": [
        "En vez de una lista podemos pedir un conjunto (`set`), en el que los elementos no se repiten. Este bien podría ser el vocabulario."
      ]
    },
    {
      "cell_type": "code",
      "execution_count": null,
      "metadata": {
        "id": "sseWNY5tjnkh",
        "outputId": "9acd3e30-d16b-4fea-9629-2db1ed89db7b",
        "colab": {
          "base_uri": "https://localhost:8080/",
          "height": 145
        }
      },
      "outputs": [
        {
          "output_type": "error",
          "ename": "NameError",
          "evalue": "name 'chain' is not defined",
          "traceback": [
            "\u001b[0;31m---------------------------------------------------------------------------\u001b[0m",
            "\u001b[0;31mNameError\u001b[0m                                 Traceback (most recent call last)",
            "\u001b[0;32m<ipython-input-6-af6fb711408e>\u001b[0m in \u001b[0;36m<cell line: 1>\u001b[0;34m()\u001b[0m\n\u001b[0;32m----> 1\u001b[0;31m \u001b[0mset\u001b[0m\u001b[0;34m(\u001b[0m\u001b[0mchain\u001b[0m\u001b[0;34m(\u001b[0m \u001b[0;34m*\u001b[0m\u001b[0;34m[\u001b[0m \u001b[0;34m[\u001b[0m\u001b[0;34m'a'\u001b[0m\u001b[0;34m,\u001b[0m\u001b[0;34m'b'\u001b[0m\u001b[0;34m,\u001b[0m\u001b[0;34m'c'\u001b[0m\u001b[0;34m]\u001b[0m\u001b[0;34m,\u001b[0m \u001b[0;34m[\u001b[0m\u001b[0;34m'c'\u001b[0m\u001b[0;34m,\u001b[0m\u001b[0;34m'd'\u001b[0m\u001b[0;34m]\u001b[0m \u001b[0;34m]\u001b[0m \u001b[0;34m)\u001b[0m\u001b[0;34m)\u001b[0m\u001b[0;34m\u001b[0m\u001b[0;34m\u001b[0m\u001b[0m\n\u001b[0m",
            "\u001b[0;31mNameError\u001b[0m: name 'chain' is not defined"
          ]
        }
      ],
      "source": [
        "set(chain( *[ ['a','b','c'], ['c','d'] ] ))"
      ]
    },
    {
      "cell_type": "markdown",
      "metadata": {
        "id": "fslw4Rbajnkh"
      },
      "source": [
        "En definitiva, es la lista oficial de tókenes."
      ]
    },
    {
      "cell_type": "code",
      "execution_count": null,
      "metadata": {
        "id": "VSkSKn_wjnkh"
      },
      "outputs": [],
      "source": [
        "# versión 1\n",
        "class Vocab():\n",
        "    def fit(self, lote):\n",
        "        self.vocabulario = set(chain(*lote))\n",
        "\n",
        "        return self\n",
        "\n",
        "    def __len__(self):\n",
        "        return len(self.vocabulario)"
      ]
    },
    {
      "cell_type": "markdown",
      "metadata": {
        "id": "jyE-FEcpjnkh"
      },
      "source": [
        "Es importante generar el vocabulario con el dataset de entrenamiento, ya que como mencionamos se trata de la lista de palabras conocidas. Le agregamos un `__len__` porque también es útil conocer el tamaño del vocabulario."
      ]
    },
    {
      "cell_type": "code",
      "execution_count": null,
      "metadata": {
        "id": "cPCSCa1Fjnkh"
      },
      "outputs": [],
      "source": [
        "v = Vocab().fit(train_docs)\n",
        "len(v)"
      ]
    },
    {
      "cell_type": "markdown",
      "metadata": {
        "id": "N0ef-zW4jnkh"
      },
      "source": [
        "¿Qué pasa con las palabras que no están en la lista? Se las conoce como tókenen **fuera del vocabulario** (*out-of-vocabulary*, abreviado OOV). Estas requieren acciones especiales, podríamos\n",
        "* ignorarlas\n",
        "* reemplazarlas por un tóken especial\n",
        "* inferirlas (ver más adelante, embeddings)"
      ]
    },
    {
      "cell_type": "code",
      "execution_count": null,
      "metadata": {
        "id": "8j7r2ZIwjnki"
      },
      "outputs": [],
      "source": [
        "# versión 1.1\n",
        "class Vocab():\n",
        "    def __init__(self, tóken_desconocido='<unk>'):\n",
        "        self.tóken_desconocido = tóken_desconocido\n",
        "\n",
        "    def fit(self, lote):\n",
        "        self.vocabulario = list(set(chain(*lote)))\n",
        "\n",
        "        if self.tóken_desconocido:\n",
        "            self.vocabulario.append(self.tóken_desconocido)\n",
        "\n",
        "        return self\n",
        "\n",
        "    def transform(self, lote):\n",
        "        if self.tóken_desconocido: # reemplazar\n",
        "            return [[tóken if tóken in self.vocabulario else self.tóken_desconocido for tóken in doc] for doc in lote]\n",
        "        else: # ignorar\n",
        "            return [[tóken for tóken in doc if tóken in self.vocabulario] for doc in lote]\n",
        "\n",
        "    def __len__(self):\n",
        "        return len(self.vocabulario)"
      ]
    },
    {
      "cell_type": "code",
      "execution_count": null,
      "metadata": {
        "id": "2NSJjF-Tjnki"
      },
      "outputs": [],
      "source": [
        "Vocab().fit(train_docs).transform([\n",
        "    ['poder', 'gestionar', 'clave', 'paso', 'pagina'],\n",
        "    ['desde', 'cuando', 'arranco', 'con', 'el', 'programa', 'de', 'millas'],\n",
        "])"
      ]
    },
    {
      "cell_type": "markdown",
      "metadata": {
        "id": "1H_t6LxWjnki"
      },
      "source": [
        "## Numericalización\n",
        "\n",
        "También conocido como indexación. Así como a las unidades mínimas que consideramos las llamamos tókenes, a los números que los representan los llamamos **índices**. Ya que el vocabulario tiene la lista de tókenes, le vamos a pedir una responsabilidad adicional: que mantenga una asignación entre tókenes y números enteros. Posiblemente ya te ha sucedido pasarle valores no númericos a un estimador y ver cómo falla."
      ]
    },
    {
      "cell_type": "code",
      "execution_count": null,
      "metadata": {
        "id": "mQbug08vjnki"
      },
      "outputs": [],
      "source": [
        "vocabulario = ['a','b','c','d','<unk>']\n",
        "\n",
        "{tóken: índice for índice, tóken in enumerate(vocabulario)}"
      ]
    },
    {
      "cell_type": "markdown",
      "metadata": {
        "id": "Hwewhs-Ejnki"
      },
      "source": [
        "que es lo mismo que"
      ]
    },
    {
      "cell_type": "code",
      "execution_count": null,
      "metadata": {
        "id": "Ceu3oNSqjnki"
      },
      "outputs": [],
      "source": [
        "mapeo = {}\n",
        "\n",
        "for índice, tóken in enumerate(vocabulario):\n",
        "    mapeo[tóken] = índice\n",
        "\n",
        "mapeo"
      ]
    },
    {
      "cell_type": "markdown",
      "metadata": {
        "id": "Bw8Go4Y0jnki"
      },
      "source": [
        "¿Qué es lo que hace `enumerate`? Como su nombre lo indica, enumera los elementos de una colección."
      ]
    },
    {
      "cell_type": "code",
      "execution_count": null,
      "metadata": {
        "id": "kLZkA2Zyjnki"
      },
      "outputs": [],
      "source": [
        "list(enumerate(vocabulario))"
      ]
    },
    {
      "cell_type": "code",
      "execution_count": null,
      "metadata": {
        "id": "2WXB3-Iijnkj"
      },
      "outputs": [],
      "source": [
        "# versión 2\n",
        "class Vocab():\n",
        "    def __init__(self, tóken_desconocido='<unk>'):\n",
        "        self.tóken_desconocido = tóken_desconocido\n",
        "\n",
        "    def fit(self, lote):\n",
        "        vocabulario = list(set(chain(*lote)))\n",
        "\n",
        "        if self.tóken_desconocido:\n",
        "            vocabulario.append(self.tóken_desconocido)\n",
        "\n",
        "        self.mapeo = {tóken: índice for índice, tóken in enumerate(vocabulario)}\n",
        "\n",
        "        return self\n",
        "\n",
        "    def transform(self, lote):\n",
        "        if self.tóken_desconocido: # reemplazar\n",
        "            return [[tóken if tóken in self.mapeo else self.tóken_desconocido for tóken in doc] for doc in lote]\n",
        "        else: # ignorar\n",
        "            return [[tóken for tóken in doc if tóken in self.mapeo] for doc in lote]\n",
        "\n",
        "    def __len__(self):\n",
        "        return len(self.mapeo)"
      ]
    },
    {
      "cell_type": "markdown",
      "metadata": {
        "id": "NkEm7X5Djnkj"
      },
      "source": [
        "Comprobemos que la nueva versión de `Vocab` funciona como la anterior. Además veamos qué sucedo cuando no queremos el tóken para palabras fuera de vocabulario."
      ]
    },
    {
      "cell_type": "code",
      "execution_count": null,
      "metadata": {
        "id": "H6Zfl58tjnkj"
      },
      "outputs": [],
      "source": [
        "Vocab(tóken_desconocido=None).fit(train_docs).transform([\n",
        "    ['poder', 'gestionar', 'clave', 'paso', 'pagina'],\n",
        "    ['desde', 'cuando', 'arranco', 'con', 'el', 'programa', 'de', 'millas'],\n",
        "])"
      ]
    },
    {
      "cell_type": "markdown",
      "metadata": {
        "id": "bqCc70fDjnkj"
      },
      "source": [
        "Ahora vamos a agregar métodos para convertir tókenes a índices y viceversa."
      ]
    },
    {
      "cell_type": "code",
      "execution_count": null,
      "metadata": {
        "id": "zAYiYc3rjnkj"
      },
      "outputs": [],
      "source": [
        "# versión 2.1\n",
        "class Vocab():\n",
        "    def __init__(self, tóken_desconocido='<unk>'):\n",
        "        self.tóken_desconocido = tóken_desconocido\n",
        "\n",
        "    def fit(self, lote):\n",
        "        # agregamos `sorted` porque el orden al aplicar `set` no está asegurado\n",
        "        vocabulario = list(sorted(set(chain(*lote))))\n",
        "\n",
        "        if self.tóken_desconocido:\n",
        "            vocabulario.append(self.tóken_desconocido)\n",
        "\n",
        "        self.mapeo = {tóken: índice for índice, tóken in enumerate(vocabulario)}\n",
        "\n",
        "        return self\n",
        "\n",
        "    def transform(self, lote):\n",
        "        if self.tóken_desconocido: # reemplazar\n",
        "            return [[tóken if tóken in self.mapeo else self.tóken_desconocido for tóken in doc] for doc in lote]\n",
        "        else: # ignorar\n",
        "            return [[tóken for tóken in doc if tóken in self.mapeo] for doc in lote]\n",
        "\n",
        "    def tókenes_a_índices(self, lote):\n",
        "        lote = self.transform(lote)\n",
        "\n",
        "        return [[self.mapeo[tóken] for tóken in doc] for doc in lote]\n",
        "\n",
        "    def índices_a_tókenes(self, lote):\n",
        "        mapeo_inverso = list(self.mapeo.keys())\n",
        "\n",
        "        return [[mapeo_inverso[índice] for índice in doc] for doc in lote]\n",
        "\n",
        "    def __len__(self):\n",
        "        return len(self.mapeo)"
      ]
    },
    {
      "cell_type": "code",
      "execution_count": null,
      "metadata": {
        "id": "Z-WDjN5Njnkj"
      },
      "outputs": [],
      "source": [
        "v = Vocab(tóken_desconocido=None).fit(train_docs)\n",
        "\n",
        "v.tókenes_a_índices([\n",
        "    ['que', 'se', 'requiere', 'para', 'un', 'prestamo', 'personal'],\n",
        "    ['me', 'piden', 'mi', 'numero', 'de', 'cuenta', 'es', 'mi', 'cbu'],\n",
        "])"
      ]
    },
    {
      "cell_type": "code",
      "execution_count": null,
      "metadata": {
        "id": "2KuqLuXtjnkk",
        "outputId": "66568218-e64d-4248-d6e1-fbfd5d1d6b56",
        "colab": {
          "base_uri": "https://localhost:8080/",
          "height": 199
        }
      },
      "outputs": [
        {
          "output_type": "error",
          "ename": "NameError",
          "evalue": "name 'v' is not defined",
          "traceback": [
            "\u001b[0;31m---------------------------------------------------------------------------\u001b[0m",
            "\u001b[0;31mNameError\u001b[0m                                 Traceback (most recent call last)",
            "\u001b[0;32m<ipython-input-7-1bc1fd8ce889>\u001b[0m in \u001b[0;36m<cell line: 1>\u001b[0;34m()\u001b[0m\n\u001b[0;32m----> 1\u001b[0;31m v.índices_a_tókenes([\n\u001b[0m\u001b[1;32m      2\u001b[0m     \u001b[0;34m[\u001b[0m\u001b[0;36m4160\u001b[0m\u001b[0;34m,\u001b[0m \u001b[0;36m4683\u001b[0m\u001b[0;34m,\u001b[0m \u001b[0;36m4484\u001b[0m\u001b[0;34m,\u001b[0m \u001b[0;36m3703\u001b[0m\u001b[0;34m,\u001b[0m \u001b[0;36m5294\u001b[0m\u001b[0;34m,\u001b[0m \u001b[0;36m4011\u001b[0m\u001b[0;34m,\u001b[0m \u001b[0;36m3825\u001b[0m\u001b[0;34m]\u001b[0m\u001b[0;34m,\u001b[0m\u001b[0;34m\u001b[0m\u001b[0;34m\u001b[0m\u001b[0m\n\u001b[1;32m      3\u001b[0m     \u001b[0;34m[\u001b[0m\u001b[0;36m3275\u001b[0m\u001b[0;34m,\u001b[0m \u001b[0;36m3854\u001b[0m\u001b[0;34m,\u001b[0m \u001b[0;36m3319\u001b[0m\u001b[0;34m,\u001b[0m \u001b[0;36m3554\u001b[0m\u001b[0;34m,\u001b[0m \u001b[0;36m1532\u001b[0m\u001b[0;34m,\u001b[0m \u001b[0;36m1462\u001b[0m\u001b[0;34m,\u001b[0m \u001b[0;36m2151\u001b[0m\u001b[0;34m,\u001b[0m \u001b[0;36m3319\u001b[0m\u001b[0;34m,\u001b[0m \u001b[0;36m950\u001b[0m\u001b[0;34m]\u001b[0m\u001b[0;34m,\u001b[0m\u001b[0;34m\u001b[0m\u001b[0;34m\u001b[0m\u001b[0m\n\u001b[1;32m      4\u001b[0m ])\n",
            "\u001b[0;31mNameError\u001b[0m: name 'v' is not defined"
          ]
        }
      ],
      "source": [
        "v.índices_a_tókenes([\n",
        "    [4160, 4683, 4484, 3703, 5294, 4011, 3825],\n",
        "    [3275, 3854, 3319, 3554, 1532, 1462, 2151, 3319, 950],\n",
        "])"
      ]
    },
    {
      "cell_type": "markdown",
      "metadata": {
        "id": "7jUN_Htnjnkk"
      },
      "source": [
        "## Casos especiales"
      ]
    },
    {
      "cell_type": "markdown",
      "metadata": {
        "id": "zKZlM1yujnkk"
      },
      "source": [
        "¿Qué sucede con los documentos que al ser tokenizados regresan vacíos? ¿O con documentos compuestos enteramente por palabras fuera del vocabulario?"
      ]
    },
    {
      "cell_type": "code",
      "execution_count": null,
      "metadata": {
        "id": "2TVibwMmjnkk"
      },
      "outputs": [],
      "source": [
        "documentos_problemáticos = [\n",
        "    '??? ???',\n",
        "    'Banks charge high fees for foreign ATM'\n",
        "]\n",
        "\n",
        "[preprocesar(doc) for doc in documentos_problemáticos]"
      ]
    },
    {
      "cell_type": "code",
      "execution_count": null,
      "metadata": {
        "id": "MY8jBs12jnkk"
      },
      "outputs": [],
      "source": [
        "v = Vocab().fit(train_docs)\n",
        "\n",
        "v.transform([[], ['banks', 'charge', 'high', 'fees', 'for', 'foreign']])"
      ]
    },
    {
      "cell_type": "code",
      "execution_count": null,
      "metadata": {
        "id": "V5WuWKSVjnkk"
      },
      "outputs": [],
      "source": [
        "v.tókenes_a_índices([[], ['banks', 'charge', 'high', 'fees', 'for', 'foreign']])"
      ]
    },
    {
      "cell_type": "code",
      "execution_count": null,
      "metadata": {
        "id": "u0IdsbGRjnkk"
      },
      "outputs": [],
      "source": [
        "v.índices_a_tókenes([[], [5583, 5583, 5583, 5583, 5583, 5583]])"
      ]
    },
    {
      "cell_type": "markdown",
      "metadata": {
        "id": "gPLg9-mqjnkl"
      },
      "source": [
        "La conclusión es que [no pasa nada](https://www.youtube.com/watch?v=UiZWxx1i6iA) (al menos por ahora)."
      ]
    },
    {
      "cell_type": "markdown",
      "metadata": {
        "id": "bN1BpyqOjnkl"
      },
      "source": [
        "## Bonus: reducción del vocabulario\n",
        "\n",
        "La idea es limitar los tókenes que vamos a utilizar. En cierta forma cada tóken es un atributo (*feature*) y quisiéramos proveer atributos que sean de utilidad para el estimador.\n",
        "\n",
        "El lenguaje es infinito, para convertirlo en un problema tratable muchas veces los que hacemos es reducirlo. Clave para varias prácticas de reducción es contar las frecuencias de los tókenes, esto es, cuántas veces aparece cada tóken en todo el corpus. Como mencionamos las palabras más frecuentes no aportan mucha información y las más infrecuentes si bien son las que más información tienen no llegarán a ser representativas para nuestro modelo. Descartar palabras poco frecuentes también afecta a errores ortográficos."
      ]
    },
    {
      "cell_type": "markdown",
      "metadata": {
        "id": "AZCvRAlqjnkl"
      },
      "source": [
        "Útil para este paso es la clase `Counter` de la librería estándar de Python."
      ]
    },
    {
      "cell_type": "code",
      "execution_count": null,
      "metadata": {
        "id": "c1EnDgpwjnkl"
      },
      "outputs": [],
      "source": [
        "from collections import Counter\n",
        "\n",
        "c = Counter(['a','b','c','a','b','a'])\n",
        "\n",
        "# obtener los elementos ordenados de más comunes a menos\n",
        "c.most_common()"
      ]
    },
    {
      "cell_type": "markdown",
      "metadata": {
        "id": "6PNTEUqwjnkl"
      },
      "source": [
        "Acerca de contar palabras, no te pierdas la [ley de Zipf](https://nbviewer.jupyter.org/url/norvig.com/ipython/How%20to%20Do%20Things%20with%20Words.ipynb#(2)-Models:-Bag-of-Words)."
      ]
    },
    {
      "cell_type": "markdown",
      "metadata": {
        "id": "RIOAzHsIjnkl"
      },
      "source": [
        "### Más comunes\n",
        "\n",
        "Una estrategia simple es ordenar a los tókenes según frecuencia y poner un límite duro al vocabulario, de modo de quedarnos con los `límite` más comunes."
      ]
    },
    {
      "cell_type": "code",
      "execution_count": null,
      "metadata": {
        "id": "5Y6CpNi_jnkl"
      },
      "outputs": [],
      "source": [
        "límite = 2\n",
        "\n",
        "vocabulario = list(c)[:límite]\n",
        "vocabulario"
      ]
    },
    {
      "cell_type": "markdown",
      "metadata": {
        "id": "3T7mO74Djnkm"
      },
      "source": [
        "### Por frecuencia de tóken\n",
        "\n",
        "Podríamos descartar los que aparecen\n",
        "* más de `máximo` veces,\n",
        "* menos de `mínimo` veces."
      ]
    },
    {
      "cell_type": "code",
      "execution_count": null,
      "metadata": {
        "id": "j2L1F9_Zjnkm"
      },
      "outputs": [],
      "source": [
        "máximo = 3\n",
        "mínimo = 2\n",
        "\n",
        "vocabulario = [tóken for tóken, frecuencia in c.most_common() if máximo >= frecuencia >= mínimo]\n",
        "vocabulario"
      ]
    },
    {
      "cell_type": "markdown",
      "metadata": {
        "id": "b8Ei1_H2jnkm"
      },
      "source": [
        "### Por frecuencia de documento\n",
        "\n",
        "O bien, en vez de contar las apariciones absolutas, contar en cuántos documentos aparece cada tóken. Un tóken que aparezca en todos los documentos no colaboraría en una tarea de clasificación, a distinguir documentos pero uno que aparezca en la mitad de los documentos podría ser útil para separarlos en dos grupos."
      ]
    },
    {
      "cell_type": "code",
      "execution_count": null,
      "metadata": {
        "id": "H-8fHqyXjnkm"
      },
      "outputs": [],
      "source": [
        "c = Counter()\n",
        "\n",
        "lote = [\n",
        "    ['hola', 'buen', 'día'],\n",
        "    ['hola', 'buenas', 'tardes'],\n",
        "]\n",
        "\n",
        "for doc in lote:\n",
        "    c.update(set(doc))\n",
        "\n",
        "c.most_common()"
      ]
    },
    {
      "cell_type": "markdown",
      "metadata": {
        "id": "9ZpfCY74jnkm"
      },
      "source": [
        "Vamos a normalizar la frecuencias por la cantidad total de documentos ($D$) y de manera similar al punto anterior podríamos descartar los elementos que aparecen en:\n",
        "* más del `máximo` proporción de los documentos.\n",
        "* menos del `mínimo` proporción de los documentos."
      ]
    },
    {
      "cell_type": "code",
      "execution_count": null,
      "metadata": {
        "id": "953k7KX1jnkm"
      },
      "outputs": [],
      "source": [
        "D = len(lote)\n",
        "\n",
        "máximo = .9\n",
        "mínimo = .1\n",
        "\n",
        "vocabulario = [tóken for tóken, frecuencia in c.most_common() if máximo >= frecuencia/D >= mínimo]\n",
        "vocabulario"
      ]
    },
    {
      "cell_type": "markdown",
      "metadata": {
        "id": "5jSgHuU5jnkm"
      },
      "source": [
        "### *Stop words*\n",
        "\n",
        "Hay listas armadas de palabras muy comunes (*stop words*). Podemos elaborarla de alguna manera o usar alguna existente.\n",
        "\n",
        "    pip install nltk"
      ]
    },
    {
      "cell_type": "code",
      "execution_count": null,
      "metadata": {
        "id": "XarEu9Ewjnkm"
      },
      "outputs": [],
      "source": [
        "import nltk\n",
        "nltk.download('stopwords')\n",
        "\n",
        "from nltk.corpus import stopwords\n",
        "\n",
        "stopwords.words('spanish')[:10]"
      ]
    },
    {
      "cell_type": "markdown",
      "metadata": {
        "id": "6l-amxwDjnkm"
      },
      "source": [
        "Un detalle a cuidar es que la tokenización usada para la lista de *stop words* tiene que haber sido la misma o similar que la usada para los documentos."
      ]
    },
    {
      "cell_type": "code",
      "execution_count": null,
      "metadata": {
        "id": "YvZKuQJejnkn"
      },
      "outputs": [],
      "source": [
        "def filtrar_stop_words(lote):\n",
        "    return [[tóken for tóken in doc if tóken not in stopwords.words('spanish')] for doc in lote]\n",
        "\n",
        "filtrar_stop_words([\n",
        "    ['que', 'se', 'requiere', 'para', 'un', 'prestamo', 'personal'],\n",
        "    ['me', 'piden', 'mi', 'numero', 'de', 'cuenta', 'es', 'mi', 'cbu'],\n",
        "])"
      ]
    },
    {
      "cell_type": "markdown",
      "metadata": {
        "id": "tCwaHL1tjnkn"
      },
      "source": [
        "### Por longitud\n",
        "\n",
        "Esta técnica no requiere contar la frecuencia de los tókenes, simplemente filtramos tókenes muy cortos o muy largos ya que en general son ruidos."
      ]
    },
    {
      "cell_type": "code",
      "execution_count": null,
      "metadata": {
        "id": "DjfqG_rijnkn"
      },
      "outputs": [],
      "source": [
        "def filtrar_por_longitud(lote, máxima, mínima):\n",
        "    return [[tóken for tóken in doc if máxima >= len(tóken) >= mínima] for doc in lote]\n",
        "\n",
        "filtrar_por_longitud([\n",
        "    ['que', 'se', 'requiere', 'para', 'un', 'prestamo', 'personal'],\n",
        "    ['me', 'piden', 'mi', 'numero', 'de', 'cuenta', 'es', 'mi', 'cbu'],\n",
        "], máxima=9, mínima=3)"
      ]
    },
    {
      "cell_type": "markdown",
      "metadata": {
        "id": "uIpnN2s6jnkn"
      },
      "source": [
        "### Implementación\n",
        "\n",
        "Veamos cómo acomodamos lo que hemos visto ahora en la clase `Vocab`."
      ]
    },
    {
      "cell_type": "code",
      "execution_count": null,
      "metadata": {
        "id": "FwxyxzyYjnkn"
      },
      "outputs": [],
      "source": [
        "# versión 3\n",
        "import numpy as np\n",
        "from itertools import chain\n",
        "from collections import Counter\n",
        "\n",
        "class Vocab():\n",
        "    def __init__(self, tóken_desconocido='<unk>', frecuencia_mínima=0.0, frecuencia_máxima=1.0,\n",
        "                 longitud_mínima=1, longitud_máxima=np.inf, stop_words=[], límite_vocabulario=None):\n",
        "\n",
        "        self.tóken_desconocido = tóken_desconocido\n",
        "        self.frecuencia_mínima = frecuencia_mínima\n",
        "        self.frecuencia_máxima = frecuencia_máxima\n",
        "        self.longitud_mínima = longitud_mínima\n",
        "        self.longitud_máxima = longitud_máxima\n",
        "        self.stop_words = stop_words\n",
        "        self.límite_vocabulario = límite_vocabulario\n",
        "\n",
        "    def reducir_vocabulario(self, lote):\n",
        "        contador_absoluto = Counter(chain(*lote))\n",
        "\n",
        "        contador_documentos = Counter()\n",
        "\n",
        "        for doc in lote:\n",
        "            contador_documentos.update(set(doc))\n",
        "\n",
        "        # frecuencia mínima\n",
        "        if isinstance(self.frecuencia_mínima, int): # frecuencia de tóken\n",
        "            vocabulario_mín = [tóken for tóken, frecuencia in contador_absoluto.most_common() if frecuencia >= self.frecuencia_mínima]\n",
        "        else: # frecuencia de documento\n",
        "            vocabulario_mín = [tóken for tóken, frecuencia in contador_documentos.most_common() if frecuencia/len(lote) >= self.frecuencia_mínima]\n",
        "\n",
        "        # frecuencia máxima\n",
        "        if isinstance(self.frecuencia_máxima, int): # frecuencia de tóken\n",
        "            vocabulario_máx = [tóken for tóken, frecuencia in contador_absoluto.most_common() if self.frecuencia_máxima >= frecuencia]\n",
        "        else: # frecuencia de documento\n",
        "            vocabulario_máx = [tóken for tóken, frecuencia in contador_documentos.most_common() if self.frecuencia_máxima >= frecuencia/len(lote)]\n",
        "\n",
        "        # intersección de vocabulario_mín y vocabulario_máx preservando el órden\n",
        "        vocabulario = [tóken for tóken in vocabulario_mín if tóken in vocabulario_máx]\n",
        "\n",
        "        # longitud\n",
        "        vocabulario = [tóken for tóken in vocabulario if self.longitud_máxima >= len(tóken) >= self.longitud_mínima]\n",
        "\n",
        "        # stop words\n",
        "        vocabulario = [tóken for tóken in vocabulario if tóken not in self.stop_words]\n",
        "\n",
        "        # límite\n",
        "        vocabulario = vocabulario[:self.límite_vocabulario]\n",
        "\n",
        "        return vocabulario\n",
        "\n",
        "    def fit(self, lote):\n",
        "        vocabulario = self.reducir_vocabulario(lote)\n",
        "\n",
        "        if self.tóken_desconocido:\n",
        "            vocabulario.append(self.tóken_desconocido)\n",
        "\n",
        "        self.mapeo = {tóken: índice for índice, tóken in enumerate(vocabulario)}\n",
        "\n",
        "        return self\n",
        "\n",
        "    def transform(self, lote):\n",
        "        if self.tóken_desconocido: # reemplazar\n",
        "            return [[tóken if tóken in self.mapeo else self.tóken_desconocido for tóken in doc] for doc in lote]\n",
        "        else: # ignorar\n",
        "            return [[tóken for tóken in doc if tóken in self.mapeo] for doc in lote]\n",
        "\n",
        "    def tókenes_a_índices(self, lote):\n",
        "        lote = self.transform(lote)\n",
        "\n",
        "        return [[self.mapeo[tóken] for tóken in doc] for doc in lote]\n",
        "\n",
        "    def índices_a_tókenes(self, lote):\n",
        "        mapeo_inverso = list(self.mapeo.keys())\n",
        "\n",
        "        return [[mapeo_inverso[índice] for índice in doc] for doc in lote]\n",
        "\n",
        "    def __len__(self):\n",
        "        return len(self.mapeo)"
      ]
    },
    {
      "cell_type": "code",
      "execution_count": null,
      "metadata": {
        "id": "mzPAmwzJjnkn"
      },
      "outputs": [],
      "source": [
        "Vocab(longitud_mínima=3).fit(train_docs).transform([\n",
        "    ['poder', 'gestionar', 'clave', 'paso', 'pagina'],\n",
        "    ['desde', 'cuando', 'arranco', 'con', 'el', 'programa', 'de', 'millas'],\n",
        "])"
      ]
    },
    {
      "cell_type": "markdown",
      "metadata": {
        "id": "TYoeekqKjnko"
      },
      "source": [
        "## El pre-procesamiento hasta ahora"
      ]
    },
    {
      "cell_type": "code",
      "execution_count": null,
      "metadata": {
        "id": "OXcLTpr1jnko"
      },
      "outputs": [],
      "source": [
        "v = Vocab().fit(train_docs)\n",
        "\n",
        "train_índices = v.tókenes_a_índices(train_docs)\n",
        "valid_índices = v.tókenes_a_índices(valid_docs)\n",
        "infer_índices = v.tókenes_a_índices(infer_docs)"
      ]
    },
    {
      "cell_type": "markdown",
      "metadata": {
        "id": "P3_OZyghjnko"
      },
      "source": [
        "Con esto concluye la primera parte. Hay varias librerías que tienen clases que se encargan de efectuar los pasos que hemos visto. Tienen un comportamiento por defecto, que es configurable (los parámetros que hemos visto) y a su vez, personalizable, para reemplazar algunos o todos los pasos por código propio. En general son librerías desarrolladas por angloparlantes, funcionan *out-of-the-box* bien para el inglés; cuando queremos procesar texto en español vale la pena tener más control sobre estos procesos.\n",
        "\n",
        "* [CountVectorizer](https://scikit-learn.org/stable/modules/generated/sklearn.feature_extraction.text.CountVectorizer.html) de scikit-learn.\n",
        "* [TextDataBunch](https://docs.fast.ai/text.data.html#TextDataBunch.from_df) de fast.ai."
      ]
    },
    {
      "cell_type": "markdown",
      "metadata": {
        "id": "l9gQW16xjnko"
      },
      "source": [
        "## Pre-procesando las etiquetas"
      ]
    },
    {
      "cell_type": "markdown",
      "metadata": {
        "id": "UouZnnMAjnko"
      },
      "source": [
        "Las etiquetas del dataset también necesitan ser convertidas a números enteros consecutivos. No lo pensamos para este fin pero `Vocab` sería útil en este aspecto. El único tema es que `Vocab.fit` y demás métodos esperan listas de listas de tókenes y a las etiquetas las encontramos en forma de listas de tókenes simplemente."
      ]
    },
    {
      "cell_type": "code",
      "execution_count": null,
      "metadata": {
        "id": "0pD2N3VBjnko"
      },
      "outputs": [],
      "source": [
        "train_df['Intencion'].values"
      ]
    },
    {
      "cell_type": "markdown",
      "metadata": {
        "id": "wNvWNXNpjnko"
      },
      "source": [
        "Podemos llevar la columna de las etiquetas a una lista de listas con `train_df['Intencion'].values.reshape(-1,1)`, de manera de poder interfacearlo con `Vocab`. Algo como `train_df[['Intencion']].values` para que Pandas devuelva un `DataFrame` en vez de una `Series` también funcionaría."
      ]
    },
    {
      "cell_type": "code",
      "execution_count": null,
      "metadata": {
        "id": "9vLOxl43jnkp"
      },
      "outputs": [],
      "source": [
        "train_etiquetas = train_df[['Intencion']].values\n",
        "valid_etiquetas = valid_df[['Intencion']].values\n",
        "train_etiquetas"
      ]
    },
    {
      "cell_type": "markdown",
      "metadata": {
        "id": "7-TYf7-ojnkp"
      },
      "source": [
        "Todo lo que tenga que ver con limitación del vocabulario o agregado de tókenes especiales no nos interesa para este caso de uso."
      ]
    },
    {
      "cell_type": "code",
      "execution_count": null,
      "metadata": {
        "id": "dKPb23Tcjnkp"
      },
      "outputs": [],
      "source": [
        "vocabulario_etiquetas = Vocab(tóken_desconocido=None).fit(train_etiquetas)\n",
        "\n",
        "train_etiquetas = vocabulario_etiquetas.tókenes_a_índices(train_etiquetas)\n",
        "valid_etiquetas = vocabulario_etiquetas.tókenes_a_índices(valid_etiquetas)\n",
        "\n",
        "train_etiquetas[:10]"
      ]
    },
    {
      "cell_type": "markdown",
      "metadata": {
        "id": "HGCeuOXujnkp"
      },
      "source": [
        "Ya casi estamos. Solo debemos reconvertir a las etiquetas en una lista de índices (su dimensión original) con un recurso que ya conocemos."
      ]
    },
    {
      "cell_type": "code",
      "execution_count": null,
      "metadata": {
        "id": "G8sHocJujnkp"
      },
      "outputs": [],
      "source": [
        "train_etiquetas = list(chain(*train_etiquetas))\n",
        "valid_etiquetas = list(chain(*valid_etiquetas))\n",
        "\n",
        "train_etiquetas[:10]"
      ]
    },
    {
      "cell_type": "markdown",
      "metadata": {
        "id": "I7gqlpP4jnkp"
      },
      "source": [
        "Ahora estás en condiciones de seguir con la [segunda parte](Preprocesamiento-de-texto-para-NLP-parte-2.html)."
      ]
    },
    {
      "cell_type": "markdown",
      "metadata": {
        "id": "X6DvyYVwjnkq"
      },
      "source": [
        "## Fuentes consultadas\n",
        "\n",
        "* http://anie.me/On-Torchtext/\n",
        "* https://medium.com/@datamonsters/text-preprocessing-in-python-steps-tools-and-examples-bf025f872908"
      ]
    }
  ],
  "metadata": {
    "environment": {
      "name": "pytorch-gpu.1-4.m50",
      "type": "gcloud",
      "uri": "gcr.io/deeplearning-platform-release/pytorch-gpu.1-4:m50"
    },
    "kernelspec": {
      "display_name": "Python 3",
      "language": "python",
      "name": "python3"
    },
    "language_info": {
      "codemirror_mode": {
        "name": "ipython",
        "version": 3
      },
      "file_extension": ".py",
      "mimetype": "text/x-python",
      "name": "python",
      "nbconvert_exporter": "python",
      "pygments_lexer": "ipython3",
      "version": "3.7.3"
    },
    "colab": {
      "provenance": [],
      "include_colab_link": true
    }
  },
  "nbformat": 4,
  "nbformat_minor": 0
}