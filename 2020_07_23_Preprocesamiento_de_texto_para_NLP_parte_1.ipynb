{
  "cells": [
    {
      "cell_type": "markdown",
      "metadata": {
        "id": "yQzsg8_EjnkQ"
      },
      "source": [
        "# Preprocesamiento de texto para NLP (parte 1)\n",
        "> \"(=^･ω･^=) Limpieza, tokenización y más\"\n",
        "\n",
        "- toc: true\n",
        "- branch: master\n",
        "- badges: true\n",
        "- comments: true\n",
        "- author: Matías Battocchia\n",
        "- categories: [nlp]"
      ]
    },
    {
      "cell_type": "markdown",
      "metadata": {
        "id": "mOZ5hzcijnkS"
      },
      "source": [
        "Vamos a hacer un recorrido por los pasos básicos del pre-procesamiento de texto. Estos pasos son necesarios para transformar texto del lenguaje humano a un formato legible para máquinas para su posterior procesamiento, particularmente motiva esta publicación el procesamiento en [PyTorch](https://pytorch.org/).\n",
        "\n",
        "Veremos cómo realizar estos pasos con código propio, para mayor entendimiento de lo que está sucediendo, y con [spaCy](https://spacy.io/), una herramienta de nuestro agrado."
      ]
    },
    {
      "cell_type": "markdown",
      "metadata": {
        "id": "oziSYtJKjnkS"
      },
      "source": [
        "En concreto, los pasos son:\n",
        "\n",
        "1. **Limpieza**, la remoción del contenido no deseado.\n",
        "2. **Normalización**, la conversión diferentes formas a una sola.\n",
        "3. **Tokenización**, la separación del texto en tókenes (unidades mínimas, por ejemplo palabras).\n",
        "4. Separación en **conjuntos de datos**: entrenamiento, validación, prueba.\n",
        "5. Generación del **vocabulario**, la lista de tókenes conocidos.\n",
        "6. **Numericalización**, el mapeo de tókenes a números enteros.\n",
        "\n",
        "Estos pasos son comunes distintas aproximaciones al procesamiento del lenguaje. En la [parte 2](Preprocesamiento-de-texto-para-NLP-parte-2.html) mostraremos pasos útiles para abarcarlo usando *deep learning*.\n",
        "\n",
        "7. **Loteo**, la generación de porciones de muestras de entrenamiento.\n",
        "8. **Relleno**, la conversión del lote en un tensor de PyTorch.\n",
        "9. Carga de ***embeddings***, opcionalmente el uso de *embeddings* precalculados.\n",
        "\n",
        "Nota: El órden de los primeros tres pasos (limpieza, normalización, tokenización) puede variar según conveniencia. El resto de los pasos mantiene el órden."
      ]
    },
    {
      "cell_type": "markdown",
      "metadata": {
        "id": "2sRqCt1fjnkT"
      },
      "source": [
        "## Dataset de ejemplo\n",
        "\n",
        "¿Qué sería de esta publicación sin algunos ejemplos? Vamos a usar el dataset de la competencia [clasificación de preguntas de clientes](https://metadata.fundacionsadosky.org.ar/competition/21) de Meta:Data."
      ]
    },
    {
      "cell_type": "code",
      "execution_count": null,
      "metadata": {
        "id": "jmV8MTH5jnkU"
      },
      "outputs": [],
      "source": [
        "import pandas as pd\n",
        "\n",
        "df = pd.read_csv('train.csv', sep='|')"
      ]
    },
    {
      "cell_type": "code",
      "execution_count": null,
      "metadata": {
        "id": "UcE6Fvg7jnkU",
        "outputId": "85271e08-2df4-41fe-a2f4-a2f175524a90"
      },
      "outputs": [
        {
          "data": {
            "text/html": [
              "<div>\n",
              "<style scoped>\n",
              "    .dataframe tbody tr th:only-of-type {\n",
              "        vertical-align: middle;\n",
              "    }\n",
              "\n",
              "    .dataframe tbody tr th {\n",
              "        vertical-align: top;\n",
              "    }\n",
              "\n",
              "    .dataframe thead th {\n",
              "        text-align: right;\n",
              "    }\n",
              "</style>\n",
              "<table border=\"1\" class=\"dataframe\">\n",
              "  <thead>\n",
              "    <tr style=\"text-align: right;\">\n",
              "      <th></th>\n",
              "      <th>Pregunta</th>\n",
              "      <th>Intencion</th>\n",
              "    </tr>\n",
              "  </thead>\n",
              "  <tbody>\n",
              "    <tr>\n",
              "      <th>9221</th>\n",
              "      <td>hice una compra y no tengo las acciones acreditadas</td>\n",
              "      <td>Cat_153</td>\n",
              "    </tr>\n",
              "    <tr>\n",
              "      <th>1298</th>\n",
              "      <td>quiero saber si yo puedo solicitar un préstamo</td>\n",
              "      <td>Cat_248</td>\n",
              "    </tr>\n",
              "    <tr>\n",
              "      <th>4488</th>\n",
              "      <td>perdi la credencial universitaria. como solicito una nueva?</td>\n",
              "      <td>Cat_294</td>\n",
              "    </tr>\n",
              "    <tr>\n",
              "      <th>28</th>\n",
              "      <td>cambiar moneda tarjeta debitar exterior</td>\n",
              "      <td>Cat_289</td>\n",
              "    </tr>\n",
              "    <tr>\n",
              "      <th>19970</th>\n",
              "      <td>quiero adherir al debito de la tarjeta el servicio epec. me pide que ingrese numero cuenta de digitos pero en la factura no aparece un numero</td>\n",
              "      <td>Cat_129</td>\n",
              "    </tr>\n",
              "    <tr>\n",
              "      <th>3510</th>\n",
              "      <td>llegar tarjeta recargable solicití¬≠</td>\n",
              "      <td>Cat_293</td>\n",
              "    </tr>\n",
              "    <tr>\n",
              "      <th>14373</th>\n",
              "      <td>buenas tardes</td>\n",
              "      <td>Cat_19</td>\n",
              "    </tr>\n",
              "    <tr>\n",
              "      <th>5485</th>\n",
              "      <td>saber de cuanto es el pago mínimo de tarjeta visa</td>\n",
              "      <td>Cat_351</td>\n",
              "    </tr>\n",
              "    <tr>\n",
              "      <th>6752</th>\n",
              "      <td>verificar reclamo</td>\n",
              "      <td>Cat_135</td>\n",
              "    </tr>\n",
              "    <tr>\n",
              "      <th>10645</th>\n",
              "      <td>que sucede cuando se me vence el plazo fijo?</td>\n",
              "      <td>Cat_180</td>\n",
              "    </tr>\n",
              "  </tbody>\n",
              "</table>\n",
              "</div>"
            ],
            "text/plain": [
              "                                                                                                                                            Pregunta  \\\n",
              "9221   hice una compra y no tengo las acciones acreditadas                                                                                             \n",
              "1298   quiero saber si yo puedo solicitar un préstamo                                                                                                  \n",
              "4488   perdi la credencial universitaria. como solicito una nueva?                                                                                     \n",
              "28     cambiar moneda tarjeta debitar exterior                                                                                                         \n",
              "19970  quiero adherir al debito de la tarjeta el servicio epec. me pide que ingrese numero cuenta de digitos pero en la factura no aparece un numero   \n",
              "3510   llegar tarjeta recargable solicití¬≠                                                                                                            \n",
              "14373  buenas tardes                                                                                                                                   \n",
              "5485   saber de cuanto es el pago mínimo de tarjeta visa                                                                                               \n",
              "6752   verificar reclamo                                                                                                                               \n",
              "10645  que sucede cuando se me vence el plazo fijo?                                                                                                    \n",
              "\n",
              "      Intencion  \n",
              "9221   Cat_153   \n",
              "1298   Cat_248   \n",
              "4488   Cat_294   \n",
              "28     Cat_289   \n",
              "19970  Cat_129   \n",
              "3510   Cat_293   \n",
              "14373  Cat_19    \n",
              "5485   Cat_351   \n",
              "6752   Cat_135   \n",
              "10645  Cat_180   "
            ]
          },
          "metadata": {},
          "output_type": "display_data"
        }
      ],
      "source": [
        "with pd.option_context('display.max_colwidth', -1):\n",
        "\n",
        "    display(df.sample(10))"
      ]
    },
    {
      "cell_type": "markdown",
      "metadata": {
        "id": "oWFvw69ejnkV"
      },
      "source": [
        "## Expresiones regulares\n",
        "\n",
        "Si las expresiones regulares no te resultan familiares entonces vale la pena estudiarlas brevemente, ya que las usaremos. Podés mirar este [tutorial](https://robologs.net/2019/05/05/como-utilizar-expresiones-regulares-regex-en-python) que encontramos en la web."
      ]
    },
    {
      "cell_type": "code",
      "execution_count": null,
      "metadata": {
        "id": "BFqOVGDgjnkW"
      },
      "outputs": [],
      "source": [
        "import re"
      ]
    },
    {
      "cell_type": "markdown",
      "metadata": {
        "id": "i5gY20vBjnkW"
      },
      "source": [
        "## Limpieza\n",
        "\n",
        "Muchas técnicas modernas no realizan limpieza alguna. Dependiendo de lo que queramos hacer tal vez convenga deshacernos de algunos elementos. En el dataset de ejemplo los signos de puntuación no parecen tener gran relevancia, quizás tampoco la tengan los números (que aparentemente han sido removidos de antemano)."
      ]
    },
    {
      "cell_type": "code",
      "execution_count": null,
      "metadata": {
        "id": "HbXMuVRdjnkW"
      },
      "outputs": [],
      "source": [
        "def limpiar(texto):\n",
        "    puntuación = r'[,;.:¡!¿?@#$%&[\\](){}<>~=+\\-*/|\\\\_^`\"\\']'\n",
        "\n",
        "    # signos de puntuación\n",
        "    texto = re.sub(puntuación, ' ', texto)\n",
        "\n",
        "    # dígitos [0-9]\n",
        "    texto = re.sub('\\d', ' ', texto)\n",
        "\n",
        "    return texto"
      ]
    },
    {
      "cell_type": "markdown",
      "metadata": {
        "id": "XzMdu7l2jnkW"
      },
      "source": [
        "En esta función substituimos los signos de puntuación\n",
        "    \n",
        "    , ; . : ¡ ! ¿ ? @ # $ % & [ ] ( ) { } < > ~ = + - * / | \\ _ ^ ` \" '\n",
        "\n",
        "por espacios (me gusta más; usar string vacío `''` para eliminarlos) medieante expresiones regulares (algunos caracteres tuvieron que ser escapados anteponiendo `\\` por tener un significado especial para la expresión regular). Hacemos lo mismo con los dígitos. Veamos un ejemplo de funcionamiento."
      ]
    },
    {
      "cell_type": "code",
      "execution_count": null,
      "metadata": {
        "id": "M6sxWwt0jnkX",
        "outputId": "8dc73273-fd57-4d3a-eb13-319d443f0fd7"
      },
      "outputs": [
        {
          "data": {
            "text/plain": [
              "'hoy    trabajan '"
            ]
          },
          "execution_count": 5,
          "metadata": {},
          "output_type": "execute_result"
        }
      ],
      "source": [
        "limpiar('hoy 13 trabajan?')"
      ]
    },
    {
      "cell_type": "markdown",
      "metadata": {
        "id": "n3oL7mK4jnkX"
      },
      "source": [
        "Otros elementos que podríamos pensar en remover son caracteres invisibles, espacios redundantes. Veremos que esto en particular también puede ser resulto en la tokenización."
      ]
    },
    {
      "cell_type": "markdown",
      "metadata": {
        "id": "iNX4YunKjnkX"
      },
      "source": [
        "## Normalización\n",
        "\n",
        "Normalizar es la tarea de llevar lo que puede ser expresado de múltiples maneras como fechas, números y abreviaturas a una única forma. Por ejemplo\n",
        "\n",
        "     13/03/30 -> trece de marzo de dos mil treinta\n",
        "     DC -> departamento de computación\n",
        "\n",
        "Se trata de una práctica clásica de la época de los modelos de lenguaje probabilísticos, que intentaban reducir lo más posible la cantidad de palabras. En cierta forma 1 palabra = 1 atributo (lo que en los '90s conocimos como convertibilidad). Elegir atributos es ingeniería de atributos, la parte central del *machine learning*, y lo justamente lo que el *deep learning* busca automatizar.\n",
        "\n",
        "Sin embargo hay una normalización muy común hoy, el **convertir todo el texto a minúsculas**. En el caso del español, una normalización común es la **remoción de tildes**."
      ]
    },
    {
      "cell_type": "code",
      "execution_count": null,
      "metadata": {
        "id": "yvBdzXuLjnkX"
      },
      "outputs": [],
      "source": [
        "def normalizar(texto):\n",
        "    # todo a minúsculas\n",
        "    texto = texto.lower()\n",
        "\n",
        "    # tildes y diacríticas\n",
        "    texto = re.sub('á', 'a', texto)\n",
        "    texto = re.sub('é', 'e', texto)\n",
        "    texto = re.sub('í', 'i', texto)\n",
        "    texto = re.sub('ó', 'o', texto)\n",
        "    texto = re.sub('ú', 'u', texto)\n",
        "    texto = re.sub('ü', 'u', texto)\n",
        "    texto = re.sub('ñ', 'n', texto)\n",
        "\n",
        "    return texto"
      ]
    },
    {
      "cell_type": "code",
      "execution_count": null,
      "metadata": {
        "id": "pX8Hdt2HjnkX",
        "outputId": "20dd6b43-fd69-4a9b-d8c4-17f4d13a2f15"
      },
      "outputs": [
        {
          "data": {
            "text/plain": [
              "'me podran dar informacion de un prestamo personal'"
            ]
          },
          "execution_count": 7,
          "metadata": {},
          "output_type": "execute_result"
        }
      ],
      "source": [
        "normalizar('Me podrán dar información de un préstamo personal')"
      ]
    },
    {
      "cell_type": "markdown",
      "metadata": {
        "id": "sRMtMBQyjnkX"
      },
      "source": [
        "Hay una librería llamada [unidecode](https://pypi.org/project/Unidecode) que realiza transliteración: representa letras o palabras de un alfabeto en otro, útil si tenemos caracteres en ruso (cirílico) o chino (caracteres Han), aún útil para el alfabeto latino cuando queremos pasar de Unicode a ASCII (lo que substituiría las tildes).\n",
        "\n",
        "    pip install unidecode"
      ]
    },
    {
      "cell_type": "code",
      "execution_count": null,
      "metadata": {
        "id": "g8J0s_9ZjnkY",
        "outputId": "ae78e7cc-ca2a-481c-f8b6-8d6df78382eb"
      },
      "outputs": [
        {
          "data": {
            "text/plain": [
              "'Me podran dar informacion de un prestamo personal'"
            ]
          },
          "execution_count": 8,
          "metadata": {},
          "output_type": "execute_result"
        }
      ],
      "source": [
        "from unidecode import unidecode\n",
        "\n",
        "unidecode('Me podrán dar información de un préstamo personal')"
      ]
    },
    {
      "cell_type": "markdown",
      "metadata": {
        "id": "BK34X3VfjnkY"
      },
      "source": [
        "Una normalización que vale la pena intentar con este dataset es la **correción ortográfica** con un paquete como [pyspellchecker](https://pypi.org/project/pyspellchecker). Quizás con artículos de diarios en los que la redacción está más cuidada esto no valga la pena, pero en contextos más informales como este, conversaciones por char, Twitter, las palabras mal escritas en realidad refieren a una sola palabra y no a distintos significados."
      ]
    },
    {
      "cell_type": "markdown",
      "metadata": {
        "id": "5JzWzQCRjnkY"
      },
      "source": [
        "## Tokenización\n",
        "\n",
        "Tokenizar es separar el texto en partes más pequeñas llamadas tókenes. Una unidad muy común es la palabras pero depende de lo que queramos hacer, si es que no hemos eliminado a los signos de puntuación estos también serían tókenes. Las palabras frecuentemente están compuestas por una raíz, prefijo y/o sufijo, por lo que podríamos decidir separarlos también. En inglés es común separar `it's` en `it` y `'s`, si bien en español esta situación no es común.\n",
        "\n",
        "A diferencia de la limpieza y la normalización, la tokenización **es un paso indispesable** en la preparación de texto para su procesamiento.\n",
        "\n",
        "Para el dataset en cuestión la tokenización es simple, vamos a separar seǵun espacios y demás caracteres invisibles como `\\t` (tabulación) y `\\n` (salto de línea). De haber signos de puntuación, pro ejemplo si quisiéramos procesar un documento extenso en oraciones, el proceso es más complejo ya que `final.` tiene un punto en vez de un espacio, y no siempre los puntos demarcan el final de un tóken como en `A.M.` y `P.M.`."
      ]
    },
    {
      "cell_type": "markdown",
      "metadata": {
        "id": "EjHPEXGPjnkY"
      },
      "source": [
        "Debemos definir si elementos como los signos de puntuación son tókenes o si simplemente delimitan palabras o tókenes, en cuyo caso desaparecerían en el proceso. Mismo con los caracteres invisibles, si estuviésemos haciendo un modelo que programe en Python, la indentación es fundamental y deberiera mantenerse."
      ]
    },
    {
      "cell_type": "code",
      "execution_count": null,
      "metadata": {
        "id": "8MpBrCS8jnkY"
      },
      "outputs": [],
      "source": [
        "def tokenizar(texto):\n",
        "    # IMPORTANTE: podría devolver una lista vacía\n",
        "    return [tóken for tóken in texto.split()]"
      ]
    },
    {
      "cell_type": "markdown",
      "metadata": {
        "id": "MB_iZjVUjnkY"
      },
      "source": [
        "`split` también se encarga de los caracteres invisibles repetidos."
      ]
    },
    {
      "cell_type": "code",
      "execution_count": null,
      "metadata": {
        "id": "KtO004-qjnkZ",
        "outputId": "5630eac0-0d1b-4c66-aff4-12bc31fc2bcc"
      },
      "outputs": [
        {
          "data": {
            "text/plain": [
              "['hola', 'vengo', 'a', 'flotar']"
            ]
          },
          "execution_count": 10,
          "metadata": {},
          "output_type": "execute_result"
        }
      ],
      "source": [
        "tokenizar('hola vengo       a flotar')"
      ]
    },
    {
      "cell_type": "markdown",
      "metadata": {
        "id": "TpzHpLunjnkZ"
      },
      "source": [
        "Acá estamos cambiando el tipo de datos, ya que de un string hemos pasado a una lista de strings.\n",
        "\n",
        "Si la expresión dentro de la función no te resulta familiar, es una construcción llamada *list comprehension* y es una manera muy efectiva de armar una lista. Es lo mismo que hacer"
      ]
    },
    {
      "cell_type": "code",
      "execution_count": null,
      "metadata": {
        "id": "Dg1aL6ZqjnkZ",
        "outputId": "81ec1470-a0a0-439a-d0ca-1c43d157cf2d"
      },
      "outputs": [
        {
          "data": {
            "text/plain": [
              "[0, 1, 2, 3, 4, 5, 6, 7, 8, 9]"
            ]
          },
          "execution_count": 11,
          "metadata": {},
          "output_type": "execute_result"
        }
      ],
      "source": [
        "lista = []\n",
        "\n",
        "for i in range(10):\n",
        "    lista.append(i)\n",
        "\n",
        "lista"
      ]
    },
    {
      "cell_type": "markdown",
      "metadata": {
        "id": "MhF_fU3hjnkZ"
      },
      "source": [
        "pero de una manera más expresiva y también más eficiente (está optimizado por el lenguaje)"
      ]
    },
    {
      "cell_type": "code",
      "execution_count": null,
      "metadata": {
        "id": "zXUB46-OjnkZ",
        "outputId": "a92ea6ce-9541-4461-e8ea-5d05174f8d1f"
      },
      "outputs": [
        {
          "data": {
            "text/plain": [
              "[0, 1, 2, 3, 4, 5, 6, 7, 8, 9]"
            ]
          },
          "execution_count": 12,
          "metadata": {},
          "output_type": "execute_result"
        }
      ],
      "source": [
        "[i for i in range(10)]"
      ]
    },
    {
      "cell_type": "markdown",
      "metadata": {
        "id": "zFBc9SX2jnka"
      },
      "source": [
        "Varios modelos de lenguaje utilizan caracteres en vez de palabras como tókenes, esto es útil por varios motivos que listaremos más adelante. Otros utilizan partes de palabras como sílabas (las partes se determinan estadísticamente). Ver https://arxiv.org/pdf/1508.07909.pdf."
      ]
    },
    {
      "cell_type": "markdown",
      "metadata": {
        "id": "IIPRD5oEjnka"
      },
      "source": [
        "### Tokenización utilizando alguna librería\n",
        "\n",
        "    pip install spacy\n",
        "    python -m spacy download es_core_news_sm"
      ]
    },
    {
      "cell_type": "code",
      "execution_count": null,
      "metadata": {
        "id": "FhD_foR3jnka",
        "outputId": "ba4e10fd-b75c-4518-8177-89fdc55059b6"
      },
      "outputs": [
        {
          "name": "stdout",
          "output_type": "stream",
          "text": [
            "['Esto', 'es', 'una', 'frase', '.']\n"
          ]
        }
      ],
      "source": [
        "import spacy\n",
        "\n",
        "nlp = spacy.load('es_core_news_sm')\n",
        "\n",
        "doc = nlp('Esto es una frase.')\n",
        "\n",
        "print([tóken.text for tóken in doc])"
      ]
    },
    {
      "cell_type": "markdown",
      "metadata": {
        "id": "SZJx6xo9jnka"
      },
      "source": [
        "## Otros pre-procesos\n",
        "\n",
        "Clásicamente se aplicaban alguno de estos para reducir aún más la cantidad de palabras:\n",
        "\n",
        "#### *Stemming*\n",
        "\n",
        "*Stem*, de raíz, reduce la inflección de las palabras, mapeando un grupo de palabras a la misma raíz, sin importar si la raíz es una palabras válida en el lenguaje.\n",
        "\n",
        "     caminando, caminar, camino -> camin\n",
        "\n",
        "#### *Lemmatization*\n",
        "\n",
        "A diferencia del *stemming*, la lematización reduce las palabras inflexadas a palabras que pertenecen al lenguaje. La raíz pasa a llamarse *lema*."
      ]
    },
    {
      "cell_type": "markdown",
      "metadata": {
        "id": "3MdZzFa1jnka"
      },
      "source": [
        "## Primera parte del pre-procesamiento"
      ]
    },
    {
      "cell_type": "code",
      "execution_count": null,
      "metadata": {
        "id": "uz-BV8Jsjnka"
      },
      "outputs": [],
      "source": [
        "def preprocesar(texto):\n",
        "    texto = limpiar(texto)\n",
        "    texto = normalizar(texto)\n",
        "    texto = tokenizar(texto)\n",
        "\n",
        "    return texto"
      ]
    },
    {
      "cell_type": "markdown",
      "metadata": {
        "id": "yps9rGL5jnka"
      },
      "source": [
        "## Conjuntos de datos\n",
        "\n",
        "En la competencias normalmente encontramos dos archivos, el de entrenamiento y el de inferencia —que le suelen llamar de prueba y es el que tenemos que predecir para entregar—. Del que suelen llamar `train` también tenemos que obtener el de validación."
      ]
    },
    {
      "cell_type": "code",
      "execution_count": null,
      "metadata": {
        "id": "teWswC-Ojnkb"
      },
      "outputs": [],
      "source": [
        "infer_df = pd.read_csv('test.csv', sep=',')"
      ]
    },
    {
      "cell_type": "code",
      "execution_count": null,
      "metadata": {
        "id": "-xAxa2lnjnkb"
      },
      "outputs": [],
      "source": [
        "from sklearn.model_selection import train_test_split\n",
        "\n",
        "train_df, valid_df = train_test_split(df, test_size=.1, random_state=42)"
      ]
    },
    {
      "cell_type": "markdown",
      "metadata": {
        "id": "_QJc-c8Ljnkb"
      },
      "source": [
        "![](https://www.googleapis.com/download/storage/v1/b/kaggle-user-content/o/inbox%2F3061129%2Fc9ef73f33bf2b505d48be10211ffa47c%2FScikit.jfif?generation=1580787055399439&alt=media)"
      ]
    },
    {
      "cell_type": "markdown",
      "metadata": {
        "id": "_SMzWKUljnkb"
      },
      "source": [
        "Ahora estamos en condiciones de pre-procesar todo lo que tenemos:"
      ]
    },
    {
      "cell_type": "code",
      "execution_count": null,
      "metadata": {
        "id": "XaPE0Epxjnkf"
      },
      "outputs": [],
      "source": [
        "train_docs = [preprocesar(doc) for doc in train_df['Pregunta'].values]\n",
        "valid_docs = [preprocesar(doc) for doc in valid_df['Pregunta'].values]\n",
        "infer_docs = [preprocesar(doc) for doc in infer_df['Pregunta'].values]"
      ]
    },
    {
      "cell_type": "markdown",
      "metadata": {
        "id": "Mv6cHptvjnkf"
      },
      "source": [
        "Hemos pasado de una Series de Pandas, array de NumPy o una **lista de strings**"
      ]
    },
    {
      "cell_type": "code",
      "execution_count": null,
      "metadata": {
        "id": "DDUuP6Icjnkf",
        "outputId": "d30cc84b-5540-4cb7-a48b-6b296269d36d"
      },
      "outputs": [
        {
          "data": {
            "text/plain": [
              "array(['que se requiere para un préstamo personal?',\n",
              "       'me piden mi número de cuenta es mi cbu?',\n",
              "       'necesitar adherir aysa tarjeta',\n",
              "       'te financian igual un usado o un 0km?'], dtype=object)"
            ]
          },
          "execution_count": 17,
          "metadata": {},
          "output_type": "execute_result"
        }
      ],
      "source": [
        "train_df['Pregunta'].values[:4]"
      ]
    },
    {
      "cell_type": "markdown",
      "metadata": {
        "id": "u4mrCE2sjnkf"
      },
      "source": [
        "a una **lista de listas de strings**"
      ]
    },
    {
      "cell_type": "code",
      "execution_count": null,
      "metadata": {
        "id": "wu0mtPqcjnkf",
        "outputId": "fba21098-853c-49b2-94a5-8a0deeb795b2"
      },
      "outputs": [
        {
          "data": {
            "text/plain": [
              "[['que', 'se', 'requiere', 'para', 'un', 'prestamo', 'personal'],\n",
              " ['me', 'piden', 'mi', 'numero', 'de', 'cuenta', 'es', 'mi', 'cbu'],\n",
              " ['necesitar', 'adherir', 'aysa', 'tarjeta'],\n",
              " ['te', 'financian', 'igual', 'un', 'usado', 'o', 'un', 'km']]"
            ]
          },
          "execution_count": 18,
          "metadata": {},
          "output_type": "execute_result"
        }
      ],
      "source": [
        "train_docs[:4]"
      ]
    },
    {
      "cell_type": "markdown",
      "metadata": {
        "id": "A8t61qOEjnkf"
      },
      "source": [
        "Un poco de nomenclatura: estamos llamando corpus a la colección de textos. Nos referimos también a los textos como documentos. También estamos usando el término lote (*batch*) para referirnos a un (sub)conjunto de documentos."
      ]
    },
    {
      "cell_type": "markdown",
      "metadata": {
        "id": "qHkxTa0Ijnkf"
      },
      "source": [
        "## Vocabulario"
      ]
    },
    {
      "cell_type": "markdown",
      "metadata": {
        "id": "G4N8bJacjnkg"
      },
      "source": [
        "Este paso es importante. Aquí definimos y limitamos la tókenes que vamos a utilizar. El lenguaje es infinito, para convertirlo en un problema tratable muchas veces los que hacemos es reducirlo. Clave para varias prácticas de reducción es contar las frecuencias de los tókenes, esto es, cuántas veces aparece cada tóken en todo el corpus. Como mencionamos las palabras más frecuentes no aportan mucha información y las más infrecuentes si bien son las que más información tienen no llegarán a ser representativas para nuestro modelo. Descartar palabras poco frecuentes también afecta a errores ortográficos."
      ]
    },
    {
      "cell_type": "markdown",
      "metadata": {
        "id": "8jHzbQ_Yjnkg"
      },
      "source": [
        "Útil para este paso es la clase `Counter` de la librería estándar de Python."
      ]
    },
    {
      "cell_type": "code",
      "execution_count": null,
      "metadata": {
        "id": "VwwlcYPBjnkg",
        "outputId": "23ba3364-12c1-4018-f758-5c3ce5217586"
      },
      "outputs": [
        {
          "data": {
            "text/plain": [
              "[('a', 3), ('b', 2)]"
            ]
          },
          "execution_count": 19,
          "metadata": {},
          "output_type": "execute_result"
        }
      ],
      "source": [
        "from collections import Counter\n",
        "\n",
        "c = Counter(['a','b','c','a','b','a'])\n",
        "\n",
        "# obtener los dos elementos más comunes y sus frecuencias\n",
        "c.most_common(2)"
      ]
    },
    {
      "cell_type": "markdown",
      "metadata": {
        "id": "6jMfrgZajnkg"
      },
      "source": [
        "Una función de la librería estándar llamada `chain` nos dará una mano convirtiendo la lista de listas de tókenes en una lista de tókenes, similar a `numpy.flatten`, ya que `Counter` espera una lista con elementos a contar y nuestros tókenes están separados por documentos, hay que juntarlos."
      ]
    },
    {
      "cell_type": "code",
      "execution_count": null,
      "metadata": {
        "id": "vHlWtdY7jnkg",
        "outputId": "3b42965a-8467-49d7-baed-492794c89393"
      },
      "outputs": [
        {
          "data": {
            "text/plain": [
              "['a', 'b', 'c', 'c', 'd']"
            ]
          },
          "execution_count": 20,
          "metadata": {},
          "output_type": "execute_result"
        }
      ],
      "source": [
        "from itertools import chain\n",
        "\n",
        "list(chain(['a','b','c'], ['c','d']))"
      ]
    },
    {
      "cell_type": "markdown",
      "metadata": {
        "id": "pKqehH7ojnkg"
      },
      "source": [
        "`chain` encadena las listas que le pasamos como argumentos variables. Podemos usar el operador *splat* `*` para contentar a la función (convertir la lista principal en una serie de argumentos)."
      ]
    },
    {
      "cell_type": "code",
      "execution_count": null,
      "metadata": {
        "id": "Sf4ac_vrjnkg",
        "outputId": "7be15aa5-2b52-4baa-9d1b-4e203674814a"
      },
      "outputs": [
        {
          "data": {
            "text/plain": [
              "['a', 'b', 'c', 'c', 'd']"
            ]
          },
          "execution_count": 21,
          "metadata": {},
          "output_type": "execute_result"
        }
      ],
      "source": [
        "list(chain( *[ ['a','b','c'], ['c','d'] ] ))"
      ]
    },
    {
      "cell_type": "markdown",
      "metadata": {
        "id": "Eyn3oNl2jnkg"
      },
      "source": [
        "En vez de una lista podemos pedir un conjunto (`set`), en el que los elementos no se repiten. Este bien podría ser el vocabulario."
      ]
    },
    {
      "cell_type": "code",
      "execution_count": null,
      "metadata": {
        "id": "sseWNY5tjnkh",
        "outputId": "ce9794f5-aaf9-4388-927a-02405f8c9991"
      },
      "outputs": [
        {
          "data": {
            "text/plain": [
              "{'a', 'b', 'c', 'd'}"
            ]
          },
          "execution_count": 22,
          "metadata": {},
          "output_type": "execute_result"
        }
      ],
      "source": [
        "set(chain( *[ ['a','b','c'], ['c','d'] ] ))"
      ]
    },
    {
      "cell_type": "markdown",
      "metadata": {
        "id": "fslw4Rbajnkh"
      },
      "source": [
        "En definitiva, es la lista oficial de tókenes."
      ]
    },
    {
      "cell_type": "code",
      "execution_count": null,
      "metadata": {
        "id": "VSkSKn_wjnkh"
      },
      "outputs": [],
      "source": [
        "# versión 1\n",
        "class Vocab():\n",
        "    def fit(self, lote):\n",
        "        self.vocabulario = set(chain(*lote))\n",
        "\n",
        "        return self\n",
        "\n",
        "    def __len__(self):\n",
        "        return len(self.vocabulario)"
      ]
    },
    {
      "cell_type": "markdown",
      "metadata": {
        "id": "jyE-FEcpjnkh"
      },
      "source": [
        "Es importante generar el vocabulario con el dataset de entrenamiento, ya que como mencionamos se trata de la lista de palabras conocidas. Le agregamos un `__len__` porque también es útil conocer el tamaño del vocabulario."
      ]
    },
    {
      "cell_type": "code",
      "execution_count": null,
      "metadata": {
        "id": "cPCSCa1Fjnkh",
        "outputId": "0fafa988-4ce8-4e2a-a179-f084622cc689"
      },
      "outputs": [
        {
          "ename": "NameError",
          "evalue": "name 'train_docs' is not defined",
          "output_type": "error",
          "traceback": [
            "\u001b[0;31m---------------------------------------------------------------------------\u001b[0m",
            "\u001b[0;31mNameError\u001b[0m                                 Traceback (most recent call last)",
            "\u001b[0;32m<ipython-input-3-04b70b8e4c3d>\u001b[0m in \u001b[0;36m<module>\u001b[0;34m\u001b[0m\n\u001b[0;32m----> 1\u001b[0;31m \u001b[0mv\u001b[0m \u001b[0;34m=\u001b[0m \u001b[0mVocab\u001b[0m\u001b[0;34m(\u001b[0m\u001b[0;34m)\u001b[0m\u001b[0;34m.\u001b[0m\u001b[0mfit\u001b[0m\u001b[0;34m(\u001b[0m\u001b[0mtrain_docs\u001b[0m\u001b[0;34m)\u001b[0m\u001b[0;34m\u001b[0m\u001b[0;34m\u001b[0m\u001b[0m\n\u001b[0m\u001b[1;32m      2\u001b[0m \u001b[0mlen\u001b[0m\u001b[0;34m(\u001b[0m\u001b[0mv\u001b[0m\u001b[0;34m)\u001b[0m\u001b[0;34m\u001b[0m\u001b[0;34m\u001b[0m\u001b[0m\n",
            "\u001b[0;31mNameError\u001b[0m: name 'train_docs' is not defined"
          ]
        }
      ],
      "source": [
        "v = Vocab().fit(train_docs)\n",
        "len(v)"
      ]
    },
    {
      "cell_type": "markdown",
      "metadata": {
        "id": "N0ef-zW4jnkh"
      },
      "source": [
        "¿Qué pasa con las palabras que no están en la lista? Se las conoce como tókenen **fuera del vocabulario** (*out-of-vocabulary*, abreviado OOV). Estas requieren acciones especiales, podríamos\n",
        "* ignorarlas\n",
        "* reemplazarlas por un tóken especial\n",
        "* inferirlas (ver más adelante, embeddings)"
      ]
    },
    {
      "cell_type": "code",
      "execution_count": null,
      "metadata": {
        "id": "8j7r2ZIwjnki"
      },
      "outputs": [],
      "source": [
        "# versión 1.1\n",
        "class Vocab():\n",
        "    def __init__(self, tóken_desconocido='<unk>'):\n",
        "        self.tóken_desconocido = tóken_desconocido\n",
        "\n",
        "    def fit(self, lote):\n",
        "        self.vocabulario = list(set(chain(*lote)))\n",
        "\n",
        "        if self.tóken_desconocido:\n",
        "            self.vocabulario.append(self.tóken_desconocido)\n",
        "\n",
        "        return self\n",
        "\n",
        "    def transform(self, lote):\n",
        "        if self.tóken_desconocido: # reemplazar\n",
        "            return [[tóken if tóken in self.vocabulario else self.tóken_desconocido for tóken in doc] for doc in lote]\n",
        "        else: # ignorar\n",
        "            return [[tóken for tóken in doc if tóken in self.vocabulario] for doc in lote]\n",
        "\n",
        "    def __len__(self):\n",
        "        return len(self.vocabulario)"
      ]
    },
    {
      "cell_type": "code",
      "execution_count": null,
      "metadata": {
        "id": "2NSJjF-Tjnki",
        "outputId": "8706f9e4-5b4e-4c3c-b6e9-e961549a4a23"
      },
      "outputs": [
        {
          "data": {
            "text/plain": [
              "[['poder', 'gestionar', 'clave', 'paso', 'pagina'],\n",
              " ['desde', 'cuando', '<unk>', 'con', 'el', 'programa', 'de', 'millas']]"
            ]
          },
          "execution_count": 26,
          "metadata": {},
          "output_type": "execute_result"
        }
      ],
      "source": [
        "Vocab().fit(train_docs).transform([\n",
        "    ['poder', 'gestionar', 'clave', 'paso', 'pagina'],\n",
        "    ['desde', 'cuando', 'arranco', 'con', 'el', 'programa', 'de', 'millas'],\n",
        "])"
      ]
    },
    {
      "cell_type": "markdown",
      "metadata": {
        "id": "1H_t6LxWjnki"
      },
      "source": [
        "## Numericalización\n",
        "\n",
        "También conocido como indexación. Así como a las unidades mínimas que consideramos las llamamos tókenes, a los números que los representan los llamamos **índices**. Ya que el vocabulario tiene la lista de tókenes, le vamos a pedir una responsabilidad adicional: que mantenga una asignación entre tókenes y números enteros. Posiblemente ya te ha sucedido pasarle valores no númericos a un estimador y ver cómo falla."
      ]
    },
    {
      "cell_type": "code",
      "execution_count": null,
      "metadata": {
        "id": "mQbug08vjnki",
        "outputId": "c45ef0a7-12d1-44d5-8b62-a70db4208562"
      },
      "outputs": [
        {
          "data": {
            "text/plain": [
              "{'a': 0, 'b': 1, 'c': 2, 'd': 3, '<unk>': 4}"
            ]
          },
          "execution_count": 27,
          "metadata": {},
          "output_type": "execute_result"
        }
      ],
      "source": [
        "vocabulario = ['a','b','c','d','<unk>']\n",
        "\n",
        "{tóken: índice for índice, tóken in enumerate(vocabulario)}"
      ]
    },
    {
      "cell_type": "markdown",
      "metadata": {
        "id": "Hwewhs-Ejnki"
      },
      "source": [
        "que es lo mismo que"
      ]
    },
    {
      "cell_type": "code",
      "execution_count": null,
      "metadata": {
        "id": "Ceu3oNSqjnki",
        "outputId": "a7760c66-4ea2-44c7-e2d7-8bd850a61d4e"
      },
      "outputs": [
        {
          "data": {
            "text/plain": [
              "{'a': 0, 'b': 1, 'c': 2, 'd': 3, '<unk>': 4}"
            ]
          },
          "execution_count": 28,
          "metadata": {},
          "output_type": "execute_result"
        }
      ],
      "source": [
        "mapeo = {}\n",
        "\n",
        "for índice, tóken in enumerate(vocabulario):\n",
        "    mapeo[tóken] = índice\n",
        "\n",
        "mapeo"
      ]
    },
    {
      "cell_type": "markdown",
      "metadata": {
        "id": "Bw8Go4Y0jnki"
      },
      "source": [
        "¿Qué es lo que hace `enumerate`? Como su nombre lo indica, enumera los elementos de una colección."
      ]
    },
    {
      "cell_type": "code",
      "execution_count": null,
      "metadata": {
        "id": "kLZkA2Zyjnki",
        "outputId": "0c941a9b-419d-4253-d28b-13e25f538086"
      },
      "outputs": [
        {
          "data": {
            "text/plain": [
              "[(0, 'a'), (1, 'b'), (2, 'c'), (3, 'd'), (4, '<unk>')]"
            ]
          },
          "execution_count": 29,
          "metadata": {},
          "output_type": "execute_result"
        }
      ],
      "source": [
        "list(enumerate(vocabulario))"
      ]
    },
    {
      "cell_type": "code",
      "execution_count": null,
      "metadata": {
        "id": "2WXB3-Iijnkj"
      },
      "outputs": [],
      "source": [
        "# versión 2\n",
        "class Vocab():\n",
        "    def __init__(self, tóken_desconocido='<unk>'):\n",
        "        self.tóken_desconocido = tóken_desconocido\n",
        "\n",
        "    def fit(self, lote):\n",
        "        vocabulario = list(set(chain(*lote)))\n",
        "\n",
        "        if self.tóken_desconocido:\n",
        "            vocabulario.append(self.tóken_desconocido)\n",
        "\n",
        "        self.mapeo = {tóken: índice for índice, tóken in enumerate(vocabulario)}\n",
        "\n",
        "        return self\n",
        "\n",
        "    def transform(self, lote):\n",
        "        if self.tóken_desconocido: # reemplazar\n",
        "            return [[tóken if tóken in self.mapeo else self.tóken_desconocido for tóken in doc] for doc in lote]\n",
        "        else: # ignorar\n",
        "            return [[tóken for tóken in doc if tóken in self.mapeo] for doc in lote]\n",
        "\n",
        "    def __len__(self):\n",
        "        return len(self.mapeo)"
      ]
    },
    {
      "cell_type": "markdown",
      "metadata": {
        "id": "NkEm7X5Djnkj"
      },
      "source": [
        "Comprobemos que la nueva versión de `Vocab` funciona como la anterior. Además veamos qué sucedo cuando no queremos el tóken para palabras fuera de vocabulario."
      ]
    },
    {
      "cell_type": "code",
      "execution_count": null,
      "metadata": {
        "id": "H6Zfl58tjnkj",
        "outputId": "3efed104-33e6-4b58-8b8f-f0eb88408660"
      },
      "outputs": [
        {
          "data": {
            "text/plain": [
              "[['poder', 'gestionar', 'clave', 'paso', 'pagina'],\n",
              " ['desde', 'cuando', 'con', 'el', 'programa', 'de', 'millas']]"
            ]
          },
          "execution_count": 31,
          "metadata": {},
          "output_type": "execute_result"
        }
      ],
      "source": [
        "Vocab(tóken_desconocido=None).fit(train_docs).transform([\n",
        "    ['poder', 'gestionar', 'clave', 'paso', 'pagina'],\n",
        "    ['desde', 'cuando', 'arranco', 'con', 'el', 'programa', 'de', 'millas'],\n",
        "])"
      ]
    },
    {
      "cell_type": "markdown",
      "metadata": {
        "id": "bqCc70fDjnkj"
      },
      "source": [
        "Ahora vamos a agregar métodos para convertir tókenes a índices y viceversa."
      ]
    },
    {
      "cell_type": "code",
      "execution_count": null,
      "metadata": {
        "id": "zAYiYc3rjnkj"
      },
      "outputs": [],
      "source": [
        "# versión 2.1\n",
        "class Vocab():\n",
        "    def __init__(self, tóken_desconocido='<unk>'):\n",
        "        self.tóken_desconocido = tóken_desconocido\n",
        "\n",
        "    def fit(self, lote):\n",
        "        # agregamos `sorted` porque el orden al aplicar `set` no está asegurado\n",
        "        vocabulario = list(sorted(set(chain(*lote))))\n",
        "\n",
        "        if self.tóken_desconocido:\n",
        "            vocabulario.append(self.tóken_desconocido)\n",
        "\n",
        "        self.mapeo = {tóken: índice for índice, tóken in enumerate(vocabulario)}\n",
        "\n",
        "        return self\n",
        "\n",
        "    def transform(self, lote):\n",
        "        if self.tóken_desconocido: # reemplazar\n",
        "            return [[tóken if tóken in self.mapeo else self.tóken_desconocido for tóken in doc] for doc in lote]\n",
        "        else: # ignorar\n",
        "            return [[tóken for tóken in doc if tóken in self.mapeo] for doc in lote]\n",
        "\n",
        "    def tókenes_a_índices(self, lote):\n",
        "        lote = self.transform(lote)\n",
        "\n",
        "        return [[self.mapeo[tóken] for tóken in doc] for doc in lote]\n",
        "\n",
        "    def índices_a_tókenes(self, lote):\n",
        "        mapeo_inverso = list(self.mapeo.keys())\n",
        "\n",
        "        return [[mapeo_inverso[índice] for índice in doc] for doc in lote]\n",
        "\n",
        "    def __len__(self):\n",
        "        return len(self.mapeo)"
      ]
    },
    {
      "cell_type": "code",
      "execution_count": null,
      "metadata": {
        "id": "Z-WDjN5Njnkj",
        "outputId": "8475f39f-bb7d-4775-a872-1f252bc203cb"
      },
      "outputs": [
        {
          "data": {
            "text/plain": [
              "[[4160, 4683, 4484, 3703, 5294, 4011, 3825],\n",
              " [3275, 3854, 3319, 3554, 1532, 1462, 2151, 3319, 950]]"
            ]
          },
          "execution_count": 36,
          "metadata": {},
          "output_type": "execute_result"
        }
      ],
      "source": [
        "v = Vocab(tóken_desconocido=None).fit(train_docs)\n",
        "\n",
        "v.tókenes_a_índices([\n",
        "    ['que', 'se', 'requiere', 'para', 'un', 'prestamo', 'personal'],\n",
        "    ['me', 'piden', 'mi', 'numero', 'de', 'cuenta', 'es', 'mi', 'cbu'],\n",
        "])"
      ]
    },
    {
      "cell_type": "code",
      "execution_count": null,
      "metadata": {
        "id": "2KuqLuXtjnkk",
        "outputId": "b2669d9e-c40b-435c-b873-f6e9e6fe6283"
      },
      "outputs": [
        {
          "data": {
            "text/plain": [
              "[['que', 'se', 'requiere', 'para', 'un', 'prestamo', 'personal'],\n",
              " ['me', 'piden', 'mi', 'numero', 'de', 'cuenta', 'es', 'mi', 'cbu']]"
            ]
          },
          "execution_count": 37,
          "metadata": {},
          "output_type": "execute_result"
        }
      ],
      "source": [
        "v.índices_a_tókenes([\n",
        "    [4160, 4683, 4484, 3703, 5294, 4011, 3825],\n",
        "    [3275, 3854, 3319, 3554, 1532, 1462, 2151, 3319, 950],\n",
        "])"
      ]
    },
    {
      "cell_type": "markdown",
      "metadata": {
        "id": "7jUN_Htnjnkk"
      },
      "source": [
        "## Casos especiales"
      ]
    },
    {
      "cell_type": "markdown",
      "metadata": {
        "id": "zKZlM1yujnkk"
      },
      "source": [
        "¿Qué sucede con los documentos que al ser tokenizados regresan vacíos? ¿O con documentos compuestos enteramente por palabras fuera del vocabulario?"
      ]
    },
    {
      "cell_type": "code",
      "execution_count": null,
      "metadata": {
        "id": "2TVibwMmjnkk",
        "outputId": "26a50b06-fec8-478e-8160-e5f29c0b42f2"
      },
      "outputs": [
        {
          "data": {
            "text/plain": [
              "[[], ['banks', 'charge', 'high', 'fees', 'for', 'foreign', 'atm']]"
            ]
          },
          "execution_count": 38,
          "metadata": {},
          "output_type": "execute_result"
        }
      ],
      "source": [
        "documentos_problemáticos = [\n",
        "    '??? ???',\n",
        "    'Banks charge high fees for foreign ATM'\n",
        "]\n",
        "\n",
        "[preprocesar(doc) for doc in documentos_problemáticos]"
      ]
    },
    {
      "cell_type": "code",
      "execution_count": null,
      "metadata": {
        "id": "MY8jBs12jnkk",
        "outputId": "21863447-848a-4030-8684-0a3aa5807645"
      },
      "outputs": [
        {
          "data": {
            "text/plain": [
              "[[], ['<unk>', '<unk>', '<unk>', '<unk>', '<unk>', '<unk>']]"
            ]
          },
          "execution_count": 39,
          "metadata": {},
          "output_type": "execute_result"
        }
      ],
      "source": [
        "v = Vocab().fit(train_docs)\n",
        "\n",
        "v.transform([[], ['banks', 'charge', 'high', 'fees', 'for', 'foreign']])"
      ]
    },
    {
      "cell_type": "code",
      "execution_count": null,
      "metadata": {
        "id": "V5WuWKSVjnkk",
        "outputId": "0674d939-124c-4ab4-acd3-e520085c3b98"
      },
      "outputs": [
        {
          "data": {
            "text/plain": [
              "[[], [5583, 5583, 5583, 5583, 5583, 5583]]"
            ]
          },
          "execution_count": 40,
          "metadata": {},
          "output_type": "execute_result"
        }
      ],
      "source": [
        "v.tókenes_a_índices([[], ['banks', 'charge', 'high', 'fees', 'for', 'foreign']])"
      ]
    },
    {
      "cell_type": "code",
      "execution_count": null,
      "metadata": {
        "id": "u0IdsbGRjnkk",
        "outputId": "98d0d9df-4d04-4a6d-b718-9140949c142b"
      },
      "outputs": [
        {
          "data": {
            "text/plain": [
              "[[], ['<unk>', '<unk>', '<unk>', '<unk>', '<unk>', '<unk>']]"
            ]
          },
          "execution_count": 41,
          "metadata": {},
          "output_type": "execute_result"
        }
      ],
      "source": [
        "v.índices_a_tókenes([[], [5583, 5583, 5583, 5583, 5583, 5583]])"
      ]
    },
    {
      "cell_type": "markdown",
      "metadata": {
        "id": "gPLg9-mqjnkl"
      },
      "source": [
        "La conclusión es que [no pasa nada](https://www.youtube.com/watch?v=UiZWxx1i6iA) (al menos por ahora)."
      ]
    },
    {
      "cell_type": "markdown",
      "metadata": {
        "id": "bN1BpyqOjnkl"
      },
      "source": [
        "## Bonus: reducción del vocabulario\n",
        "\n",
        "La idea es limitar los tókenes que vamos a utilizar. En cierta forma cada tóken es un atributo (*feature*) y quisiéramos proveer atributos que sean de utilidad para el estimador.\n",
        "\n",
        "El lenguaje es infinito, para convertirlo en un problema tratable muchas veces los que hacemos es reducirlo. Clave para varias prácticas de reducción es contar las frecuencias de los tókenes, esto es, cuántas veces aparece cada tóken en todo el corpus. Como mencionamos las palabras más frecuentes no aportan mucha información y las más infrecuentes si bien son las que más información tienen no llegarán a ser representativas para nuestro modelo. Descartar palabras poco frecuentes también afecta a errores ortográficos."
      ]
    },
    {
      "cell_type": "markdown",
      "metadata": {
        "id": "AZCvRAlqjnkl"
      },
      "source": [
        "Útil para este paso es la clase `Counter` de la librería estándar de Python."
      ]
    },
    {
      "cell_type": "code",
      "execution_count": null,
      "metadata": {
        "id": "c1EnDgpwjnkl",
        "outputId": "2cc6392b-2509-4ccd-c301-1c0fb908f3d0"
      },
      "outputs": [
        {
          "data": {
            "text/plain": [
              "[('a', 3), ('b', 2), ('c', 1)]"
            ]
          },
          "execution_count": 42,
          "metadata": {},
          "output_type": "execute_result"
        }
      ],
      "source": [
        "from collections import Counter\n",
        "\n",
        "c = Counter(['a','b','c','a','b','a'])\n",
        "\n",
        "# obtener los elementos ordenados de más comunes a menos\n",
        "c.most_common()"
      ]
    },
    {
      "cell_type": "markdown",
      "metadata": {
        "id": "6PNTEUqwjnkl"
      },
      "source": [
        "Acerca de contar palabras, no te pierdas la [ley de Zipf](https://nbviewer.jupyter.org/url/norvig.com/ipython/How%20to%20Do%20Things%20with%20Words.ipynb#(2)-Models:-Bag-of-Words)."
      ]
    },
    {
      "cell_type": "markdown",
      "metadata": {
        "id": "RIOAzHsIjnkl"
      },
      "source": [
        "### Más comunes\n",
        "\n",
        "Una estrategia simple es ordenar a los tókenes según frecuencia y poner un límite duro al vocabulario, de modo de quedarnos con los `límite` más comunes."
      ]
    },
    {
      "cell_type": "code",
      "execution_count": null,
      "metadata": {
        "id": "5Y6CpNi_jnkl",
        "outputId": "2b6a9d88-602d-4eb2-a80a-83338f6117cb"
      },
      "outputs": [
        {
          "data": {
            "text/plain": [
              "['a', 'b']"
            ]
          },
          "execution_count": 43,
          "metadata": {},
          "output_type": "execute_result"
        }
      ],
      "source": [
        "límite = 2\n",
        "\n",
        "vocabulario = list(c)[:límite]\n",
        "vocabulario"
      ]
    },
    {
      "cell_type": "markdown",
      "metadata": {
        "id": "3T7mO74Djnkm"
      },
      "source": [
        "### Por frecuencia de tóken\n",
        "\n",
        "Podríamos descartar los que aparecen\n",
        "* más de `máximo` veces,\n",
        "* menos de `mínimo` veces."
      ]
    },
    {
      "cell_type": "code",
      "execution_count": null,
      "metadata": {
        "id": "j2L1F9_Zjnkm",
        "outputId": "d5a0967c-ecb7-48a7-c056-9a20e9ffbc7e"
      },
      "outputs": [
        {
          "data": {
            "text/plain": [
              "['a', 'b']"
            ]
          },
          "execution_count": 44,
          "metadata": {},
          "output_type": "execute_result"
        }
      ],
      "source": [
        "máximo = 3\n",
        "mínimo = 2\n",
        "\n",
        "vocabulario = [tóken for tóken, frecuencia in c.most_common() if máximo >= frecuencia >= mínimo]\n",
        "vocabulario"
      ]
    },
    {
      "cell_type": "markdown",
      "metadata": {
        "id": "b8Ei1_H2jnkm"
      },
      "source": [
        "### Por frecuencia de documento\n",
        "\n",
        "O bien, en vez de contar las apariciones absolutas, contar en cuántos documentos aparece cada tóken. Un tóken que aparezca en todos los documentos no colaboraría en una tarea de clasificación, a distinguir documentos pero uno que aparezca en la mitad de los documentos podría ser útil para separarlos en dos grupos."
      ]
    },
    {
      "cell_type": "code",
      "execution_count": null,
      "metadata": {
        "id": "H-8fHqyXjnkm",
        "outputId": "1d52b932-28d9-41cf-f117-05c0923f243e"
      },
      "outputs": [
        {
          "data": {
            "text/plain": [
              "[('hola', 2), ('buen', 1), ('día', 1), ('tardes', 1), ('buenas', 1)]"
            ]
          },
          "execution_count": 45,
          "metadata": {},
          "output_type": "execute_result"
        }
      ],
      "source": [
        "c = Counter()\n",
        "\n",
        "lote = [\n",
        "    ['hola', 'buen', 'día'],\n",
        "    ['hola', 'buenas', 'tardes'],\n",
        "]\n",
        "\n",
        "for doc in lote:\n",
        "    c.update(set(doc))\n",
        "\n",
        "c.most_common()"
      ]
    },
    {
      "cell_type": "markdown",
      "metadata": {
        "id": "9ZpfCY74jnkm"
      },
      "source": [
        "Vamos a normalizar la frecuencias por la cantidad total de documentos ($D$) y de manera similar al punto anterior podríamos descartar los elementos que aparecen en:\n",
        "* más del `máximo` proporción de los documentos.\n",
        "* menos del `mínimo` proporción de los documentos."
      ]
    },
    {
      "cell_type": "code",
      "execution_count": null,
      "metadata": {
        "id": "953k7KX1jnkm",
        "outputId": "33ef06e6-9701-4526-bb6b-8f0d2379368c"
      },
      "outputs": [
        {
          "data": {
            "text/plain": [
              "['buen', 'día', 'tardes', 'buenas']"
            ]
          },
          "execution_count": 46,
          "metadata": {},
          "output_type": "execute_result"
        }
      ],
      "source": [
        "D = len(lote)\n",
        "\n",
        "máximo = .9\n",
        "mínimo = .1\n",
        "\n",
        "vocabulario = [tóken for tóken, frecuencia in c.most_common() if máximo >= frecuencia/D >= mínimo]\n",
        "vocabulario"
      ]
    },
    {
      "cell_type": "markdown",
      "metadata": {
        "id": "5jSgHuU5jnkm"
      },
      "source": [
        "### *Stop words*\n",
        "\n",
        "Hay listas armadas de palabras muy comunes (*stop words*). Podemos elaborarla de alguna manera o usar alguna existente.\n",
        "\n",
        "    pip install nltk"
      ]
    },
    {
      "cell_type": "code",
      "execution_count": null,
      "metadata": {
        "id": "XarEu9Ewjnkm",
        "outputId": "91cdee1a-8793-4ce9-aea4-739a7e35eec8"
      },
      "outputs": [
        {
          "name": "stderr",
          "output_type": "stream",
          "text": [
            "[nltk_data] Downloading package stopwords to /home/matias/nltk_data...\n",
            "[nltk_data]   Package stopwords is already up-to-date!\n"
          ]
        },
        {
          "data": {
            "text/plain": [
              "['de', 'la', 'que', 'el', 'en', 'y', 'a', 'los', 'del', 'se']"
            ]
          },
          "execution_count": 47,
          "metadata": {},
          "output_type": "execute_result"
        }
      ],
      "source": [
        "import nltk\n",
        "nltk.download('stopwords')\n",
        "\n",
        "from nltk.corpus import stopwords\n",
        "\n",
        "stopwords.words('spanish')[:10]"
      ]
    },
    {
      "cell_type": "markdown",
      "metadata": {
        "id": "6l-amxwDjnkm"
      },
      "source": [
        "Un detalle a cuidar es que la tokenización usada para la lista de *stop words* tiene que haber sido la misma o similar que la usada para los documentos."
      ]
    },
    {
      "cell_type": "code",
      "execution_count": null,
      "metadata": {
        "id": "YvZKuQJejnkn",
        "outputId": "69410c96-ee42-4842-da1b-e3ccd644fc9c"
      },
      "outputs": [
        {
          "data": {
            "text/plain": [
              "[['requiere', 'prestamo', 'personal'], ['piden', 'numero', 'cuenta', 'cbu']]"
            ]
          },
          "execution_count": 48,
          "metadata": {},
          "output_type": "execute_result"
        }
      ],
      "source": [
        "def filtrar_stop_words(lote):\n",
        "    return [[tóken for tóken in doc if tóken not in stopwords.words('spanish')] for doc in lote]\n",
        "\n",
        "filtrar_stop_words([\n",
        "    ['que', 'se', 'requiere', 'para', 'un', 'prestamo', 'personal'],\n",
        "    ['me', 'piden', 'mi', 'numero', 'de', 'cuenta', 'es', 'mi', 'cbu'],\n",
        "])"
      ]
    },
    {
      "cell_type": "markdown",
      "metadata": {
        "id": "tCwaHL1tjnkn"
      },
      "source": [
        "### Por longitud\n",
        "\n",
        "Esta técnica no requiere contar la frecuencia de los tókenes, simplemente filtramos tókenes muy cortos o muy largos ya que en general son ruidos."
      ]
    },
    {
      "cell_type": "code",
      "execution_count": null,
      "metadata": {
        "id": "DjfqG_rijnkn",
        "outputId": "994011f0-b4e5-47e5-fa93-4a5485ab52fd"
      },
      "outputs": [
        {
          "data": {
            "text/plain": [
              "[['que', 'requiere', 'para', 'prestamo', 'personal'],\n",
              " ['piden', 'numero', 'cuenta', 'cbu']]"
            ]
          },
          "execution_count": 49,
          "metadata": {},
          "output_type": "execute_result"
        }
      ],
      "source": [
        "def filtrar_por_longitud(lote, máxima, mínima):\n",
        "    return [[tóken for tóken in doc if máxima >= len(tóken) >= mínima] for doc in lote]\n",
        "\n",
        "filtrar_por_longitud([\n",
        "    ['que', 'se', 'requiere', 'para', 'un', 'prestamo', 'personal'],\n",
        "    ['me', 'piden', 'mi', 'numero', 'de', 'cuenta', 'es', 'mi', 'cbu'],\n",
        "], máxima=9, mínima=3)"
      ]
    },
    {
      "cell_type": "markdown",
      "metadata": {
        "id": "uIpnN2s6jnkn"
      },
      "source": [
        "### Implementación\n",
        "\n",
        "Veamos cómo acomodamos lo que hemos visto ahora en la clase `Vocab`."
      ]
    },
    {
      "cell_type": "code",
      "execution_count": null,
      "metadata": {
        "id": "FwxyxzyYjnkn"
      },
      "outputs": [],
      "source": [
        "# versión 3\n",
        "import numpy as np\n",
        "from itertools import chain\n",
        "from collections import Counter\n",
        "\n",
        "class Vocab():\n",
        "    def __init__(self, tóken_desconocido='<unk>', frecuencia_mínima=0.0, frecuencia_máxima=1.0,\n",
        "                 longitud_mínima=1, longitud_máxima=np.inf, stop_words=[], límite_vocabulario=None):\n",
        "\n",
        "        self.tóken_desconocido = tóken_desconocido\n",
        "        self.frecuencia_mínima = frecuencia_mínima\n",
        "        self.frecuencia_máxima = frecuencia_máxima\n",
        "        self.longitud_mínima = longitud_mínima\n",
        "        self.longitud_máxima = longitud_máxima\n",
        "        self.stop_words = stop_words\n",
        "        self.límite_vocabulario = límite_vocabulario\n",
        "\n",
        "    def reducir_vocabulario(self, lote):\n",
        "        contador_absoluto = Counter(chain(*lote))\n",
        "\n",
        "        contador_documentos = Counter()\n",
        "\n",
        "        for doc in lote:\n",
        "            contador_documentos.update(set(doc))\n",
        "\n",
        "        # frecuencia mínima\n",
        "        if isinstance(self.frecuencia_mínima, int): # frecuencia de tóken\n",
        "            vocabulario_mín = [tóken for tóken, frecuencia in contador_absoluto.most_common() if frecuencia >= self.frecuencia_mínima]\n",
        "        else: # frecuencia de documento\n",
        "            vocabulario_mín = [tóken for tóken, frecuencia in contador_documentos.most_common() if frecuencia/len(lote) >= self.frecuencia_mínima]\n",
        "\n",
        "        # frecuencia máxima\n",
        "        if isinstance(self.frecuencia_máxima, int): # frecuencia de tóken\n",
        "            vocabulario_máx = [tóken for tóken, frecuencia in contador_absoluto.most_common() if self.frecuencia_máxima >= frecuencia]\n",
        "        else: # frecuencia de documento\n",
        "            vocabulario_máx = [tóken for tóken, frecuencia in contador_documentos.most_common() if self.frecuencia_máxima >= frecuencia/len(lote)]\n",
        "\n",
        "        # intersección de vocabulario_mín y vocabulario_máx preservando el órden\n",
        "        vocabulario = [tóken for tóken in vocabulario_mín if tóken in vocabulario_máx]\n",
        "\n",
        "        # longitud\n",
        "        vocabulario = [tóken for tóken in vocabulario if self.longitud_máxima >= len(tóken) >= self.longitud_mínima]\n",
        "\n",
        "        # stop words\n",
        "        vocabulario = [tóken for tóken in vocabulario if tóken not in self.stop_words]\n",
        "\n",
        "        # límite\n",
        "        vocabulario = vocabulario[:self.límite_vocabulario]\n",
        "\n",
        "        return vocabulario\n",
        "\n",
        "    def fit(self, lote):\n",
        "        vocabulario = self.reducir_vocabulario(lote)\n",
        "\n",
        "        if self.tóken_desconocido:\n",
        "            vocabulario.append(self.tóken_desconocido)\n",
        "\n",
        "        self.mapeo = {tóken: índice for índice, tóken in enumerate(vocabulario)}\n",
        "\n",
        "        return self\n",
        "\n",
        "    def transform(self, lote):\n",
        "        if self.tóken_desconocido: # reemplazar\n",
        "            return [[tóken if tóken in self.mapeo else self.tóken_desconocido for tóken in doc] for doc in lote]\n",
        "        else: # ignorar\n",
        "            return [[tóken for tóken in doc if tóken in self.mapeo] for doc in lote]\n",
        "\n",
        "    def tókenes_a_índices(self, lote):\n",
        "        lote = self.transform(lote)\n",
        "\n",
        "        return [[self.mapeo[tóken] for tóken in doc] for doc in lote]\n",
        "\n",
        "    def índices_a_tókenes(self, lote):\n",
        "        mapeo_inverso = list(self.mapeo.keys())\n",
        "\n",
        "        return [[mapeo_inverso[índice] for índice in doc] for doc in lote]\n",
        "\n",
        "    def __len__(self):\n",
        "        return len(self.mapeo)"
      ]
    },
    {
      "cell_type": "code",
      "execution_count": null,
      "metadata": {
        "id": "mzPAmwzJjnkn",
        "outputId": "74156293-3b3f-4234-ff9d-af1dfb3c96d4"
      },
      "outputs": [
        {
          "data": {
            "text/plain": [
              "[['poder', 'gestionar', 'clave', 'paso', 'pagina'],\n",
              " ['desde', 'cuando', '<unk>', 'con', '<unk>', 'programa', '<unk>', 'millas']]"
            ]
          },
          "execution_count": 55,
          "metadata": {},
          "output_type": "execute_result"
        }
      ],
      "source": [
        "Vocab(longitud_mínima=3).fit(train_docs).transform([\n",
        "    ['poder', 'gestionar', 'clave', 'paso', 'pagina'],\n",
        "    ['desde', 'cuando', 'arranco', 'con', 'el', 'programa', 'de', 'millas'],\n",
        "])"
      ]
    },
    {
      "cell_type": "markdown",
      "metadata": {
        "id": "TYoeekqKjnko"
      },
      "source": [
        "## El pre-procesamiento hasta ahora"
      ]
    },
    {
      "cell_type": "code",
      "execution_count": null,
      "metadata": {
        "id": "OXcLTpr1jnko"
      },
      "outputs": [],
      "source": [
        "v = Vocab().fit(train_docs)\n",
        "\n",
        "train_índices = v.tókenes_a_índices(train_docs)\n",
        "valid_índices = v.tókenes_a_índices(valid_docs)\n",
        "infer_índices = v.tókenes_a_índices(infer_docs)"
      ]
    },
    {
      "cell_type": "markdown",
      "metadata": {
        "id": "P3_OZyghjnko"
      },
      "source": [
        "Con esto concluye la primera parte. Hay varias librerías que tienen clases que se encargan de efectuar los pasos que hemos visto. Tienen un comportamiento por defecto, que es configurable (los parámetros que hemos visto) y a su vez, personalizable, para reemplazar algunos o todos los pasos por código propio. En general son librerías desarrolladas por angloparlantes, funcionan *out-of-the-box* bien para el inglés; cuando queremos procesar texto en español vale la pena tener más control sobre estos procesos.\n",
        "\n",
        "* [CountVectorizer](https://scikit-learn.org/stable/modules/generated/sklearn.feature_extraction.text.CountVectorizer.html) de scikit-learn.\n",
        "* [TextDataBunch](https://docs.fast.ai/text.data.html#TextDataBunch.from_df) de fast.ai."
      ]
    },
    {
      "cell_type": "markdown",
      "metadata": {
        "id": "l9gQW16xjnko"
      },
      "source": [
        "## Pre-procesando las etiquetas"
      ]
    },
    {
      "cell_type": "markdown",
      "metadata": {
        "id": "UouZnnMAjnko"
      },
      "source": [
        "Las etiquetas del dataset también necesitan ser convertidas a números enteros consecutivos. No lo pensamos para este fin pero `Vocab` sería útil en este aspecto. El único tema es que `Vocab.fit` y demás métodos esperan listas de listas de tókenes y a las etiquetas las encontramos en forma de listas de tókenes simplemente."
      ]
    },
    {
      "cell_type": "code",
      "execution_count": null,
      "metadata": {
        "id": "0pD2N3VBjnko",
        "outputId": "26c60ecb-4706-4d6a-a1c0-6611f89f92db"
      },
      "outputs": [
        {
          "data": {
            "text/plain": [
              "array(['Cat_248', 'Cat_42', 'Cat_132', ..., 'Cat_293', 'Cat_138',\n",
              "       'Cat_219'], dtype=object)"
            ]
          },
          "execution_count": 80,
          "metadata": {},
          "output_type": "execute_result"
        }
      ],
      "source": [
        "train_df['Intencion'].values"
      ]
    },
    {
      "cell_type": "markdown",
      "metadata": {
        "id": "wNvWNXNpjnko"
      },
      "source": [
        "Podemos llevar la columna de las etiquetas a una lista de listas con `train_df['Intencion'].values.reshape(-1,1)`, de manera de poder interfacearlo con `Vocab`. Algo como `train_df[['Intencion']].values` para que Pandas devuelva un `DataFrame` en vez de una `Series` también funcionaría."
      ]
    },
    {
      "cell_type": "code",
      "execution_count": null,
      "metadata": {
        "id": "9vLOxl43jnkp",
        "outputId": "63cc268b-b4c3-4695-8480-9a81369c89ac"
      },
      "outputs": [
        {
          "data": {
            "text/plain": [
              "array([['Cat_248'],\n",
              "       ['Cat_42'],\n",
              "       ['Cat_132'],\n",
              "       ...,\n",
              "       ['Cat_293'],\n",
              "       ['Cat_138'],\n",
              "       ['Cat_219']], dtype=object)"
            ]
          },
          "execution_count": 310,
          "metadata": {},
          "output_type": "execute_result"
        }
      ],
      "source": [
        "train_etiquetas = train_df[['Intencion']].values\n",
        "valid_etiquetas = valid_df[['Intencion']].values\n",
        "train_etiquetas"
      ]
    },
    {
      "cell_type": "markdown",
      "metadata": {
        "id": "7-TYf7-ojnkp"
      },
      "source": [
        "Todo lo que tenga que ver con limitación del vocabulario o agregado de tókenes especiales no nos interesa para este caso de uso."
      ]
    },
    {
      "cell_type": "code",
      "execution_count": null,
      "metadata": {
        "id": "dKPb23Tcjnkp",
        "outputId": "8adccd74-83a3-4459-8f53-7bcc477e3fbb"
      },
      "outputs": [
        {
          "data": {
            "text/plain": [
              "[[6], [128], [0], [104], [6], [17], [8], [202], [306], [166]]"
            ]
          },
          "execution_count": 314,
          "metadata": {},
          "output_type": "execute_result"
        }
      ],
      "source": [
        "vocabulario_etiquetas = Vocab(tóken_desconocido=None).fit(train_etiquetas)\n",
        "\n",
        "train_etiquetas = vocabulario_etiquetas.tókenes_a_índices(train_etiquetas)\n",
        "valid_etiquetas = vocabulario_etiquetas.tókenes_a_índices(valid_etiquetas)\n",
        "\n",
        "train_etiquetas[:10]"
      ]
    },
    {
      "cell_type": "markdown",
      "metadata": {
        "id": "HGCeuOXujnkp"
      },
      "source": [
        "Ya casi estamos. Solo debemos reconvertir a las etiquetas en una lista de índices (su dimensión original) con un recurso que ya conocemos."
      ]
    },
    {
      "cell_type": "code",
      "execution_count": null,
      "metadata": {
        "id": "G8sHocJujnkp",
        "outputId": "0c692725-f78a-48e8-a818-564a2200b352"
      },
      "outputs": [
        {
          "data": {
            "text/plain": [
              "[6, 128, 0, 104, 6, 17, 8, 202, 306, 166]"
            ]
          },
          "execution_count": 84,
          "metadata": {},
          "output_type": "execute_result"
        }
      ],
      "source": [
        "train_etiquetas = list(chain(*train_etiquetas))\n",
        "valid_etiquetas = list(chain(*valid_etiquetas))\n",
        "\n",
        "train_etiquetas[:10]"
      ]
    },
    {
      "cell_type": "markdown",
      "metadata": {
        "id": "I7gqlpP4jnkp"
      },
      "source": [
        "Ahora estás en condiciones de seguir con la [segunda parte](Preprocesamiento-de-texto-para-NLP-parte-2.html)."
      ]
    },
    {
      "cell_type": "markdown",
      "metadata": {
        "id": "X6DvyYVwjnkq"
      },
      "source": [
        "## Fuentes consultadas\n",
        "\n",
        "* http://anie.me/On-Torchtext/\n",
        "* https://medium.com/@datamonsters/text-preprocessing-in-python-steps-tools-and-examples-bf025f872908"
      ]
    }
  ],
  "metadata": {
    "environment": {
      "name": "pytorch-gpu.1-4.m50",
      "type": "gcloud",
      "uri": "gcr.io/deeplearning-platform-release/pytorch-gpu.1-4:m50"
    },
    "kernelspec": {
      "display_name": "Python 3",
      "language": "python",
      "name": "python3"
    },
    "language_info": {
      "codemirror_mode": {
        "name": "ipython",
        "version": 3
      },
      "file_extension": ".py",
      "mimetype": "text/x-python",
      "name": "python",
      "nbconvert_exporter": "python",
      "pygments_lexer": "ipython3",
      "version": "3.7.3"
    },
    "colab": {
      "provenance": []
    }
  },
  "nbformat": 4,
  "nbformat_minor": 0
}