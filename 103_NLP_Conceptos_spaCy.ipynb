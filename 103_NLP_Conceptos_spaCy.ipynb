{
  "cells": [
    {
      "cell_type": "markdown",
      "metadata": {
        "id": "view-in-github",
        "colab_type": "text"
      },
      "source": [
        "<a href=\"https://colab.research.google.com/github/Viny2030/UNED/blob/main/103_NLP_Conceptos_spaCy.ipynb\" target=\"_parent\"><img src=\"https://colab.research.google.com/assets/colab-badge.svg\" alt=\"Open In Colab\"/></a>"
      ]
    },
    {
      "cell_type": "markdown",
      "metadata": {
        "id": "jeX2u-CUDuIN"
      },
      "source": [
        "# 03 - Conceptos para el Procesamiento del Lenguaje Natural con spaCy\n",
        "\n",
        "* ***spaCy*** es una librería de código abierto en python para el Procesamiento del Lenguaje natural que posee modelos entrenados para varios idiomas, entre ellos el Español.\n",
        "\n",
        "\n",
        "* Es una librería pensada para funcionar en entornos productivos y es una librería con mejor rendimiento que **NLTK**.\n",
        "\n",
        "\n",
        "* Dispone de una web y de una documentación muy buena, incluso se pueden ejecutar ciertos ejemplos en la propia web: https://spacy.io/\n",
        "\n",
        "\n",
        "* Dispone también de un curso online (https://course.spacy.io/) bastante interesante.\n",
        "\n",
        "\n",
        "* Entre otras cosas con ***spaCy*** podemos hacer:\n",
        "    1. Tokenización\n",
        "    2. Lematización\n",
        "    3. Detección de Stop Words\n",
        "    4. Part of Speech (PoS)\n",
        "    5. Named Entity Recognition (NER)\n",
        "\n",
        "\n",
        "* ***spaCy*** puede ser instalado tanto con \"pip\" como con \"conda\" de la siguiente manera respectivamente:\n",
        "\n",
        "```\n",
        ">> pip install spacy\n",
        ">> conda install spacy\n",
        "```\n",
        "\n",
        "\n",
        "* Como se ha comentado anteriormente la ventaja que tiene ***spaCy*** frente a ***NLTK*** en lo que a idiomas se refiere es que permite trabajar con varior idiomas gracias a los modelos que tiene entrenados.\n",
        "\n",
        "\n",
        "* En particular para el Español ***spaCy*** tiene entrenados dos modelos (con Redes Neuronales Convolucionales según su documentación) de pequeño y mediano tamaño con los corpus de **AnCora** (http://clic.ub.edu/corpus/es/ancora) y **WikiNER**.\n",
        "\n",
        "\n",
        "* Estos dos modelos de pequeño y mediano tamaño los podemos encontrar en la web de ***spaCy*** (https://spacy.io/models/es) y son los siguiente:\n",
        "    - es_core_news_md (93 MiB)\n",
        "    - es_core_news_sm (35 MiB)\n",
        "\n",
        "\n",
        "* ***spaCy*** hace uso de estos modelos y tienen que ser descargados, para ello debemos de abrir un terminal en python y ejecutar lo siguiente para descargar el modelo en Español (*NOTA: los que uséis conda, tener activado el entorno*).\n",
        "\n",
        "\n",
        "```\n",
        ">> python3 -m spacy download es\n",
        "```\n",
        "\n",
        "\n",
        "<img src=\"./imgs/005_spacy_es_download.png\" style=\"width: 500px;\"/>\n",
        "\n",
        "\n",
        "\n"
      ]
    },
    {
      "cell_type": "code",
      "execution_count": null,
      "metadata": {
        "id": "bynBlmT5DuIW"
      },
      "outputs": [],
      "source": [
        "#!python -m spacy download es"
      ]
    },
    {
      "cell_type": "markdown",
      "metadata": {
        "id": "2_ZZBoSiDuIZ"
      },
      "source": [
        "<hr>\n",
        "\n",
        "\n",
        "# spaCy - Arquitectura:\n",
        "\n",
        "* ***spaCy*** utiliza dos tipos de estructuras (objetos) llamados **Doc** y **Vocab**:\n",
        "<span></span><br><br>\n",
        "    - ***Doc***: Este objeto esta formado por una secuencia de Tokens (objetos de la clase ***Token***).\n",
        "<span></span><br><br>\n",
        "    - ***Vocab***: Este objeto posee un conjunto de Look-up tables (tablas de consulta) que hacen que la información común esté disponible en todos los documentos (Lemas, Stop Words, PoS, etc.).\n",
        "\n",
        "<img src=\"./imgs/006_spacy_architecture.png\" style=\"width: 600px;\"/>\n",
        "\n",
        "\n",
        "* Una forma sencilla de trabajar con ***spaCy*** es:\n",
        "    1. Cargar un modelo de lenguaje (por ejemplo el Español)\n",
        "    2. Dado un texto plano, crear un objeto de la clase \"Doc\" y pasarle el texto plano. El texto ya quedará tokenizado dentro del objeto \"Doc\".\n",
        "    3. Trabajar sobre las palabras del documento.\n",
        "\n",
        "<hr>\n",
        "\n",
        "\n",
        "\n",
        "# Ejemplos con spaCy"
      ]
    },
    {
      "cell_type": "markdown",
      "metadata": {
        "id": "hbgCPc98DuIa"
      },
      "source": [
        "## -Tokenización\n",
        "\n",
        "\n",
        "* Divide las cadenas de texto del documento en piezas más pequeñas o tokens.\n",
        "\n",
        "\n",
        "* Pasos:\n",
        "    1. Importar la librería.\n",
        "    2. Cargar un modelo de lenguaje (el Español).\n",
        "    3. Crear un documento (de la clase \"Doc\") pasándole un texto plano.\n",
        "    4. El objeto de la clase \"Doc\" ya esta tokenizado por palabras y podemos iterar sobre él."
      ]
    },
    {
      "cell_type": "code",
      "source": [
        "!python -m spacy download es_core_news_sm"
      ],
      "metadata": {
        "colab": {
          "base_uri": "https://localhost:8080/"
        },
        "id": "92hWw4QWEOtk",
        "outputId": "66675395-dc58-49f8-bf29-a5bf99ec647d"
      },
      "execution_count": 3,
      "outputs": [
        {
          "output_type": "stream",
          "name": "stdout",
          "text": [
            "Collecting es-core-news-sm==3.7.0\n",
            "  Downloading https://github.com/explosion/spacy-models/releases/download/es_core_news_sm-3.7.0/es_core_news_sm-3.7.0-py3-none-any.whl (12.9 MB)\n",
            "\u001b[2K     \u001b[90m━━━━━━━━━━━━━━━━━━━━━━━━━━━━━━━━━━━━━━━━\u001b[0m \u001b[32m12.9/12.9 MB\u001b[0m \u001b[31m73.6 MB/s\u001b[0m eta \u001b[36m0:00:00\u001b[0m\n",
            "\u001b[?25hRequirement already satisfied: spacy<3.8.0,>=3.7.0 in /usr/local/lib/python3.10/dist-packages (from es-core-news-sm==3.7.0) (3.7.5)\n",
            "Requirement already satisfied: spacy-legacy<3.1.0,>=3.0.11 in /usr/local/lib/python3.10/dist-packages (from spacy<3.8.0,>=3.7.0->es-core-news-sm==3.7.0) (3.0.12)\n",
            "Requirement already satisfied: spacy-loggers<2.0.0,>=1.0.0 in /usr/local/lib/python3.10/dist-packages (from spacy<3.8.0,>=3.7.0->es-core-news-sm==3.7.0) (1.0.5)\n",
            "Requirement already satisfied: murmurhash<1.1.0,>=0.28.0 in /usr/local/lib/python3.10/dist-packages (from spacy<3.8.0,>=3.7.0->es-core-news-sm==3.7.0) (1.0.10)\n",
            "Requirement already satisfied: cymem<2.1.0,>=2.0.2 in /usr/local/lib/python3.10/dist-packages (from spacy<3.8.0,>=3.7.0->es-core-news-sm==3.7.0) (2.0.8)\n",
            "Requirement already satisfied: preshed<3.1.0,>=3.0.2 in /usr/local/lib/python3.10/dist-packages (from spacy<3.8.0,>=3.7.0->es-core-news-sm==3.7.0) (3.0.9)\n",
            "Requirement already satisfied: thinc<8.3.0,>=8.2.2 in /usr/local/lib/python3.10/dist-packages (from spacy<3.8.0,>=3.7.0->es-core-news-sm==3.7.0) (8.2.5)\n",
            "Requirement already satisfied: wasabi<1.2.0,>=0.9.1 in /usr/local/lib/python3.10/dist-packages (from spacy<3.8.0,>=3.7.0->es-core-news-sm==3.7.0) (1.1.3)\n",
            "Requirement already satisfied: srsly<3.0.0,>=2.4.3 in /usr/local/lib/python3.10/dist-packages (from spacy<3.8.0,>=3.7.0->es-core-news-sm==3.7.0) (2.4.8)\n",
            "Requirement already satisfied: catalogue<2.1.0,>=2.0.6 in /usr/local/lib/python3.10/dist-packages (from spacy<3.8.0,>=3.7.0->es-core-news-sm==3.7.0) (2.0.10)\n",
            "Requirement already satisfied: weasel<0.5.0,>=0.1.0 in /usr/local/lib/python3.10/dist-packages (from spacy<3.8.0,>=3.7.0->es-core-news-sm==3.7.0) (0.4.1)\n",
            "Requirement already satisfied: typer<1.0.0,>=0.3.0 in /usr/local/lib/python3.10/dist-packages (from spacy<3.8.0,>=3.7.0->es-core-news-sm==3.7.0) (0.13.0)\n",
            "Requirement already satisfied: tqdm<5.0.0,>=4.38.0 in /usr/local/lib/python3.10/dist-packages (from spacy<3.8.0,>=3.7.0->es-core-news-sm==3.7.0) (4.66.6)\n",
            "Requirement already satisfied: requests<3.0.0,>=2.13.0 in /usr/local/lib/python3.10/dist-packages (from spacy<3.8.0,>=3.7.0->es-core-news-sm==3.7.0) (2.32.3)\n",
            "Requirement already satisfied: pydantic!=1.8,!=1.8.1,<3.0.0,>=1.7.4 in /usr/local/lib/python3.10/dist-packages (from spacy<3.8.0,>=3.7.0->es-core-news-sm==3.7.0) (2.9.2)\n",
            "Requirement already satisfied: jinja2 in /usr/local/lib/python3.10/dist-packages (from spacy<3.8.0,>=3.7.0->es-core-news-sm==3.7.0) (3.1.4)\n",
            "Requirement already satisfied: setuptools in /usr/local/lib/python3.10/dist-packages (from spacy<3.8.0,>=3.7.0->es-core-news-sm==3.7.0) (75.1.0)\n",
            "Requirement already satisfied: packaging>=20.0 in /usr/local/lib/python3.10/dist-packages (from spacy<3.8.0,>=3.7.0->es-core-news-sm==3.7.0) (24.2)\n",
            "Requirement already satisfied: langcodes<4.0.0,>=3.2.0 in /usr/local/lib/python3.10/dist-packages (from spacy<3.8.0,>=3.7.0->es-core-news-sm==3.7.0) (3.4.1)\n",
            "Requirement already satisfied: numpy>=1.19.0 in /usr/local/lib/python3.10/dist-packages (from spacy<3.8.0,>=3.7.0->es-core-news-sm==3.7.0) (1.26.4)\n",
            "Requirement already satisfied: language-data>=1.2 in /usr/local/lib/python3.10/dist-packages (from langcodes<4.0.0,>=3.2.0->spacy<3.8.0,>=3.7.0->es-core-news-sm==3.7.0) (1.2.0)\n",
            "Requirement already satisfied: annotated-types>=0.6.0 in /usr/local/lib/python3.10/dist-packages (from pydantic!=1.8,!=1.8.1,<3.0.0,>=1.7.4->spacy<3.8.0,>=3.7.0->es-core-news-sm==3.7.0) (0.7.0)\n",
            "Requirement already satisfied: pydantic-core==2.23.4 in /usr/local/lib/python3.10/dist-packages (from pydantic!=1.8,!=1.8.1,<3.0.0,>=1.7.4->spacy<3.8.0,>=3.7.0->es-core-news-sm==3.7.0) (2.23.4)\n",
            "Requirement already satisfied: typing-extensions>=4.6.1 in /usr/local/lib/python3.10/dist-packages (from pydantic!=1.8,!=1.8.1,<3.0.0,>=1.7.4->spacy<3.8.0,>=3.7.0->es-core-news-sm==3.7.0) (4.12.2)\n",
            "Requirement already satisfied: charset-normalizer<4,>=2 in /usr/local/lib/python3.10/dist-packages (from requests<3.0.0,>=2.13.0->spacy<3.8.0,>=3.7.0->es-core-news-sm==3.7.0) (3.4.0)\n",
            "Requirement already satisfied: idna<4,>=2.5 in /usr/local/lib/python3.10/dist-packages (from requests<3.0.0,>=2.13.0->spacy<3.8.0,>=3.7.0->es-core-news-sm==3.7.0) (3.10)\n",
            "Requirement already satisfied: urllib3<3,>=1.21.1 in /usr/local/lib/python3.10/dist-packages (from requests<3.0.0,>=2.13.0->spacy<3.8.0,>=3.7.0->es-core-news-sm==3.7.0) (2.2.3)\n",
            "Requirement already satisfied: certifi>=2017.4.17 in /usr/local/lib/python3.10/dist-packages (from requests<3.0.0,>=2.13.0->spacy<3.8.0,>=3.7.0->es-core-news-sm==3.7.0) (2024.8.30)\n",
            "Requirement already satisfied: blis<0.8.0,>=0.7.8 in /usr/local/lib/python3.10/dist-packages (from thinc<8.3.0,>=8.2.2->spacy<3.8.0,>=3.7.0->es-core-news-sm==3.7.0) (0.7.11)\n",
            "Requirement already satisfied: confection<1.0.0,>=0.0.1 in /usr/local/lib/python3.10/dist-packages (from thinc<8.3.0,>=8.2.2->spacy<3.8.0,>=3.7.0->es-core-news-sm==3.7.0) (0.1.5)\n",
            "Requirement already satisfied: click>=8.0.0 in /usr/local/lib/python3.10/dist-packages (from typer<1.0.0,>=0.3.0->spacy<3.8.0,>=3.7.0->es-core-news-sm==3.7.0) (8.1.7)\n",
            "Requirement already satisfied: shellingham>=1.3.0 in /usr/local/lib/python3.10/dist-packages (from typer<1.0.0,>=0.3.0->spacy<3.8.0,>=3.7.0->es-core-news-sm==3.7.0) (1.5.4)\n",
            "Requirement already satisfied: rich>=10.11.0 in /usr/local/lib/python3.10/dist-packages (from typer<1.0.0,>=0.3.0->spacy<3.8.0,>=3.7.0->es-core-news-sm==3.7.0) (13.9.4)\n",
            "Requirement already satisfied: cloudpathlib<1.0.0,>=0.7.0 in /usr/local/lib/python3.10/dist-packages (from weasel<0.5.0,>=0.1.0->spacy<3.8.0,>=3.7.0->es-core-news-sm==3.7.0) (0.20.0)\n",
            "Requirement already satisfied: smart-open<8.0.0,>=5.2.1 in /usr/local/lib/python3.10/dist-packages (from weasel<0.5.0,>=0.1.0->spacy<3.8.0,>=3.7.0->es-core-news-sm==3.7.0) (7.0.5)\n",
            "Requirement already satisfied: MarkupSafe>=2.0 in /usr/local/lib/python3.10/dist-packages (from jinja2->spacy<3.8.0,>=3.7.0->es-core-news-sm==3.7.0) (3.0.2)\n",
            "Requirement already satisfied: marisa-trie>=0.7.7 in /usr/local/lib/python3.10/dist-packages (from language-data>=1.2->langcodes<4.0.0,>=3.2.0->spacy<3.8.0,>=3.7.0->es-core-news-sm==3.7.0) (1.2.1)\n",
            "Requirement already satisfied: markdown-it-py>=2.2.0 in /usr/local/lib/python3.10/dist-packages (from rich>=10.11.0->typer<1.0.0,>=0.3.0->spacy<3.8.0,>=3.7.0->es-core-news-sm==3.7.0) (3.0.0)\n",
            "Requirement already satisfied: pygments<3.0.0,>=2.13.0 in /usr/local/lib/python3.10/dist-packages (from rich>=10.11.0->typer<1.0.0,>=0.3.0->spacy<3.8.0,>=3.7.0->es-core-news-sm==3.7.0) (2.18.0)\n",
            "Requirement already satisfied: wrapt in /usr/local/lib/python3.10/dist-packages (from smart-open<8.0.0,>=5.2.1->weasel<0.5.0,>=0.1.0->spacy<3.8.0,>=3.7.0->es-core-news-sm==3.7.0) (1.16.0)\n",
            "Requirement already satisfied: mdurl~=0.1 in /usr/local/lib/python3.10/dist-packages (from markdown-it-py>=2.2.0->rich>=10.11.0->typer<1.0.0,>=0.3.0->spacy<3.8.0,>=3.7.0->es-core-news-sm==3.7.0) (0.1.2)\n",
            "\u001b[38;5;2m✔ Download and installation successful\u001b[0m\n",
            "You can now load the package via spacy.load('es_core_news_sm')\n",
            "\u001b[38;5;3m⚠ Restart to reload dependencies\u001b[0m\n",
            "If you are in a Jupyter or Colab notebook, you may need to restart Python in\n",
            "order to load all the package's dependencies. You can do this by selecting the\n",
            "'Restart kernel' or 'Restart runtime' option.\n"
          ]
        }
      ]
    },
    {
      "cell_type": "code",
      "execution_count": 4,
      "metadata": {
        "colab": {
          "base_uri": "https://localhost:8080/"
        },
        "id": "nyt_-FFRDuIb",
        "outputId": "23b7661d-0f4c-4c0a-ad86-805a330f5a1f"
      },
      "outputs": [
        {
          "output_type": "stream",
          "name": "stdout",
          "text": [
            "Tipo de dato: <class 'spacy.tokens.doc.Doc'>\n",
            "['Un', 'radar', 'multa', 'a', 'Mariano', '.', 'Rajoy', 'por', 'caminar', 'demasiado', 'rápido']\n"
          ]
        }
      ],
      "source": [
        "import spacy\n",
        "nlp = spacy.load('es_core_news_sm')\n",
        "doc = nlp(\"Un radar multa a Mariano. Rajoy por caminar demasiado rápido\")\n",
        "print('Tipo de dato: ' + str(type(doc)))\n",
        "print([w.text for w in doc])"
      ]
    },
    {
      "cell_type": "markdown",
      "source": [
        "## tokenizacion input"
      ],
      "metadata": {
        "id": "20NS9XpUFt2D"
      }
    },
    {
      "cell_type": "code",
      "source": [
        "!python -m spacy download en_core_news_sm"
      ],
      "metadata": {
        "collapsed": true,
        "colab": {
          "base_uri": "https://localhost:8080/"
        },
        "id": "Dhot09YCG0II",
        "outputId": "a53672f3-9253-419f-ac6f-5b2f92e47486"
      },
      "execution_count": 13,
      "outputs": [
        {
          "output_type": "stream",
          "name": "stdout",
          "text": [
            "\n",
            "\u001b[38;5;1m✘ No compatible package found for 'en_core_news_sm' (spaCy v3.7.5)\u001b[0m\n",
            "\n"
          ]
        }
      ]
    },
    {
      "cell_type": "code",
      "source": [
        "import spacy\n",
        "nlp = spacy.load(\"en_core_web_sm\")\n",
        "import en_core_web_sm\n",
        "nlp = en_core_web_sm.load()\n",
        "doc1 = nlp(\"Jane bought me these books.Jane bought a book for me.She dropped a line to him. Thank you.She sleeps.I sleep a lot.I was born in Madrid.the cat was chased by the dog.I was born in Madrid during 1995.Out of all this , something good will come.Susan left after the rehearsal. She did it well.She sleeps during the morning, but she sleeps.\")\n",
        "print([(w.text, w.pos_) for w in doc1])"
      ],
      "metadata": {
        "colab": {
          "base_uri": "https://localhost:8080/"
        },
        "id": "XqVUvSDXHO0O",
        "outputId": "0c0e35e8-c6f1-46f6-c8d0-aa547daae3da"
      },
      "execution_count": 15,
      "outputs": [
        {
          "output_type": "stream",
          "name": "stdout",
          "text": [
            "[('Jane', 'PROPN'), ('bought', 'VERB'), ('me', 'PRON'), ('these', 'DET'), ('books', 'NOUN'), ('.', 'PUNCT'), ('Jane', 'PROPN'), ('bought', 'VERB'), ('a', 'DET'), ('book', 'NOUN'), ('for', 'ADP'), ('me', 'PRON'), ('.', 'PUNCT'), ('She', 'PRON'), ('dropped', 'VERB'), ('a', 'DET'), ('line', 'NOUN'), ('to', 'ADP'), ('him', 'PRON'), ('.', 'PUNCT'), ('Thank', 'VERB'), ('you', 'PRON'), ('.', 'PUNCT'), ('She', 'PRON'), ('sleeps', 'VERB'), ('.', 'PUNCT'), ('I', 'PRON'), ('sleep', 'VERB'), ('a', 'DET'), ('lot', 'NOUN'), ('.', 'PUNCT'), ('I', 'PRON'), ('was', 'AUX'), ('born', 'VERB'), ('in', 'ADP'), ('Madrid.the', 'PROPN'), ('cat', 'NOUN'), ('was', 'AUX'), ('chased', 'VERB'), ('by', 'ADP'), ('the', 'DET'), ('dog', 'NOUN'), ('.', 'PUNCT'), ('I', 'PRON'), ('was', 'AUX'), ('born', 'VERB'), ('in', 'ADP'), ('Madrid', 'PROPN'), ('during', 'ADP'), ('1995.Out', 'NUM'), ('of', 'ADP'), ('all', 'DET'), ('this', 'PRON'), (',', 'PUNCT'), ('something', 'PRON'), ('good', 'ADJ'), ('will', 'AUX'), ('come', 'VERB'), ('.', 'PUNCT'), ('Susan', 'PROPN'), ('left', 'VERB'), ('after', 'ADP'), ('the', 'DET'), ('rehearsal', 'NOUN'), ('.', 'PUNCT'), ('She', 'PRON'), ('did', 'VERB'), ('it', 'PRON'), ('well', 'ADV'), ('.', 'PUNCT'), ('She', 'PRON'), ('sleeps', 'VERB'), ('during', 'ADP'), ('the', 'DET'), ('morning', 'NOUN'), (',', 'PUNCT'), ('but', 'CCONJ'), ('she', 'PRON'), ('sleeps', 'VERB'), ('.', 'PUNCT')]\n"
          ]
        }
      ]
    },
    {
      "cell_type": "markdown",
      "source": [
        "**tokenizacion output**"
      ],
      "metadata": {
        "id": "PtewbPJLHhbT"
      }
    },
    {
      "cell_type": "code",
      "source": [
        "import spacy\n",
        "nlp = spacy.load(\"en_core_web_sm\")\n",
        "import en_core_web_sm\n",
        "nlp = en_core_web_sm.load()\n"
      ],
      "metadata": {
        "id": "Duoy02v-HlpW"
      },
      "execution_count": 16,
      "outputs": []
    },
    {
      "cell_type": "code",
      "source": [
        "doc2 = '/content/output.txt'\n",
        "doc2"
      ],
      "metadata": {
        "colab": {
          "base_uri": "https://localhost:8080/",
          "height": 35
        },
        "id": "pCgPb51yIHuz",
        "outputId": "ea8542b2-23bc-4328-f5a4-45e824693150"
      },
      "execution_count": 20,
      "outputs": [
        {
          "output_type": "execute_result",
          "data": {
            "text/plain": [
              "'/content/output.txt'"
            ],
            "application/vnd.google.colaboratory.intrinsic+json": {
              "type": "string"
            }
          },
          "metadata": {},
          "execution_count": 20
        }
      ]
    },
    {
      "cell_type": "code",
      "source": [
        "print(doc2)"
      ],
      "metadata": {
        "colab": {
          "base_uri": "https://localhost:8080/"
        },
        "id": "SNZ7DkiMIK9O",
        "outputId": "84903054-4a7e-4f17-8473-608706c9de34"
      },
      "execution_count": 21,
      "outputs": [
        {
          "output_type": "stream",
          "name": "stdout",
          "text": [
            "/content/output.txt\n"
          ]
        }
      ]
    },
    {
      "cell_type": "code",
      "source": [
        "doc2 = '/content/output.txt'\n",
        "doc2 = nlp(doc2)\n",
        "print([(w.text, w.pos_) for w in doc2])"
      ],
      "metadata": {
        "colab": {
          "base_uri": "https://localhost:8080/"
        },
        "id": "JVt15JPrH6rC",
        "outputId": "a083cb06-85dc-46e5-c249-0f49017ddcd8"
      },
      "execution_count": 19,
      "outputs": [
        {
          "output_type": "stream",
          "name": "stdout",
          "text": [
            "[('/content', 'PUNCT'), ('/', 'SYM'), ('output.txt', 'X')]\n"
          ]
        }
      ]
    },
    {
      "cell_type": "code",
      "source": [
        "import pandas as pd"
      ],
      "metadata": {
        "id": "h4vLM-prIXSD"
      },
      "execution_count": 23,
      "outputs": []
    },
    {
      "cell_type": "code",
      "source": [
        "output = pd.read_json(\"https://raw.githubusercontent.com/Viny2030/datasets/refs/heads/main/output.json\")"
      ],
      "metadata": {
        "id": "jYJ5q4VSIV3f"
      },
      "execution_count": 24,
      "outputs": []
    },
    {
      "cell_type": "code",
      "source": [
        "doc2 = nlp(output.iloc[:,0].astype(str).str.cat(sep=' '))\n",
        "print([(w.text, w.pos_) for w in doc2])"
      ],
      "metadata": {
        "colab": {
          "base_uri": "https://localhost:8080/"
        },
        "id": "hOuNSc97IfTf",
        "outputId": "b869b3d1-ac05-4228-808f-fd506d8df0fb"
      },
      "execution_count": 25,
      "outputs": [
        {
          "output_type": "stream",
          "name": "stdout",
          "text": [
            "[('[', 'X'), (\"'\", 'PUNCT'), ('I', 'PRON'), ('was', 'AUX'), ('born', 'VERB'), ('in', 'ADP'), ('Madrid', 'PROPN'), ('.', 'PUNCT'), (\"'\", 'PUNCT'), (',', 'PUNCT'), (\"'\", 'PUNCT'), ('I', 'PRON'), ('was', 'AUX'), ('born', 'VERB'), ('in', 'ADP'), ('Madrid', 'PROPN'), ('during', 'ADP'), ('1995', 'NUM'), ('.', 'PUNCT'), (\"'\", 'PUNCT'), (']', 'PUNCT'), ('NVPN', 'PROPN'), ('2', 'NUM'), ('I', 'PRON'), ('bear', 'VERB'), ('None', 'PROPN'), ('in', 'ADP'), ('CITY', 'PROPN')]\n"
          ]
        }
      ]
    },
    {
      "cell_type": "markdown",
      "metadata": {
        "id": "herDiUG9DuIe"
      },
      "source": [
        "## -Segmentación\n",
        "\n",
        "\n",
        "* La ***segmentación*** divide las cadenas de texto en frases o párrafos.\n",
        "\n",
        "\n",
        "* Para la segmentación en spaCy hay que usar un componente llamado \"**sentencier**\" que divide los textos por simbolos como puntos, interrogantes, etc."
      ]
    },
    {
      "cell_type": "code",
      "execution_count": 5,
      "metadata": {
        "colab": {
          "base_uri": "https://localhost:8080/"
        },
        "id": "3NWI_bGsDuIf",
        "outputId": "bd520402-372f-48a6-8849-1a2706dda6cc"
      },
      "outputs": [
        {
          "output_type": "stream",
          "name": "stdout",
          "text": [
            "['Frase numero 1.', 'Frase número 2?', 'Frase 3']\n"
          ]
        }
      ],
      "source": [
        "from spacy.pipeline import Sentencizer\n",
        "sentencizer = Sentencizer()\n",
        "doc = nlp(\"Frase numero 1. Frase número 2? Frase 3\")\n",
        "print([s.text for s in doc.sents])"
      ]
    },
    {
      "cell_type": "markdown",
      "source": [
        "**##Segmentacion input**"
      ],
      "metadata": {
        "id": "480VPbOTItxE"
      }
    },
    {
      "cell_type": "code",
      "source": [
        "from spacy.pipeline import Sentencizer\n",
        "sentencizer = Sentencizer()\n",
        "doc3 = nlp((\"Jane bought me these books.Jane bought a book for me.She dropped a line to him. Thank you.She sleeps.I sleep a lot.I was born in Madrid.the cat was chased by the dog.I was born in Madrid during 1995.Out of all this , something good will come.Susan left after the rehearsal. She did it well.She sleeps during the morning, but she sleeps.\"))\n",
        "print([s.text for s in doc3.sents])"
      ],
      "metadata": {
        "colab": {
          "base_uri": "https://localhost:8080/"
        },
        "id": "ryKIbLEPI07D",
        "outputId": "38fc6940-68d3-4172-ea9e-ff93721ddec2"
      },
      "execution_count": 26,
      "outputs": [
        {
          "output_type": "stream",
          "name": "stdout",
          "text": [
            "['Jane bought me these books.', 'Jane bought a book for me.', 'She dropped a line to him.', 'Thank you.', 'She sleeps.', 'I sleep a lot.', 'I was born in Madrid.the cat was chased by the dog.', 'I was born in Madrid during 1995.Out of all this , something good will come.', 'Susan left after the rehearsal.', 'She did it well.', 'She sleeps during the morning, but she sleeps.']\n"
          ]
        }
      ]
    },
    {
      "cell_type": "markdown",
      "source": [
        "**##Segmentacion output**"
      ],
      "metadata": {
        "id": "r6rJ6bXvJDPP"
      }
    },
    {
      "cell_type": "code",
      "source": [
        "output = pd.read_json(\"https://raw.githubusercontent.com/Viny2030/datasets/refs/heads/main/output.json\")"
      ],
      "metadata": {
        "id": "nACiNUnvJJmd"
      },
      "execution_count": 27,
      "outputs": []
    },
    {
      "cell_type": "code",
      "source": [
        "doc4 = nlp(output.iloc[:,0].astype(str).str.cat(sep=' '))\n",
        "print([s.text for s in doc4.sents])"
      ],
      "metadata": {
        "colab": {
          "base_uri": "https://localhost:8080/"
        },
        "id": "QRfVFwZfJQGU",
        "outputId": "1f381895-1244-4366-9011-4d6a6e8b6b72"
      },
      "execution_count": 33,
      "outputs": [
        {
          "output_type": "stream",
          "name": "stdout",
          "text": [
            "[\"['I was born in Madrid.', 'I was born in Madrid during 1995.']\", 'NVPN 2 I bear None in CITY']\n"
          ]
        }
      ]
    },
    {
      "cell_type": "markdown",
      "metadata": {
        "id": "uMvl2EXdDuIg"
      },
      "source": [
        "## -Stemming\n",
        "\n",
        "* ***Funcionalidad no disponoble en spaCy***"
      ]
    },
    {
      "cell_type": "markdown",
      "metadata": {
        "id": "3BkyLNh8DuIh"
      },
      "source": [
        "## -Lematización\n",
        "\n",
        "\n",
        "* Proceso lingüístico que sustituye una palabra con forma flexionada (plurales, femeninos, verbos conjugados, etc.) por su lema; es decir, por una palabra válida en el idioma.\n",
        "\n",
        "\n",
        "* ***spaCy*** hace una lematización muy buena en Español.\n",
        "\n",
        "\n",
        "* Los objetos de la clase ***Token*** tienen la propiedad (o atributo) ***lema_*** que nos devuelve el lema del token (o la palabra)."
      ]
    },
    {
      "cell_type": "code",
      "execution_count": 29,
      "metadata": {
        "colab": {
          "base_uri": "https://localhost:8080/"
        },
        "id": "xmQeSnxrDuIi",
        "outputId": "fc9fa52f-7dac-4118-e274-4791858a4e55"
      },
      "outputs": [
        {
          "output_type": "stream",
          "name": "stdout",
          "text": [
            "Unos - Unos\n",
            "radares - radare\n",
            "multan - multan\n",
            "a - a\n",
            "Mariano - Mariano\n",
            "Rajoy - Rajoy\n",
            "por - por\n",
            "ir - ir\n",
            "caminando - caminando\n",
            "demasiados - demasiado\n",
            "rápidos - rápido\n"
          ]
        }
      ],
      "source": [
        "doc = nlp(\"Unos radares multan a Mariano Rajoy por ir caminando demasiados rápidos\")\n",
        "for word in doc:\n",
        "    print(word.text + ' - ' + word.lemma_)"
      ]
    },
    {
      "cell_type": "markdown",
      "source": [
        "# **##Lematizacion input**"
      ],
      "metadata": {
        "id": "FzEWcNRCJbMj"
      }
    },
    {
      "cell_type": "code",
      "source": [
        "doc1 = nlp((\"Jane bought me these books.Jane bought a book for me.She dropped a line to him. Thank you.She sleeps.I sleep a lot.I was born in Madrid.the cat was chased by the dog.I was born in Madrid during 1995.Out of all this , something good will come.Susan left after the rehearsal. She did it well.She sleeps during the morning, but she sleeps.\"))\n",
        "for word in doc1:\n",
        "    print(word.text + ' - ' + word.lemma_)"
      ],
      "metadata": {
        "colab": {
          "base_uri": "https://localhost:8080/"
        },
        "id": "rZFOuibTJg5R",
        "outputId": "66f3ee09-46a2-4bf8-e4ad-479baae2d8d0"
      },
      "execution_count": 31,
      "outputs": [
        {
          "output_type": "stream",
          "name": "stdout",
          "text": [
            "Jane - Jane\n",
            "bought - buy\n",
            "me - I\n",
            "these - these\n",
            "books - book\n",
            ". - .\n",
            "Jane - Jane\n",
            "bought - buy\n",
            "a - a\n",
            "book - book\n",
            "for - for\n",
            "me - I\n",
            ". - .\n",
            "She - she\n",
            "dropped - drop\n",
            "a - a\n",
            "line - line\n",
            "to - to\n",
            "him - he\n",
            ". - .\n",
            "Thank - thank\n",
            "you - you\n",
            ". - .\n",
            "She - she\n",
            "sleeps - sleep\n",
            ". - .\n",
            "I - I\n",
            "sleep - sleep\n",
            "a - a\n",
            "lot - lot\n",
            ". - .\n",
            "I - I\n",
            "was - be\n",
            "born - bear\n",
            "in - in\n",
            "Madrid.the - Madrid.the\n",
            "cat - cat\n",
            "was - be\n",
            "chased - chase\n",
            "by - by\n",
            "the - the\n",
            "dog - dog\n",
            ". - .\n",
            "I - I\n",
            "was - be\n",
            "born - bear\n",
            "in - in\n",
            "Madrid - Madrid\n",
            "during - during\n",
            "1995.Out - 1995.out\n",
            "of - of\n",
            "all - all\n",
            "this - this\n",
            ", - ,\n",
            "something - something\n",
            "good - good\n",
            "will - will\n",
            "come - come\n",
            ". - .\n",
            "Susan - Susan\n",
            "left - leave\n",
            "after - after\n",
            "the - the\n",
            "rehearsal - rehearsal\n",
            ". - .\n",
            "She - she\n",
            "did - do\n",
            "it - it\n",
            "well - well\n",
            ". - .\n",
            "She - she\n",
            "sleeps - sleep\n",
            "during - during\n",
            "the - the\n",
            "morning - morning\n",
            ", - ,\n",
            "but - but\n",
            "she - she\n",
            "sleeps - sleep\n",
            ". - .\n"
          ]
        }
      ]
    },
    {
      "cell_type": "markdown",
      "source": [
        "### **lematizacion output**"
      ],
      "metadata": {
        "id": "S5F0t7JdJ2m-"
      }
    },
    {
      "cell_type": "code",
      "source": [
        "output = pd.read_json(\"https://raw.githubusercontent.com/Viny2030/datasets/refs/heads/main/output.json\")"
      ],
      "metadata": {
        "id": "pbNRQXonJ6mb"
      },
      "execution_count": 32,
      "outputs": []
    },
    {
      "cell_type": "code",
      "source": [
        "doc5 = nlp(output.iloc[:,0].astype(str).str.cat(sep=' '))\n",
        "for word in doc5:\n",
        "    print(word.text + ' - ' + word.lemma_)"
      ],
      "metadata": {
        "colab": {
          "base_uri": "https://localhost:8080/"
        },
        "id": "niFmU2nRKES6",
        "outputId": "db26150d-2942-4142-88d1-5b8e8dfda23c"
      },
      "execution_count": 34,
      "outputs": [
        {
          "output_type": "stream",
          "name": "stdout",
          "text": [
            "[ - [\n",
            "' - '\n",
            "I - I\n",
            "was - be\n",
            "born - bear\n",
            "in - in\n",
            "Madrid - Madrid\n",
            ". - .\n",
            "' - '\n",
            ", - ,\n",
            "' - '\n",
            "I - I\n",
            "was - be\n",
            "born - bear\n",
            "in - in\n",
            "Madrid - Madrid\n",
            "during - during\n",
            "1995 - 1995\n",
            ". - .\n",
            "' - '\n",
            "] - ]\n",
            "NVPN - NVPN\n",
            "2 - 2\n",
            "I - I\n",
            "bear - bear\n",
            "None - None\n",
            "in - in\n",
            "CITY - CITY\n"
          ]
        }
      ]
    },
    {
      "cell_type": "markdown",
      "metadata": {
        "id": "LJ0VTeUsDuIi"
      },
      "source": [
        "## -Stop words\n",
        "\n",
        "* Son las palabras que no aportan nada al significado de la frase.\n",
        "\n",
        "\n",
        "* spaCy dispone de más de 500 stop words en Español.\n",
        "\n",
        "\n",
        "* Veamos a continuación las Stop Words en Español."
      ]
    },
    {
      "cell_type": "code",
      "execution_count": 35,
      "metadata": {
        "colab": {
          "base_uri": "https://localhost:8080/"
        },
        "id": "-eayd3vADuIj",
        "outputId": "1eb15709-5463-405f-d198-dc3dea483ff0"
      },
      "outputs": [
        {
          "output_type": "stream",
          "name": "stdout",
          "text": [
            "Número de stop words: 521\n",
            "Stop words: ['eres', 'está', 'tambien', 'ademas', 'hay', 'algunos', 'durante', 'doce', 'excepto', 'haciendo', 'delante', 'solamente', 'cuanto', 'sigue', 'tuyos', 'lado', 'a', 'llegó', 'poner', 'salvo', 'mismos', 'quiere', 'eran', 'fue', 'detrás', 'cuenta', 'aqui', 'breve', 'trata', 'haceis', 'siguiente', 'éstos', 'nuestro', 'cuales', 'pocos', 'realizó', 'quien', 'si', 'ninguna', 'dado', 'bastante', 'verdadera', 'sabes', 'día', 'estos', 'podría', 'veces', 'queremos', 'mias', 'nuestras', 'un', 'ir', 'siempre', 'peor', 'mencionó', 'realizado', 'tampoco', 'hablan', 'tu', 'éstas', 'hacen', 'que', 'aquellos', 'enfrente', 'atras', 'sola', 'ti', 'vez', 'habían', 'usa', 'mientras', 'once', 'esto', 'largo', 'diferentes', 'cierto', 'sé', 'ahora', 'adelante', 'vosotros', 'aquel', 'mismas', 'están', 'así', 'mío', 'nuestra', 'ningunas', 'muchas', 'paìs', 'informó', 'estado', 'podriamos', 'alli', 'nosotras', 'nuevo', 'todavia', 'pesar', 'aquéllos', 'respecto', 'estuvo', 'sí', 'te', 'vuestros', 'usais', 'cuál', 'otros', 'ciertos', 'menos', 'despacio', 'consigo', 'buena', 'quiénes', 'segun', 'buen', 'dicho', 'cuantos', 'alguna', 'manera', 'tras', 'dar', 'pronto', 'la', 'segundo', 'aún', 'donde', 'consiguen', 'esa', 'ésta', 'mucho', 'serán', 'ésas', 'dio', 'aproximadamente', 'hace', 'sería', 'última', 'estará', 'he', 'todos', 'parte', 'da', 'propios', 'quiza', 'y', 'quienes', 'parece', 'verdadero', 'consigues', 'porque', 'habia', 'tienen', 'ése', 'hicieron', 'dia', 'yo', 'además', 'tuya', 'sea', 'cual', 'pasado', 'era', 'afirmó', 'cuanta', 'estan', 'poca', 'posible', 'sino', 'este', 'podrias', 'sido', 'suyos', 'otro', 'través', 'gran', 'qué', 'podrian', 'las', 'propio', 'nuevas', 'hago', 'nunca', 'esas', 'podrá', 'tiene', 'próximo', 'estaban', 'voy', 'poder', 'existen', 'grandes', 'primero', 'seis', 'cómo', 'quién', 'esos', 'podriais', 'bien', 'apenas', 'otra', 'suyas', 'aquí', 'indicó', 'señaló', 'hecho', 'últimos', 'usan', 'teneis', 'mayor', 'mio', 'debe', 'usas', 'sois', 'varias', 'todavía', 'ultimo', 'final', 'asi', 'fin', 'arriba', 'estaba', 'hacerlo', 'quedó', 'le', 'pues', 'aquella', 'han', 'de', 'manifestó', 'decir', 'suya', 'fui', 'usted', 'conocer', 'igual', 'con', 'cuánto', 'misma', 'nueva', 'comentó', 'debido', 'luego', 'mucha', 'pudo', 'aquellas', 'dan', 'solas', 'otras', 'también', 'pueda', 'habrá', 'cuantas', 'tendrá', 'demás', 'algunas', 'va', 'algo', 'quizas', 'entonces', 'lleva', 'eso', 'ni', 'será', 'incluso', 'mas', 'ustedes', 'esta', 'repente', 'supuesto', 'último', 'informo', 'diez', 'uso', 'allí', 'considera', 'fuimos', 'podrán', 'cada', 'tú', 'primer', 'toda', 'anterior', 'conmigo', 'hacemos', 'nueve', 'podrían', 'habla', 'u', 'siete', 'me', 'usamos', 'pero', 'grande', 'el', 'ellas', 'aunque', 'quizás', 'o', 'tuyo', 'algún', 'todo', 'expresó', 'nada', 'ahí', 'saber', 'varios', 'verdad', 'sin', 'encima', 'en', 'explicó', 'estais', 'modo', 'propias', 'sus', 'tenga', 'lo', 'dice', 'solos', 'enseguida', 'nuevos', 'cualquier', 'hacia', 'llevar', 'sean', 'haya', 'ningún', 'añadió', 'del', 'bueno', 'medio', 'mejor', 'conseguir', 'hizo', 'mismo', 'somos', 'consigue', 'proximo', 'menudo', 'primeros', 'mios', 'qeu', 'tenido', 'ocho', 'vais', 'ha', 'estas', 'aun', 'cuánta', 'embargo', 'ser', 'se', 'sobre', 'fuera', 'eras', 'tendrán', 'próximos', 'dijo', 'ya', 'primera', 'aquéllas', 'casi', 'ninguno', 'cuántas', 'uno', 'ante', 'dejó', 'son', 'más', 'tres', 'aquél', 'os', 'unas', 'cuatro', 'podemos', 'deprisa', 'entre', 'una', 'mí', 'ningunos', 'por', 'desde', 'alguno', 'dos', 'dias', 'tener', 'mis', 'sabeis', 'últimas', 'ambos', 'no', 'ella', 'tercera', 'debajo', 'nosotros', 'cuando', 'solo', 'alrededor', 'bajo', 'haber', 'mía', 'dijeron', 'tal', 'deben', 'días', 'hubo', 'ahi', 'tanto', 'puede', 'después', 'sólo', 'ese', 'contigo', 'haces', 'acuerdo', 'buenos', 'vosotras', 'ésa', 'cierta', 'diferente', 'contra', 'aseguró', 'todas', 'segunda', 'eramos', 'nuestros', 'junto', 'pueden', 'existe', 'propia', 'muchos', 'poco', 'soy', 'buenas', 'muy', 'siendo', 'realizar', 'partir', 'agregó', 'cuándo', 'les', 'dónde', 'cinco', 'e', 'sabemos', 'demasiado', 'él', 'tuyas', 'vuestra', 'hoy', 'es', 'tercero', 'ellos', 'al', 'vuestras', 'tus', 'mías', 'hasta', 'mediante', 'míos', 'tenía', 'tenemos', 'unos', 'antes', 'cuántos', 'vamos', 'podeis', 'mia', 'despues', 'su', 'sera', 'quizá', 'nadie', 'aquello', 'dicen', 'puedo', 'había', 'consideró', 'temprano', 'podria', 'vaya', 'dentro', 'dieron', 'estamos', 'estar', 'vuestro', 'tarde', 'suyo', 'usar', 'tan', 'conseguimos', 'detras', 'pocas', 'hemos', 'ello', 'tengo', 'van', 'encuentra', 'según', 'ciertas', 'claro', 'total', 'ésos', 'saben', 'sabe', 'pasada', 'aquélla', 'nos', 'cuáles', 'mi', 'mal', 'éste', 'para', 'los', 'ver', 'tuvo', 'hacer', 'fueron', 'estados', 'creo', 'como', 'estoy']\n"
          ]
        }
      ],
      "source": [
        "stopwords = spacy.lang.es.stop_words.STOP_WORDS\n",
        "print('Número de stop words: ' + str(len(stopwords)))\n",
        "print('Stop words: ' + str(list(stopwords)))"
      ]
    },
    {
      "cell_type": "markdown",
      "metadata": {
        "id": "B7OXy9voDuIk"
      },
      "source": [
        "* Los objetos de la clase ***Token*** tienen la propiedad ***is_stop*** que devuelve en Boolean indicando si el token es o no una stop word; es decir, si el ***Token*** (o palabra) esta dentro de la lista antes mostrada.\n",
        "\n",
        "\n",
        "* Veamos a continuación como obtener las stop words de una frase con spaCy:"
      ]
    },
    {
      "cell_type": "code",
      "execution_count": 36,
      "metadata": {
        "colab": {
          "base_uri": "https://localhost:8080/"
        },
        "id": "sUDdz6H6DuIk",
        "outputId": "6c4644f7-7f18-4cdc-efff-64d50ed86f4e"
      },
      "outputs": [
        {
          "output_type": "stream",
          "name": "stdout",
          "text": [
            "a\n"
          ]
        }
      ],
      "source": [
        "doc = nlp(\"Un radar multa a Mariano. Rajoy por caminar demasiado rápido\")\n",
        "for word in doc:\n",
        "    if word.is_stop:\n",
        "        print(word)"
      ]
    },
    {
      "cell_type": "markdown",
      "source": [
        "**##Stop words in input**"
      ],
      "metadata": {
        "id": "wIryz9btKS-6"
      }
    },
    {
      "cell_type": "code",
      "source": [
        "stopwords = spacy.lang.en.stop_words.STOP_WORDS\n",
        "print('Número de stop words: ' + str(len(stopwords)))\n",
        "print('Stop words: ' + str(list(stopwords)))"
      ],
      "metadata": {
        "colab": {
          "base_uri": "https://localhost:8080/"
        },
        "id": "W7Vc7qN2Kbhw",
        "outputId": "e51d3f44-6a94-46b0-c12f-f52dec5be9ca"
      },
      "execution_count": 38,
      "outputs": [
        {
          "output_type": "stream",
          "name": "stdout",
          "text": [
            "Número de stop words: 326\n",
            "Stop words: ['nor', 'anyway', 'yet', 'really', 'either', 'whereas', 'hereupon', 'namely', 'other', 'whom', 'per', 'how', 'out', 'a', 'nevertheless', '’re', 'amongst', 'she', 'formerly', 'myself', 'see', 'themselves', 'or', 'has', 'whereby', 'every', 'their', 'each', 'whose', 'least', 'without', 'none', 'serious', 'move', 'yourself', 'via', 'around', 'cannot', 'seems', 'we', 'few', 'regarding', 'were', 'part', 'empty', 'further', 'bottom', 'less', 'used', 'ours', 'once', 'doing', 'that', 'amount', 'became', 'as', 'nobody', 'all', 'one', 'wherever', '’ve', 'only', \"'d\", 'even', 'towards', 'due', 'make', 'you', 'therein', 'six', 'n‘t', 'twenty', 'under', 'whither', 'still', 'otherwise', 'could', 'should', 'anything', 'ten', 'thence', 'already', 'be', 'whoever', 'being', 'there', 'his', 'which', 'so', 'three', 'herein', 'except', '’d', 'of', 'seem', 'hers', '‘ll', 'twelve', 'he', 'next', 'whereupon', 'often', 'sometimes', 'n’t', 'unless', 'may', 'been', 'whether', \"'ve\", 'becomes', 'anyhow', 'where', '’ll', 'to', 'can', 'another', 'if', 'five', 'by', 'rather', 'front', 'just', 'them', 'almost', 'down', 'since', 'whatever', '‘re', 'meanwhile', 'is', 'various', 'get', 'fifty', 'thus', 'several', 'forty', 'such', 'perhaps', 'who', 'alone', 'us', 'itself', 'hereby', 'will', 'does', 'when', 'elsewhere', 'put', 'himself', 'beyond', 'across', 'some', 'do', 'they', 'before', 'seemed', 'again', 'would', 'with', 'back', 'because', 'my', 'but', 'side', 'anywhere', 'ever', 'nowhere', 'might', 'now', '‘d', 'mostly', 'also', 'behind', 'nine', 'above', 'whole', 'everyone', 'latter', 'those', 'have', 'what', 'me', 'not', 'toward', 'through', 'beforehand', 'much', 'call', 'latterly', 'sometime', 'our', 'until', 'in', 'made', 'him', \"n't\", 'somewhere', 'very', 'any', 'something', \"'ll\", 'first', 'at', 'among', 'during', 'seeming', 'sixty', 'an', 'afterwards', 'anyone', 'within', 'say', 'two', \"'m\", 'mine', 'from', 'many', 'here', 'must', 'below', 'go', 'enough', 'more', 'and', 'onto', 'therefore', 'never', 'besides', '‘m', 'herself', 'full', 'name', 'off', 'hence', 'whenever', 'take', 'both', 'about', 'top', \"'s\", 'hereafter', 'this', 'ourselves', 'keep', 'thereafter', 'somehow', 'no', 'else', 'up', 'neither', 'yourselves', '’m', '’s', 'after', 'most', 'whence', 'noone', 'everything', 'thru', 'others', 'its', 'together', 'her', 'become', 'quite', 'wherein', 'thereby', 'moreover', 'give', 'beside', 'i', 'hundred', 'thereupon', 'well', 'indeed', 'throughout', 'it', 'becoming', 'ca', 'then', 'while', 'fifteen', 'over', 'along', 'third', 'former', 'last', 'on', 'the', 'than', 'someone', 'was', 'everywhere', 'done', 'did', 'same', 'these', 'into', 'though', 'yours', 'why', 're', 'always', 'four', '‘s', 'however', 'nothing', 'upon', 'using', 'eleven', 'eight', 'against', 'had', 'although', 'too', 'show', 'am', 'own', 'are', 'for', 'please', \"'re\", 'between', 'your', '‘ve', 'whereafter']\n"
          ]
        }
      ]
    },
    {
      "cell_type": "code",
      "source": [
        "doc6 = nlp(\"Jane bought me these books.Jane bought a book for me.She dropped a line to him. Thank you.She sleeps.I sleep a lot.I was born in Madrid.the cat was chased by the dog.I was born in Madrid during 1995.Out of all this , something good will come.Susan left after the rehearsal. She did it well.She sleeps during the morning, but she sleeps.\")\n",
        "for word in doc6:\n",
        "    if word.is_stop:\n",
        "        print(word)"
      ],
      "metadata": {
        "colab": {
          "base_uri": "https://localhost:8080/"
        },
        "id": "-9aYQOiWKqHp",
        "outputId": "ddbe4dba-efe0-480c-d7e9-08b0b328d5ab"
      },
      "execution_count": 39,
      "outputs": [
        {
          "output_type": "stream",
          "name": "stdout",
          "text": [
            "me\n",
            "these\n",
            "a\n",
            "for\n",
            "me\n",
            "She\n",
            "a\n",
            "to\n",
            "him\n",
            "you\n",
            "She\n",
            "I\n",
            "a\n",
            "I\n",
            "was\n",
            "in\n",
            "was\n",
            "by\n",
            "the\n",
            "I\n",
            "was\n",
            "in\n",
            "during\n",
            "of\n",
            "all\n",
            "this\n",
            "something\n",
            "will\n",
            "after\n",
            "the\n",
            "She\n",
            "did\n",
            "it\n",
            "well\n",
            "She\n",
            "during\n",
            "the\n",
            "but\n",
            "she\n"
          ]
        }
      ]
    },
    {
      "cell_type": "markdown",
      "source": [
        "**##Stop words in output**"
      ],
      "metadata": {
        "id": "0Aql6KYiK4jE"
      }
    },
    {
      "cell_type": "code",
      "source": [
        "output = pd.read_json(\"https://raw.githubusercontent.com/Viny2030/datasets/refs/heads/main/output.json\")"
      ],
      "metadata": {
        "id": "MYwxCg7UK9kk"
      },
      "execution_count": 40,
      "outputs": []
    },
    {
      "cell_type": "code",
      "source": [
        "doc7 = nlp(output.iloc[:,0].astype(str).str.cat(sep=' '))"
      ],
      "metadata": {
        "id": "CjSfSKGILB1t"
      },
      "execution_count": 41,
      "outputs": []
    },
    {
      "cell_type": "code",
      "source": [
        "for word in doc7:\n",
        "    if word.is_stop:\n",
        "        print(word)"
      ],
      "metadata": {
        "colab": {
          "base_uri": "https://localhost:8080/"
        },
        "id": "FdiE7IsFLGym",
        "outputId": "6a8a6ae7-5843-40e5-f73d-d2c411203801"
      },
      "execution_count": 42,
      "outputs": [
        {
          "output_type": "stream",
          "name": "stdout",
          "text": [
            "I\n",
            "was\n",
            "in\n",
            "I\n",
            "was\n",
            "in\n",
            "during\n",
            "I\n",
            "None\n",
            "in\n"
          ]
        }
      ]
    },
    {
      "cell_type": "markdown",
      "metadata": {
        "id": "disRZZqvDuIl"
      },
      "source": [
        "## -Part of Speech (PoS)\n",
        "\n",
        "* En ***spaCy*** el PoS lo divide en 3 tipos de tags que son:\n",
        "    1. **pos**: etiqueta simple de alto nivel (verbo, nombre, adjetivo, etc).\n",
        "    2. **tag**: etiqueta con más nivel de detalle que el pos.\n",
        "    3. **dep**: dependencia sintáctica para ver la relación entre tokens.\n",
        "\n",
        "\n",
        "* Estos 3 tipos son propiedades de la clase ***Token***:"
      ]
    },
    {
      "cell_type": "code",
      "execution_count": 43,
      "metadata": {
        "scrolled": false,
        "colab": {
          "base_uri": "https://localhost:8080/",
          "height": 457
        },
        "id": "RvbnyK22DuIl",
        "outputId": "4b7886e8-9121-48dc-fca5-52ba42e89930"
      },
      "outputs": [
        {
          "output_type": "execute_result",
          "data": {
            "text/plain": [
              "         Text    PoS  TAG       DEP\n",
              "0          Un  PROPN  NNP  compound\n",
              "1       radar   NOUN   NN  compound\n",
              "2       multa  PROPN  NNP     nsubj\n",
              "3           a    DET   DT       det\n",
              "4     Mariano  PROPN  NNP  compound\n",
              "5       Rajoy  PROPN  NNP     appos\n",
              "6         con  PROPN  NNP      ROOT\n",
              "7         300    NUM   CD    nummod\n",
              "8           €   NOUN   NN  compound\n",
              "9         por   NOUN   NN  compound\n",
              "10    caminar   NOUN   NN  compound\n",
              "11  demasiado  PROPN  NNP  compound\n",
              "12     rápido   NOUN   NN      dobj"
            ],
            "text/html": [
              "\n",
              "  <div id=\"df-0f2fb6e2-6cdc-4c1b-b285-dbb3b484d36b\" class=\"colab-df-container\">\n",
              "    <div>\n",
              "<style scoped>\n",
              "    .dataframe tbody tr th:only-of-type {\n",
              "        vertical-align: middle;\n",
              "    }\n",
              "\n",
              "    .dataframe tbody tr th {\n",
              "        vertical-align: top;\n",
              "    }\n",
              "\n",
              "    .dataframe thead th {\n",
              "        text-align: right;\n",
              "    }\n",
              "</style>\n",
              "<table border=\"1\" class=\"dataframe\">\n",
              "  <thead>\n",
              "    <tr style=\"text-align: right;\">\n",
              "      <th></th>\n",
              "      <th>Text</th>\n",
              "      <th>PoS</th>\n",
              "      <th>TAG</th>\n",
              "      <th>DEP</th>\n",
              "    </tr>\n",
              "  </thead>\n",
              "  <tbody>\n",
              "    <tr>\n",
              "      <th>0</th>\n",
              "      <td>Un</td>\n",
              "      <td>PROPN</td>\n",
              "      <td>NNP</td>\n",
              "      <td>compound</td>\n",
              "    </tr>\n",
              "    <tr>\n",
              "      <th>1</th>\n",
              "      <td>radar</td>\n",
              "      <td>NOUN</td>\n",
              "      <td>NN</td>\n",
              "      <td>compound</td>\n",
              "    </tr>\n",
              "    <tr>\n",
              "      <th>2</th>\n",
              "      <td>multa</td>\n",
              "      <td>PROPN</td>\n",
              "      <td>NNP</td>\n",
              "      <td>nsubj</td>\n",
              "    </tr>\n",
              "    <tr>\n",
              "      <th>3</th>\n",
              "      <td>a</td>\n",
              "      <td>DET</td>\n",
              "      <td>DT</td>\n",
              "      <td>det</td>\n",
              "    </tr>\n",
              "    <tr>\n",
              "      <th>4</th>\n",
              "      <td>Mariano</td>\n",
              "      <td>PROPN</td>\n",
              "      <td>NNP</td>\n",
              "      <td>compound</td>\n",
              "    </tr>\n",
              "    <tr>\n",
              "      <th>5</th>\n",
              "      <td>Rajoy</td>\n",
              "      <td>PROPN</td>\n",
              "      <td>NNP</td>\n",
              "      <td>appos</td>\n",
              "    </tr>\n",
              "    <tr>\n",
              "      <th>6</th>\n",
              "      <td>con</td>\n",
              "      <td>PROPN</td>\n",
              "      <td>NNP</td>\n",
              "      <td>ROOT</td>\n",
              "    </tr>\n",
              "    <tr>\n",
              "      <th>7</th>\n",
              "      <td>300</td>\n",
              "      <td>NUM</td>\n",
              "      <td>CD</td>\n",
              "      <td>nummod</td>\n",
              "    </tr>\n",
              "    <tr>\n",
              "      <th>8</th>\n",
              "      <td>€</td>\n",
              "      <td>NOUN</td>\n",
              "      <td>NN</td>\n",
              "      <td>compound</td>\n",
              "    </tr>\n",
              "    <tr>\n",
              "      <th>9</th>\n",
              "      <td>por</td>\n",
              "      <td>NOUN</td>\n",
              "      <td>NN</td>\n",
              "      <td>compound</td>\n",
              "    </tr>\n",
              "    <tr>\n",
              "      <th>10</th>\n",
              "      <td>caminar</td>\n",
              "      <td>NOUN</td>\n",
              "      <td>NN</td>\n",
              "      <td>compound</td>\n",
              "    </tr>\n",
              "    <tr>\n",
              "      <th>11</th>\n",
              "      <td>demasiado</td>\n",
              "      <td>PROPN</td>\n",
              "      <td>NNP</td>\n",
              "      <td>compound</td>\n",
              "    </tr>\n",
              "    <tr>\n",
              "      <th>12</th>\n",
              "      <td>rápido</td>\n",
              "      <td>NOUN</td>\n",
              "      <td>NN</td>\n",
              "      <td>dobj</td>\n",
              "    </tr>\n",
              "  </tbody>\n",
              "</table>\n",
              "</div>\n",
              "    <div class=\"colab-df-buttons\">\n",
              "\n",
              "  <div class=\"colab-df-container\">\n",
              "    <button class=\"colab-df-convert\" onclick=\"convertToInteractive('df-0f2fb6e2-6cdc-4c1b-b285-dbb3b484d36b')\"\n",
              "            title=\"Convert this dataframe to an interactive table.\"\n",
              "            style=\"display:none;\">\n",
              "\n",
              "  <svg xmlns=\"http://www.w3.org/2000/svg\" height=\"24px\" viewBox=\"0 -960 960 960\">\n",
              "    <path d=\"M120-120v-720h720v720H120Zm60-500h600v-160H180v160Zm220 220h160v-160H400v160Zm0 220h160v-160H400v160ZM180-400h160v-160H180v160Zm440 0h160v-160H620v160ZM180-180h160v-160H180v160Zm440 0h160v-160H620v160Z\"/>\n",
              "  </svg>\n",
              "    </button>\n",
              "\n",
              "  <style>\n",
              "    .colab-df-container {\n",
              "      display:flex;\n",
              "      gap: 12px;\n",
              "    }\n",
              "\n",
              "    .colab-df-convert {\n",
              "      background-color: #E8F0FE;\n",
              "      border: none;\n",
              "      border-radius: 50%;\n",
              "      cursor: pointer;\n",
              "      display: none;\n",
              "      fill: #1967D2;\n",
              "      height: 32px;\n",
              "      padding: 0 0 0 0;\n",
              "      width: 32px;\n",
              "    }\n",
              "\n",
              "    .colab-df-convert:hover {\n",
              "      background-color: #E2EBFA;\n",
              "      box-shadow: 0px 1px 2px rgba(60, 64, 67, 0.3), 0px 1px 3px 1px rgba(60, 64, 67, 0.15);\n",
              "      fill: #174EA6;\n",
              "    }\n",
              "\n",
              "    .colab-df-buttons div {\n",
              "      margin-bottom: 4px;\n",
              "    }\n",
              "\n",
              "    [theme=dark] .colab-df-convert {\n",
              "      background-color: #3B4455;\n",
              "      fill: #D2E3FC;\n",
              "    }\n",
              "\n",
              "    [theme=dark] .colab-df-convert:hover {\n",
              "      background-color: #434B5C;\n",
              "      box-shadow: 0px 1px 3px 1px rgba(0, 0, 0, 0.15);\n",
              "      filter: drop-shadow(0px 1px 2px rgba(0, 0, 0, 0.3));\n",
              "      fill: #FFFFFF;\n",
              "    }\n",
              "  </style>\n",
              "\n",
              "    <script>\n",
              "      const buttonEl =\n",
              "        document.querySelector('#df-0f2fb6e2-6cdc-4c1b-b285-dbb3b484d36b button.colab-df-convert');\n",
              "      buttonEl.style.display =\n",
              "        google.colab.kernel.accessAllowed ? 'block' : 'none';\n",
              "\n",
              "      async function convertToInteractive(key) {\n",
              "        const element = document.querySelector('#df-0f2fb6e2-6cdc-4c1b-b285-dbb3b484d36b');\n",
              "        const dataTable =\n",
              "          await google.colab.kernel.invokeFunction('convertToInteractive',\n",
              "                                                    [key], {});\n",
              "        if (!dataTable) return;\n",
              "\n",
              "        const docLinkHtml = 'Like what you see? Visit the ' +\n",
              "          '<a target=\"_blank\" href=https://colab.research.google.com/notebooks/data_table.ipynb>data table notebook</a>'\n",
              "          + ' to learn more about interactive tables.';\n",
              "        element.innerHTML = '';\n",
              "        dataTable['output_type'] = 'display_data';\n",
              "        await google.colab.output.renderOutput(dataTable, element);\n",
              "        const docLink = document.createElement('div');\n",
              "        docLink.innerHTML = docLinkHtml;\n",
              "        element.appendChild(docLink);\n",
              "      }\n",
              "    </script>\n",
              "  </div>\n",
              "\n",
              "\n",
              "<div id=\"df-1f734ccd-35fb-4842-982b-ad832239c1ac\">\n",
              "  <button class=\"colab-df-quickchart\" onclick=\"quickchart('df-1f734ccd-35fb-4842-982b-ad832239c1ac')\"\n",
              "            title=\"Suggest charts\"\n",
              "            style=\"display:none;\">\n",
              "\n",
              "<svg xmlns=\"http://www.w3.org/2000/svg\" height=\"24px\"viewBox=\"0 0 24 24\"\n",
              "     width=\"24px\">\n",
              "    <g>\n",
              "        <path d=\"M19 3H5c-1.1 0-2 .9-2 2v14c0 1.1.9 2 2 2h14c1.1 0 2-.9 2-2V5c0-1.1-.9-2-2-2zM9 17H7v-7h2v7zm4 0h-2V7h2v10zm4 0h-2v-4h2v4z\"/>\n",
              "    </g>\n",
              "</svg>\n",
              "  </button>\n",
              "\n",
              "<style>\n",
              "  .colab-df-quickchart {\n",
              "      --bg-color: #E8F0FE;\n",
              "      --fill-color: #1967D2;\n",
              "      --hover-bg-color: #E2EBFA;\n",
              "      --hover-fill-color: #174EA6;\n",
              "      --disabled-fill-color: #AAA;\n",
              "      --disabled-bg-color: #DDD;\n",
              "  }\n",
              "\n",
              "  [theme=dark] .colab-df-quickchart {\n",
              "      --bg-color: #3B4455;\n",
              "      --fill-color: #D2E3FC;\n",
              "      --hover-bg-color: #434B5C;\n",
              "      --hover-fill-color: #FFFFFF;\n",
              "      --disabled-bg-color: #3B4455;\n",
              "      --disabled-fill-color: #666;\n",
              "  }\n",
              "\n",
              "  .colab-df-quickchart {\n",
              "    background-color: var(--bg-color);\n",
              "    border: none;\n",
              "    border-radius: 50%;\n",
              "    cursor: pointer;\n",
              "    display: none;\n",
              "    fill: var(--fill-color);\n",
              "    height: 32px;\n",
              "    padding: 0;\n",
              "    width: 32px;\n",
              "  }\n",
              "\n",
              "  .colab-df-quickchart:hover {\n",
              "    background-color: var(--hover-bg-color);\n",
              "    box-shadow: 0 1px 2px rgba(60, 64, 67, 0.3), 0 1px 3px 1px rgba(60, 64, 67, 0.15);\n",
              "    fill: var(--button-hover-fill-color);\n",
              "  }\n",
              "\n",
              "  .colab-df-quickchart-complete:disabled,\n",
              "  .colab-df-quickchart-complete:disabled:hover {\n",
              "    background-color: var(--disabled-bg-color);\n",
              "    fill: var(--disabled-fill-color);\n",
              "    box-shadow: none;\n",
              "  }\n",
              "\n",
              "  .colab-df-spinner {\n",
              "    border: 2px solid var(--fill-color);\n",
              "    border-color: transparent;\n",
              "    border-bottom-color: var(--fill-color);\n",
              "    animation:\n",
              "      spin 1s steps(1) infinite;\n",
              "  }\n",
              "\n",
              "  @keyframes spin {\n",
              "    0% {\n",
              "      border-color: transparent;\n",
              "      border-bottom-color: var(--fill-color);\n",
              "      border-left-color: var(--fill-color);\n",
              "    }\n",
              "    20% {\n",
              "      border-color: transparent;\n",
              "      border-left-color: var(--fill-color);\n",
              "      border-top-color: var(--fill-color);\n",
              "    }\n",
              "    30% {\n",
              "      border-color: transparent;\n",
              "      border-left-color: var(--fill-color);\n",
              "      border-top-color: var(--fill-color);\n",
              "      border-right-color: var(--fill-color);\n",
              "    }\n",
              "    40% {\n",
              "      border-color: transparent;\n",
              "      border-right-color: var(--fill-color);\n",
              "      border-top-color: var(--fill-color);\n",
              "    }\n",
              "    60% {\n",
              "      border-color: transparent;\n",
              "      border-right-color: var(--fill-color);\n",
              "    }\n",
              "    80% {\n",
              "      border-color: transparent;\n",
              "      border-right-color: var(--fill-color);\n",
              "      border-bottom-color: var(--fill-color);\n",
              "    }\n",
              "    90% {\n",
              "      border-color: transparent;\n",
              "      border-bottom-color: var(--fill-color);\n",
              "    }\n",
              "  }\n",
              "</style>\n",
              "\n",
              "  <script>\n",
              "    async function quickchart(key) {\n",
              "      const quickchartButtonEl =\n",
              "        document.querySelector('#' + key + ' button');\n",
              "      quickchartButtonEl.disabled = true;  // To prevent multiple clicks.\n",
              "      quickchartButtonEl.classList.add('colab-df-spinner');\n",
              "      try {\n",
              "        const charts = await google.colab.kernel.invokeFunction(\n",
              "            'suggestCharts', [key], {});\n",
              "      } catch (error) {\n",
              "        console.error('Error during call to suggestCharts:', error);\n",
              "      }\n",
              "      quickchartButtonEl.classList.remove('colab-df-spinner');\n",
              "      quickchartButtonEl.classList.add('colab-df-quickchart-complete');\n",
              "    }\n",
              "    (() => {\n",
              "      let quickchartButtonEl =\n",
              "        document.querySelector('#df-1f734ccd-35fb-4842-982b-ad832239c1ac button');\n",
              "      quickchartButtonEl.style.display =\n",
              "        google.colab.kernel.accessAllowed ? 'block' : 'none';\n",
              "    })();\n",
              "  </script>\n",
              "</div>\n",
              "\n",
              "    </div>\n",
              "  </div>\n"
            ],
            "application/vnd.google.colaboratory.intrinsic+json": {
              "type": "dataframe",
              "summary": "{\n  \"name\": \"pd\",\n  \"rows\": 13,\n  \"fields\": [\n    {\n      \"column\": \"Text\",\n      \"properties\": {\n        \"dtype\": \"string\",\n        \"num_unique_values\": 13,\n        \"samples\": [\n          \"demasiado\",\n          \"por\",\n          \"Un\"\n        ],\n        \"semantic_type\": \"\",\n        \"description\": \"\"\n      }\n    },\n    {\n      \"column\": \"PoS\",\n      \"properties\": {\n        \"dtype\": \"category\",\n        \"num_unique_values\": 4,\n        \"samples\": [\n          \"NOUN\",\n          \"NUM\",\n          \"PROPN\"\n        ],\n        \"semantic_type\": \"\",\n        \"description\": \"\"\n      }\n    },\n    {\n      \"column\": \"TAG\",\n      \"properties\": {\n        \"dtype\": \"category\",\n        \"num_unique_values\": 4,\n        \"samples\": [\n          \"NN\",\n          \"CD\",\n          \"NNP\"\n        ],\n        \"semantic_type\": \"\",\n        \"description\": \"\"\n      }\n    },\n    {\n      \"column\": \"DEP\",\n      \"properties\": {\n        \"dtype\": \"string\",\n        \"num_unique_values\": 7,\n        \"samples\": [\n          \"compound\",\n          \"nsubj\",\n          \"nummod\"\n        ],\n        \"semantic_type\": \"\",\n        \"description\": \"\"\n      }\n    }\n  ]\n}"
            }
          },
          "metadata": {},
          "execution_count": 43
        }
      ],
      "source": [
        "doc = nlp(\"Un radar multa a Mariano Rajoy con 300€ por caminar demasiado rápido\")\n",
        "pos = [[tk.text, tk.pos_, tk.tag_, tk.dep_] for tk in doc]\n",
        "\n",
        "import pandas as pd\n",
        "pd.DataFrame(pos, columns=[\"Text\", \"PoS\", \"TAG\", \"DEP\"])"
      ]
    },
    {
      "cell_type": "markdown",
      "source": [
        "# **-Part of Speech (PoS)_input**\n",
        "En spaCy el PoS lo divide en 3 tipos de tags que son:\n",
        "pos: etiqueta simple de alto nivel (verbo, nombre, adjetivo, etc).\n",
        "tag: etiqueta con más nivel de detalle que el pos.\n",
        "dep: dependencia sintáctica para ver la relación entre tokens.\n",
        "Estos 3 tipos son propiedades de la clase Token:"
      ],
      "metadata": {
        "id": "ufqU6vebLVK5"
      }
    },
    {
      "cell_type": "markdown",
      "metadata": {
        "id": "GPFYmC3IDuIm"
      },
      "source": [
        "## -Named Entity Recognition (NER)\n",
        "\n",
        "* Named Entity Recognition (Reconocimiento de Entidades Nombradas) es una tarea de extracción de información que busca localizar y clasificar en categorías predefinidas, como personas, organizaciones, lugares, expresiones de tiempo y cantidades, las entidades nombradas encontradas en un texto."
      ]
    },
    {
      "cell_type": "code",
      "execution_count": null,
      "metadata": {
        "id": "Z9yLFrweDuIn",
        "outputId": "52cdd97e-419b-4f38-c047-877709359531"
      },
      "outputs": [
        {
          "name": "stdout",
          "output_type": "stream",
          "text": [
            "Leo Messi - PER - Named person or family.\n",
            "FC Barcelona - ORG - Companies, agencies, institutions, etc.\n",
            "La Liga - MISC - Miscellaneous entities, e.g. events, nationalities, products or works of art\n"
          ]
        }
      ],
      "source": [
        "doc = nlp(\"Leo Messi jugador del FC Barcelona marco 34 en La Liga 2017-18\")\n",
        "for entity in doc.ents:\n",
        "    print(entity.text + ' - ' + entity.label_ + ' - ' + str(spacy.explain(entity.label_)))"
      ]
    },
    {
      "cell_type": "markdown",
      "metadata": {
        "id": "9n4mCTMlDuIo"
      },
      "source": [
        "\n",
        "<hr>\n",
        "\n",
        "\n",
        "# -Resumen\n",
        "\n",
        "* Una vez creado el documento a partir del texto plano, tenemos ese texto tokenizado.\n",
        "\n",
        "\n",
        "* Los objetos de la clase ***Token*** tienen una serie de propiedades que permiten obtener mucha información relativa a los tokens (o palabras).\n",
        "\n",
        "\n",
        "* Haciendo un resumen de lo visto anteriormente podemos obtener la siguiente información de las palabras de un texto:"
      ]
    },
    {
      "cell_type": "code",
      "execution_count": null,
      "metadata": {
        "scrolled": false,
        "id": "UlKlB_A-DuIo",
        "outputId": "14803d4c-40d3-46ea-d5c4-96897e520f74"
      },
      "outputs": [
        {
          "data": {
            "text/html": [
              "<div>\n",
              "<style scoped>\n",
              "    .dataframe tbody tr th:only-of-type {\n",
              "        vertical-align: middle;\n",
              "    }\n",
              "\n",
              "    .dataframe tbody tr th {\n",
              "        vertical-align: top;\n",
              "    }\n",
              "\n",
              "    .dataframe thead th {\n",
              "        text-align: right;\n",
              "    }\n",
              "</style>\n",
              "<table border=\"1\" class=\"dataframe\">\n",
              "  <thead>\n",
              "    <tr style=\"text-align: right;\">\n",
              "      <th></th>\n",
              "      <th>Text</th>\n",
              "      <th>Lema</th>\n",
              "      <th>PoS</th>\n",
              "      <th>TAG</th>\n",
              "      <th>DEP</th>\n",
              "      <th>Shape</th>\n",
              "      <th>Alpha</th>\n",
              "      <th>is Stop word</th>\n",
              "    </tr>\n",
              "  </thead>\n",
              "  <tbody>\n",
              "    <tr>\n",
              "      <th>0</th>\n",
              "      <td>Un</td>\n",
              "      <td>uno</td>\n",
              "      <td>DET</td>\n",
              "      <td>DET</td>\n",
              "      <td>det</td>\n",
              "      <td>Xx</td>\n",
              "      <td>True</td>\n",
              "      <td>True</td>\n",
              "    </tr>\n",
              "    <tr>\n",
              "      <th>1</th>\n",
              "      <td>radar</td>\n",
              "      <td>radar</td>\n",
              "      <td>NOUN</td>\n",
              "      <td>NOUN</td>\n",
              "      <td>amod</td>\n",
              "      <td>xxxx</td>\n",
              "      <td>True</td>\n",
              "      <td>False</td>\n",
              "    </tr>\n",
              "    <tr>\n",
              "      <th>2</th>\n",
              "      <td>multa</td>\n",
              "      <td>multar</td>\n",
              "      <td>VERB</td>\n",
              "      <td>VERB</td>\n",
              "      <td>ROOT</td>\n",
              "      <td>xxxx</td>\n",
              "      <td>True</td>\n",
              "      <td>False</td>\n",
              "    </tr>\n",
              "    <tr>\n",
              "      <th>3</th>\n",
              "      <td>a</td>\n",
              "      <td>a</td>\n",
              "      <td>ADP</td>\n",
              "      <td>ADP</td>\n",
              "      <td>case</td>\n",
              "      <td>x</td>\n",
              "      <td>True</td>\n",
              "      <td>False</td>\n",
              "    </tr>\n",
              "    <tr>\n",
              "      <th>4</th>\n",
              "      <td>Mariano</td>\n",
              "      <td>Mariano</td>\n",
              "      <td>PROPN</td>\n",
              "      <td>PROPN</td>\n",
              "      <td>nmod</td>\n",
              "      <td>Xxxxx</td>\n",
              "      <td>True</td>\n",
              "      <td>False</td>\n",
              "    </tr>\n",
              "    <tr>\n",
              "      <th>5</th>\n",
              "      <td>Rajoy</td>\n",
              "      <td>Rajoy</td>\n",
              "      <td>PROPN</td>\n",
              "      <td>PROPN</td>\n",
              "      <td>flat</td>\n",
              "      <td>Xxxxx</td>\n",
              "      <td>True</td>\n",
              "      <td>False</td>\n",
              "    </tr>\n",
              "    <tr>\n",
              "      <th>6</th>\n",
              "      <td>con</td>\n",
              "      <td>con</td>\n",
              "      <td>ADP</td>\n",
              "      <td>ADP</td>\n",
              "      <td>case</td>\n",
              "      <td>xxx</td>\n",
              "      <td>True</td>\n",
              "      <td>True</td>\n",
              "    </tr>\n",
              "    <tr>\n",
              "      <th>7</th>\n",
              "      <td>300</td>\n",
              "      <td>300</td>\n",
              "      <td>NUM</td>\n",
              "      <td>NUM</td>\n",
              "      <td>nummod</td>\n",
              "      <td>ddd</td>\n",
              "      <td>False</td>\n",
              "      <td>False</td>\n",
              "    </tr>\n",
              "    <tr>\n",
              "      <th>8</th>\n",
              "      <td>€</td>\n",
              "      <td>€</td>\n",
              "      <td>NOUN</td>\n",
              "      <td>NOUN</td>\n",
              "      <td>nmod</td>\n",
              "      <td>€</td>\n",
              "      <td>False</td>\n",
              "      <td>False</td>\n",
              "    </tr>\n",
              "    <tr>\n",
              "      <th>9</th>\n",
              "      <td>por</td>\n",
              "      <td>por</td>\n",
              "      <td>ADP</td>\n",
              "      <td>ADP</td>\n",
              "      <td>mark</td>\n",
              "      <td>xxx</td>\n",
              "      <td>True</td>\n",
              "      <td>True</td>\n",
              "    </tr>\n",
              "    <tr>\n",
              "      <th>10</th>\n",
              "      <td>caminar</td>\n",
              "      <td>caminar</td>\n",
              "      <td>VERB</td>\n",
              "      <td>VERB</td>\n",
              "      <td>acl</td>\n",
              "      <td>xxxx</td>\n",
              "      <td>True</td>\n",
              "      <td>False</td>\n",
              "    </tr>\n",
              "    <tr>\n",
              "      <th>11</th>\n",
              "      <td>demasiado</td>\n",
              "      <td>demasiado</td>\n",
              "      <td>ADV</td>\n",
              "      <td>ADV</td>\n",
              "      <td>advmod</td>\n",
              "      <td>xxxx</td>\n",
              "      <td>True</td>\n",
              "      <td>True</td>\n",
              "    </tr>\n",
              "    <tr>\n",
              "      <th>12</th>\n",
              "      <td>rápido</td>\n",
              "      <td>rápido</td>\n",
              "      <td>ADJ</td>\n",
              "      <td>ADJ</td>\n",
              "      <td>amod</td>\n",
              "      <td>xxxx</td>\n",
              "      <td>True</td>\n",
              "      <td>False</td>\n",
              "    </tr>\n",
              "  </tbody>\n",
              "</table>\n",
              "</div>"
            ],
            "text/plain": [
              "         Text       Lema    PoS    TAG     DEP  Shape  Alpha  is Stop word\n",
              "0          Un        uno    DET    DET     det     Xx   True          True\n",
              "1       radar      radar   NOUN   NOUN    amod   xxxx   True         False\n",
              "2       multa     multar   VERB   VERB    ROOT   xxxx   True         False\n",
              "3           a          a    ADP    ADP    case      x   True         False\n",
              "4     Mariano    Mariano  PROPN  PROPN    nmod  Xxxxx   True         False\n",
              "5       Rajoy      Rajoy  PROPN  PROPN    flat  Xxxxx   True         False\n",
              "6         con        con    ADP    ADP    case    xxx   True          True\n",
              "7         300        300    NUM    NUM  nummod    ddd  False         False\n",
              "8           €          €   NOUN   NOUN    nmod      €  False         False\n",
              "9         por        por    ADP    ADP    mark    xxx   True          True\n",
              "10    caminar    caminar   VERB   VERB     acl   xxxx   True         False\n",
              "11  demasiado  demasiado    ADV    ADV  advmod   xxxx   True          True\n",
              "12     rápido     rápido    ADJ    ADJ    amod   xxxx   True         False"
            ]
          },
          "execution_count": 9,
          "metadata": {},
          "output_type": "execute_result"
        }
      ],
      "source": [
        "import spacy\n",
        "import pandas as pd\n",
        "\n",
        "nlp = spacy.load('es_core_news_sm')\n",
        "doc = nlp(\"Un radar multa a Mariano Rajoy con 300€ por caminar demasiado rápido\")\n",
        "\n",
        "result = [[tk.text, tk.lemma_, tk.pos_, tk.tag_, tk.dep_, tk.shape_, tk.is_alpha, tk.is_stop] for tk in doc]\n",
        "pd.DataFrame(result, columns=[\"Text\", \"Lema\", \"PoS\", \"TAG\", \"DEP\", \"Shape\", \"Alpha\", \"is Stop word\"])"
      ]
    },
    {
      "cell_type": "markdown",
      "metadata": {
        "id": "O_RfoiboDuIp"
      },
      "source": [
        "#### Para más información visitar el siguiente enlace: https://spacy.io/usage/spacy-101#annotations"
      ]
    }
  ],
  "metadata": {
    "kernelspec": {
      "display_name": "Python 3 (ipykernel)",
      "language": "python",
      "name": "python3"
    },
    "language_info": {
      "codemirror_mode": {
        "name": "ipython",
        "version": 3
      },
      "file_extension": ".py",
      "mimetype": "text/x-python",
      "name": "python",
      "nbconvert_exporter": "python",
      "pygments_lexer": "ipython3",
      "version": "3.7.11"
    },
    "colab": {
      "provenance": [],
      "include_colab_link": true
    }
  },
  "nbformat": 4,
  "nbformat_minor": 0
}